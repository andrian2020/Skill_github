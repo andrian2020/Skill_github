{
  "nbformat": 4,
  "nbformat_minor": 0,
  "metadata": {
    "colab": {
      "name": "Classif_practice.ipynb",
      "provenance": [],
      "authorship_tag": "ABX9TyP1Cz+4924gBn3ZuSHvsc8G",
      "include_colab_link": true
    },
    "kernelspec": {
      "name": "python3",
      "display_name": "Python 3"
    },
    "language_info": {
      "name": "python"
    }
  },
  "cells": [
    {
      "cell_type": "markdown",
      "metadata": {
        "id": "view-in-github",
        "colab_type": "text"
      },
      "source": [
        "<a href=\"https://colab.research.google.com/github/andrian2020/Skill_github/blob/master/Classif_practice.ipynb\" target=\"_parent\"><img src=\"https://colab.research.google.com/assets/colab-badge.svg\" alt=\"Open In Colab\"/></a>"
      ]
    },
    {
      "cell_type": "code",
      "metadata": {
        "id": "cBDYeRf67xJR"
      },
      "source": [
        "import numpy as np\n",
        "from sklearn import metrics"
      ],
      "execution_count": 1,
      "outputs": []
    },
    {
      "cell_type": "code",
      "metadata": {
        "id": "44JVJS-e8OOP"
      },
      "source": [
        "true_labels = np.array([0,1,0,0,1,0,1,0,1,1])\n",
        "predicted_labels = np.array([0,1,0,1,1,1,1,1,1,1])"
      ],
      "execution_count": 13,
      "outputs": []
    },
    {
      "cell_type": "code",
      "metadata": {
        "id": "HHijPUAW8s3h"
      },
      "source": [
        "M  = metrics.confusion_matrix(true_labels,predicted_labels)"
      ],
      "execution_count": 14,
      "outputs": []
    },
    {
      "cell_type": "code",
      "metadata": {
        "colab": {
          "base_uri": "https://localhost:8080/"
        },
        "id": "-oo3__Yh9EVm",
        "outputId": "e81a0c66-47fc-4278-a87b-ac92b31eff71"
      },
      "source": [
        "M"
      ],
      "execution_count": 15,
      "outputs": [
        {
          "output_type": "execute_result",
          "data": {
            "text/plain": [
              "array([[2, 3],\n",
              "       [0, 5]])"
            ]
          },
          "metadata": {
            "tags": []
          },
          "execution_count": 15
        }
      ]
    },
    {
      "cell_type": "code",
      "metadata": {
        "colab": {
          "base_uri": "https://localhost:8080/"
        },
        "id": "OKW29fdm9FHm",
        "outputId": "12f1c842-a3f1-49e9-8baf-725343cb57b7"
      },
      "source": [
        "metrics.accuracy_score(true_labels,predicted_labels)"
      ],
      "execution_count": 16,
      "outputs": [
        {
          "output_type": "execute_result",
          "data": {
            "text/plain": [
              "0.7"
            ]
          },
          "metadata": {
            "tags": []
          },
          "execution_count": 16
        }
      ]
    },
    {
      "cell_type": "code",
      "metadata": {
        "id": "rlL2r-22_LSo"
      },
      "source": [
        "import pandas as pd\n"
      ],
      "execution_count": 17,
      "outputs": []
    },
    {
      "cell_type": "code",
      "metadata": {
        "id": "q4N4Wqt-D356"
      },
      "source": [
        "from sklearn.datasets import make_classification, make_regression\n",
        "from sklearn.model_selection import train_test_split\n",
        "from sklearn.ensemble import RandomForestClassifier, RandomForestRegressor\n",
        "from sklearn.linear_model import LogisticRegression, LinearRegression\n",
        "from sklearn.metrics import f1_score,mean_squared_error"
      ],
      "execution_count": 33,
      "outputs": []
    },
    {
      "cell_type": "markdown",
      "metadata": {
        "id": "0LH6zomRDzGR"
      },
      "source": [
        "Классификация\n"
      ]
    },
    {
      "cell_type": "code",
      "metadata": {
        "id": "kB4v0wYCDwXW"
      },
      "source": [
        "data = make_classification(n_samples=10000)"
      ],
      "execution_count": 19,
      "outputs": []
    },
    {
      "cell_type": "code",
      "metadata": {
        "id": "TMBSy0FXEfvl"
      },
      "source": [
        "X,y = data[0],data[1]"
      ],
      "execution_count": 20,
      "outputs": []
    },
    {
      "cell_type": "code",
      "metadata": {
        "id": "6smy1C3TEk4m"
      },
      "source": [
        "X_train,X_test,Y_train,Y_test = train_test_split(X,y)\n"
      ],
      "execution_count": 21,
      "outputs": []
    },
    {
      "cell_type": "code",
      "metadata": {
        "colab": {
          "base_uri": "https://localhost:8080/"
        },
        "id": "n9drbSsFEvgu",
        "outputId": "decdb9f0-f08d-4e5c-f286-ed5fbe51a5ee"
      },
      "source": [
        "clf = RandomForestClassifier()\n",
        "clf.fit(X_train,Y_train)\n",
        "y_pred = clf.predict(X_test)\n",
        "f1_score(Y_test,y_pred)"
      ],
      "execution_count": 22,
      "outputs": [
        {
          "output_type": "execute_result",
          "data": {
            "text/plain": [
              "0.9124087591240877"
            ]
          },
          "metadata": {
            "tags": []
          },
          "execution_count": 22
        }
      ]
    },
    {
      "cell_type": "code",
      "metadata": {
        "colab": {
          "base_uri": "https://localhost:8080/"
        },
        "id": "JAmOtNXCFGAO",
        "outputId": "6d244341-8707-485f-f8f1-6c0057dc770e"
      },
      "source": [
        "clf1 = LogisticRegression()\n",
        "clf1.fit(X_train,Y_train)\n",
        "y_pred = clf1.predict(X_test)\n",
        "f1_score(Y_test,y_pred)"
      ],
      "execution_count": 28,
      "outputs": [
        {
          "output_type": "execute_result",
          "data": {
            "text/plain": [
              "0.8761904761904762"
            ]
          },
          "metadata": {
            "tags": []
          },
          "execution_count": 28
        }
      ]
    },
    {
      "cell_type": "markdown",
      "metadata": {
        "id": "cwthtiCHF86P"
      },
      "source": [
        "Регрессия\n"
      ]
    },
    {
      "cell_type": "code",
      "metadata": {
        "id": "wsgdSTdvF1aW"
      },
      "source": [
        "data = make_regression(n_samples=1000)"
      ],
      "execution_count": 29,
      "outputs": []
    },
    {
      "cell_type": "code",
      "metadata": {
        "id": "1ufpKrzWGHSm"
      },
      "source": [
        "X,y = data[0],data[1]"
      ],
      "execution_count": 30,
      "outputs": []
    },
    {
      "cell_type": "code",
      "metadata": {
        "id": "jqbwtlKcGLBV"
      },
      "source": [
        "X_train,X_test,Y_train,Y_test = train_test_split(X,y)"
      ],
      "execution_count": 31,
      "outputs": []
    },
    {
      "cell_type": "code",
      "metadata": {
        "colab": {
          "base_uri": "https://localhost:8080/"
        },
        "id": "hm3NnhaCGT_d",
        "outputId": "5ef4f170-4bf1-4f41-c3cc-2052f6a491a2"
      },
      "source": [
        "reg = RandomForestRegressor()\n",
        "reg.fit(X_train,Y_train)\n",
        "y_pred = reg.predict(X_test)\n",
        "np.sqrt(mean_squared_error(Y_test,y_pred))"
      ],
      "execution_count": 32,
      "outputs": [
        {
          "output_type": "execute_result",
          "data": {
            "text/plain": [
              "105.59703248442727"
            ]
          },
          "metadata": {
            "tags": []
          },
          "execution_count": 32
        }
      ]
    },
    {
      "cell_type": "code",
      "metadata": {
        "colab": {
          "base_uri": "https://localhost:8080/"
        },
        "id": "3MWN3D-wIjkT",
        "outputId": "e83213f7-23c6-4474-f4cc-02c231cdc4ac"
      },
      "source": [
        "reg = RandomForestRegressor(max_depth=8)\n",
        "reg.fit(X_train,Y_train)\n",
        "y_pred = reg.predict(X_test)\n",
        "np.sqrt(mean_squared_error(Y_test,y_pred))"
      ],
      "execution_count": 48,
      "outputs": [
        {
          "output_type": "execute_result",
          "data": {
            "text/plain": [
              "106.93738933373943"
            ]
          },
          "metadata": {
            "tags": []
          },
          "execution_count": 48
        }
      ]
    },
    {
      "cell_type": "code",
      "metadata": {
        "colab": {
          "base_uri": "https://localhost:8080/"
        },
        "id": "FdWSVPVxGxY-",
        "outputId": "98a91197-041e-4692-d9e2-0c7f22be7897"
      },
      "source": [
        "reg1 = LinearRegression()\n",
        "reg1.fit(X_train,Y_train)\n",
        "y_pred = reg1.predict(X_test)\n",
        "np.sqrt(mean_squared_error(Y_test,y_pred))"
      ],
      "execution_count": 34,
      "outputs": [
        {
          "output_type": "execute_result",
          "data": {
            "text/plain": [
              "3.2697661502357553e-13"
            ]
          },
          "metadata": {
            "tags": []
          },
          "execution_count": 34
        }
      ]
    },
    {
      "cell_type": "code",
      "metadata": {
        "id": "bDt9DjnsG-Km"
      },
      "source": [
        ""
      ],
      "execution_count": null,
      "outputs": []
    }
  ]
}