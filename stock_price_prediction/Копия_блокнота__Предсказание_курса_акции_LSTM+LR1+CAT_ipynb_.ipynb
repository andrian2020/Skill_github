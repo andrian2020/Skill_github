{
  "nbformat": 4,
  "nbformat_minor": 0,
  "metadata": {
    "colab": {
      "name": "Копия блокнота \"Предсказание курса акции LSTM+LR1+CAT.ipynb\"",
      "provenance": [],
      "collapsed_sections": []
    },
    "kernelspec": {
      "name": "python3",
      "display_name": "Python 3"
    },
    "language_info": {
      "name": "python"
    }
  },
  "cells": [
    {
      "cell_type": "code",
      "metadata": {
        "id": "dpLT1AB6Pxir"
      },
      "source": [
        "# Предсказание курса акций VipShop\n",
        "\n",
        "# Данные возьмем из доступных ресурсов\n",
        "# Для сравния результатов моделирования выберем метрику RMSE\n",
        "# Попробуем сделать предсказание курса акции за последние 30 дней"
      ],
      "execution_count": null,
      "outputs": []
    },
    {
      "cell_type": "markdown",
      "metadata": {
        "id": "2cR5dYKwTH0o"
      },
      "source": [
        "#Парсинг данных"
      ]
    },
    {
      "cell_type": "code",
      "metadata": {
        "id": "dgTrz0t4P8gs"
      },
      "source": [
        "# Парсинг данных\n",
        "\n",
        "#!pip install yfinance\n",
        "\n",
        "#import yfinance as yf\n",
        "#data = yf.download('VIPS','2012-10-31','2021-11-26')\n",
        "#print(data.tail(10))\n",
        "\n",
        "# Сохраним данные на диск для удобства, в дальнейшем будем загружать их оттуда:\n",
        "\n",
        "#data.to_csv('VIPS.csv')\n",
        "#!cp VIPS.csv \"/content/drive/MyDrive/Stock_price_pred/\""
      ],
      "execution_count": null,
      "outputs": []
    },
    {
      "cell_type": "code",
      "metadata": {
        "colab": {
          "base_uri": "https://localhost:8080/"
        },
        "id": "5L0j_yp_e-Ow",
        "outputId": "1292a64d-dcb0-461c-c2a3-2b21203e17a2"
      },
      "source": [
        "!pip install catboost"
      ],
      "execution_count": 1,
      "outputs": [
        {
          "output_type": "stream",
          "name": "stdout",
          "text": [
            "Collecting catboost\n",
            "  Downloading catboost-1.0.4-cp37-none-manylinux1_x86_64.whl (76.1 MB)\n",
            "\u001b[K     |████████████████████████████████| 76.1 MB 50 kB/s \n",
            "\u001b[?25hRequirement already satisfied: graphviz in /usr/local/lib/python3.7/dist-packages (from catboost) (0.10.1)\n",
            "Requirement already satisfied: matplotlib in /usr/local/lib/python3.7/dist-packages (from catboost) (3.2.2)\n",
            "Requirement already satisfied: pandas>=0.24.0 in /usr/local/lib/python3.7/dist-packages (from catboost) (1.3.5)\n",
            "Requirement already satisfied: numpy>=1.16.0 in /usr/local/lib/python3.7/dist-packages (from catboost) (1.21.5)\n",
            "Requirement already satisfied: six in /usr/local/lib/python3.7/dist-packages (from catboost) (1.15.0)\n",
            "Requirement already satisfied: scipy in /usr/local/lib/python3.7/dist-packages (from catboost) (1.4.1)\n",
            "Requirement already satisfied: plotly in /usr/local/lib/python3.7/dist-packages (from catboost) (5.5.0)\n",
            "Requirement already satisfied: python-dateutil>=2.7.3 in /usr/local/lib/python3.7/dist-packages (from pandas>=0.24.0->catboost) (2.8.2)\n",
            "Requirement already satisfied: pytz>=2017.3 in /usr/local/lib/python3.7/dist-packages (from pandas>=0.24.0->catboost) (2018.9)\n",
            "Requirement already satisfied: cycler>=0.10 in /usr/local/lib/python3.7/dist-packages (from matplotlib->catboost) (0.11.0)\n",
            "Requirement already satisfied: pyparsing!=2.0.4,!=2.1.2,!=2.1.6,>=2.0.1 in /usr/local/lib/python3.7/dist-packages (from matplotlib->catboost) (3.0.7)\n",
            "Requirement already satisfied: kiwisolver>=1.0.1 in /usr/local/lib/python3.7/dist-packages (from matplotlib->catboost) (1.3.2)\n",
            "Requirement already satisfied: tenacity>=6.2.0 in /usr/local/lib/python3.7/dist-packages (from plotly->catboost) (8.0.1)\n",
            "Installing collected packages: catboost\n",
            "Successfully installed catboost-1.0.4\n"
          ]
        }
      ]
    },
    {
      "cell_type": "code",
      "metadata": {
        "id": "tSYNa4BAR9D7"
      },
      "source": [
        "#Загрузим необходимые для работы библиотеки:\n",
        "import math\n",
        "import numpy\n",
        "import pandas_datareader as web\n",
        "import numpy as np\n",
        "import pandas as pd\n",
        "from sklearn.preprocessing import MinMaxScaler\n",
        "import tensorflow as tf\n",
        "from tensorflow import keras\n",
        "from keras.models import Sequential\n",
        "from keras.layers import Dense,LSTM\n",
        "from sklearn.linear_model import LinearRegression\n",
        "from catboost import CatBoostRegressor\n",
        "import matplotlib.pyplot as plt\n",
        "import matplotlib.patches as mpatches\n",
        "plt.style.use('fivethirtyeight')"
      ],
      "execution_count": 2,
      "outputs": []
    },
    {
      "cell_type": "code",
      "metadata": {
        "colab": {
          "base_uri": "https://localhost:8080/"
        },
        "id": "j4OV0FcgSJYt",
        "outputId": "4480cb85-cf20-457c-e0e7-92c245c34a95"
      },
      "source": [
        "# Загрузим наши данные:\n",
        "from google.colab import drive\n",
        "drive.mount('/content/drive')"
      ],
      "execution_count": 3,
      "outputs": [
        {
          "output_type": "stream",
          "name": "stdout",
          "text": [
            "Mounted at /content/drive\n"
          ]
        }
      ]
    },
    {
      "cell_type": "code",
      "metadata": {
        "id": "gux5t6ScSUf7"
      },
      "source": [
        "DATA_DIR = '/content/drive/MyDrive/Stock_price_pred/'\n",
        "df = pd.read_csv(DATA_DIR+'VIPS.csv')"
      ],
      "execution_count": 4,
      "outputs": []
    },
    {
      "cell_type": "markdown",
      "metadata": {
        "id": "5h8SWKOrTUPK"
      },
      "source": [
        "#EDA"
      ]
    },
    {
      "cell_type": "code",
      "metadata": {
        "colab": {
          "base_uri": "https://localhost:8080/",
          "height": 990
        },
        "id": "W40yP-cMSbFX",
        "outputId": "6e834d3d-ae03-4c0d-f342-5536bc96ca90"
      },
      "source": [
        "# Ознакомимся с датасетом\n",
        "df.tail(30)"
      ],
      "execution_count": 5,
      "outputs": [
        {
          "output_type": "execute_result",
          "data": {
            "text/html": [
              "\n",
              "  <div id=\"df-16096d83-3bb5-49d7-9f18-503e5470cdc2\">\n",
              "    <div class=\"colab-df-container\">\n",
              "      <div>\n",
              "<style scoped>\n",
              "    .dataframe tbody tr th:only-of-type {\n",
              "        vertical-align: middle;\n",
              "    }\n",
              "\n",
              "    .dataframe tbody tr th {\n",
              "        vertical-align: top;\n",
              "    }\n",
              "\n",
              "    .dataframe thead th {\n",
              "        text-align: right;\n",
              "    }\n",
              "</style>\n",
              "<table border=\"1\" class=\"dataframe\">\n",
              "  <thead>\n",
              "    <tr style=\"text-align: right;\">\n",
              "      <th></th>\n",
              "      <th>Date</th>\n",
              "      <th>Open</th>\n",
              "      <th>High</th>\n",
              "      <th>Low</th>\n",
              "      <th>Close</th>\n",
              "      <th>Adj Close</th>\n",
              "      <th>Volume</th>\n",
              "    </tr>\n",
              "  </thead>\n",
              "  <tbody>\n",
              "    <tr>\n",
              "      <th>2254</th>\n",
              "      <td>2021-10-14</td>\n",
              "      <td>11.51</td>\n",
              "      <td>11.58</td>\n",
              "      <td>11.16</td>\n",
              "      <td>11.32</td>\n",
              "      <td>11.32</td>\n",
              "      <td>6237000</td>\n",
              "    </tr>\n",
              "    <tr>\n",
              "      <th>2255</th>\n",
              "      <td>2021-10-15</td>\n",
              "      <td>11.46</td>\n",
              "      <td>11.92</td>\n",
              "      <td>11.23</td>\n",
              "      <td>11.47</td>\n",
              "      <td>11.47</td>\n",
              "      <td>9456500</td>\n",
              "    </tr>\n",
              "    <tr>\n",
              "      <th>2256</th>\n",
              "      <td>2021-10-18</td>\n",
              "      <td>11.43</td>\n",
              "      <td>11.67</td>\n",
              "      <td>11.28</td>\n",
              "      <td>11.45</td>\n",
              "      <td>11.45</td>\n",
              "      <td>4852300</td>\n",
              "    </tr>\n",
              "    <tr>\n",
              "      <th>2257</th>\n",
              "      <td>2021-10-19</td>\n",
              "      <td>11.68</td>\n",
              "      <td>12.49</td>\n",
              "      <td>11.62</td>\n",
              "      <td>12.42</td>\n",
              "      <td>12.42</td>\n",
              "      <td>11446200</td>\n",
              "    </tr>\n",
              "    <tr>\n",
              "      <th>2258</th>\n",
              "      <td>2021-10-20</td>\n",
              "      <td>12.60</td>\n",
              "      <td>13.32</td>\n",
              "      <td>12.46</td>\n",
              "      <td>12.50</td>\n",
              "      <td>12.50</td>\n",
              "      <td>13220600</td>\n",
              "    </tr>\n",
              "    <tr>\n",
              "      <th>2259</th>\n",
              "      <td>2021-10-21</td>\n",
              "      <td>12.45</td>\n",
              "      <td>12.95</td>\n",
              "      <td>12.42</td>\n",
              "      <td>12.78</td>\n",
              "      <td>12.78</td>\n",
              "      <td>5696400</td>\n",
              "    </tr>\n",
              "    <tr>\n",
              "      <th>2260</th>\n",
              "      <td>2021-10-22</td>\n",
              "      <td>12.73</td>\n",
              "      <td>13.00</td>\n",
              "      <td>12.36</td>\n",
              "      <td>12.46</td>\n",
              "      <td>12.46</td>\n",
              "      <td>5531400</td>\n",
              "    </tr>\n",
              "    <tr>\n",
              "      <th>2261</th>\n",
              "      <td>2021-10-25</td>\n",
              "      <td>12.55</td>\n",
              "      <td>12.70</td>\n",
              "      <td>12.00</td>\n",
              "      <td>12.46</td>\n",
              "      <td>12.46</td>\n",
              "      <td>5802400</td>\n",
              "    </tr>\n",
              "    <tr>\n",
              "      <th>2262</th>\n",
              "      <td>2021-10-26</td>\n",
              "      <td>12.51</td>\n",
              "      <td>12.51</td>\n",
              "      <td>11.62</td>\n",
              "      <td>11.88</td>\n",
              "      <td>11.88</td>\n",
              "      <td>9228000</td>\n",
              "    </tr>\n",
              "    <tr>\n",
              "      <th>2263</th>\n",
              "      <td>2021-10-27</td>\n",
              "      <td>11.71</td>\n",
              "      <td>12.15</td>\n",
              "      <td>11.55</td>\n",
              "      <td>11.68</td>\n",
              "      <td>11.68</td>\n",
              "      <td>6904600</td>\n",
              "    </tr>\n",
              "    <tr>\n",
              "      <th>2264</th>\n",
              "      <td>2021-10-28</td>\n",
              "      <td>11.60</td>\n",
              "      <td>11.68</td>\n",
              "      <td>11.24</td>\n",
              "      <td>11.45</td>\n",
              "      <td>11.45</td>\n",
              "      <td>9340800</td>\n",
              "    </tr>\n",
              "    <tr>\n",
              "      <th>2265</th>\n",
              "      <td>2021-10-29</td>\n",
              "      <td>11.38</td>\n",
              "      <td>11.44</td>\n",
              "      <td>11.08</td>\n",
              "      <td>11.16</td>\n",
              "      <td>11.16</td>\n",
              "      <td>5616300</td>\n",
              "    </tr>\n",
              "    <tr>\n",
              "      <th>2266</th>\n",
              "      <td>2021-11-01</td>\n",
              "      <td>11.14</td>\n",
              "      <td>11.95</td>\n",
              "      <td>11.13</td>\n",
              "      <td>11.92</td>\n",
              "      <td>11.92</td>\n",
              "      <td>6794700</td>\n",
              "    </tr>\n",
              "    <tr>\n",
              "      <th>2267</th>\n",
              "      <td>2021-11-02</td>\n",
              "      <td>11.55</td>\n",
              "      <td>11.67</td>\n",
              "      <td>11.23</td>\n",
              "      <td>11.46</td>\n",
              "      <td>11.46</td>\n",
              "      <td>8299400</td>\n",
              "    </tr>\n",
              "    <tr>\n",
              "      <th>2268</th>\n",
              "      <td>2021-11-03</td>\n",
              "      <td>11.52</td>\n",
              "      <td>11.84</td>\n",
              "      <td>11.32</td>\n",
              "      <td>11.52</td>\n",
              "      <td>11.52</td>\n",
              "      <td>6773800</td>\n",
              "    </tr>\n",
              "    <tr>\n",
              "      <th>2269</th>\n",
              "      <td>2021-11-04</td>\n",
              "      <td>11.70</td>\n",
              "      <td>11.91</td>\n",
              "      <td>11.24</td>\n",
              "      <td>11.25</td>\n",
              "      <td>11.25</td>\n",
              "      <td>5655100</td>\n",
              "    </tr>\n",
              "    <tr>\n",
              "      <th>2270</th>\n",
              "      <td>2021-11-05</td>\n",
              "      <td>11.21</td>\n",
              "      <td>11.40</td>\n",
              "      <td>10.94</td>\n",
              "      <td>11.02</td>\n",
              "      <td>11.02</td>\n",
              "      <td>8698900</td>\n",
              "    </tr>\n",
              "    <tr>\n",
              "      <th>2271</th>\n",
              "      <td>2021-11-08</td>\n",
              "      <td>11.22</td>\n",
              "      <td>11.49</td>\n",
              "      <td>11.18</td>\n",
              "      <td>11.38</td>\n",
              "      <td>11.38</td>\n",
              "      <td>4575000</td>\n",
              "    </tr>\n",
              "    <tr>\n",
              "      <th>2272</th>\n",
              "      <td>2021-11-09</td>\n",
              "      <td>11.43</td>\n",
              "      <td>11.82</td>\n",
              "      <td>11.38</td>\n",
              "      <td>11.60</td>\n",
              "      <td>11.60</td>\n",
              "      <td>5762600</td>\n",
              "    </tr>\n",
              "    <tr>\n",
              "      <th>2273</th>\n",
              "      <td>2021-11-10</td>\n",
              "      <td>11.64</td>\n",
              "      <td>12.09</td>\n",
              "      <td>11.56</td>\n",
              "      <td>11.66</td>\n",
              "      <td>11.66</td>\n",
              "      <td>6183800</td>\n",
              "    </tr>\n",
              "    <tr>\n",
              "      <th>2274</th>\n",
              "      <td>2021-11-11</td>\n",
              "      <td>12.09</td>\n",
              "      <td>12.57</td>\n",
              "      <td>12.06</td>\n",
              "      <td>12.45</td>\n",
              "      <td>12.45</td>\n",
              "      <td>9516400</td>\n",
              "    </tr>\n",
              "    <tr>\n",
              "      <th>2275</th>\n",
              "      <td>2021-11-12</td>\n",
              "      <td>12.61</td>\n",
              "      <td>12.91</td>\n",
              "      <td>12.40</td>\n",
              "      <td>12.91</td>\n",
              "      <td>12.91</td>\n",
              "      <td>9048200</td>\n",
              "    </tr>\n",
              "    <tr>\n",
              "      <th>2276</th>\n",
              "      <td>2021-11-15</td>\n",
              "      <td>13.00</td>\n",
              "      <td>13.00</td>\n",
              "      <td>12.66</td>\n",
              "      <td>12.89</td>\n",
              "      <td>12.89</td>\n",
              "      <td>7405300</td>\n",
              "    </tr>\n",
              "    <tr>\n",
              "      <th>2277</th>\n",
              "      <td>2021-11-16</td>\n",
              "      <td>12.90</td>\n",
              "      <td>13.02</td>\n",
              "      <td>12.44</td>\n",
              "      <td>12.58</td>\n",
              "      <td>12.58</td>\n",
              "      <td>7024000</td>\n",
              "    </tr>\n",
              "    <tr>\n",
              "      <th>2278</th>\n",
              "      <td>2021-11-17</td>\n",
              "      <td>12.50</td>\n",
              "      <td>12.54</td>\n",
              "      <td>11.99</td>\n",
              "      <td>12.23</td>\n",
              "      <td>12.23</td>\n",
              "      <td>6927300</td>\n",
              "    </tr>\n",
              "    <tr>\n",
              "      <th>2279</th>\n",
              "      <td>2021-11-18</td>\n",
              "      <td>10.63</td>\n",
              "      <td>11.32</td>\n",
              "      <td>9.81</td>\n",
              "      <td>10.03</td>\n",
              "      <td>10.03</td>\n",
              "      <td>30656200</td>\n",
              "    </tr>\n",
              "    <tr>\n",
              "      <th>2280</th>\n",
              "      <td>2021-11-19</td>\n",
              "      <td>9.84</td>\n",
              "      <td>10.34</td>\n",
              "      <td>9.72</td>\n",
              "      <td>10.04</td>\n",
              "      <td>10.04</td>\n",
              "      <td>10846700</td>\n",
              "    </tr>\n",
              "    <tr>\n",
              "      <th>2281</th>\n",
              "      <td>2021-11-22</td>\n",
              "      <td>9.78</td>\n",
              "      <td>10.25</td>\n",
              "      <td>9.72</td>\n",
              "      <td>10.15</td>\n",
              "      <td>10.15</td>\n",
              "      <td>9178200</td>\n",
              "    </tr>\n",
              "    <tr>\n",
              "      <th>2282</th>\n",
              "      <td>2021-11-23</td>\n",
              "      <td>10.12</td>\n",
              "      <td>10.13</td>\n",
              "      <td>9.63</td>\n",
              "      <td>9.65</td>\n",
              "      <td>9.65</td>\n",
              "      <td>8022400</td>\n",
              "    </tr>\n",
              "    <tr>\n",
              "      <th>2283</th>\n",
              "      <td>2021-11-24</td>\n",
              "      <td>9.69</td>\n",
              "      <td>10.39</td>\n",
              "      <td>9.66</td>\n",
              "      <td>10.31</td>\n",
              "      <td>10.31</td>\n",
              "      <td>8212800</td>\n",
              "    </tr>\n",
              "  </tbody>\n",
              "</table>\n",
              "</div>\n",
              "      <button class=\"colab-df-convert\" onclick=\"convertToInteractive('df-16096d83-3bb5-49d7-9f18-503e5470cdc2')\"\n",
              "              title=\"Convert this dataframe to an interactive table.\"\n",
              "              style=\"display:none;\">\n",
              "        \n",
              "  <svg xmlns=\"http://www.w3.org/2000/svg\" height=\"24px\"viewBox=\"0 0 24 24\"\n",
              "       width=\"24px\">\n",
              "    <path d=\"M0 0h24v24H0V0z\" fill=\"none\"/>\n",
              "    <path d=\"M18.56 5.44l.94 2.06.94-2.06 2.06-.94-2.06-.94-.94-2.06-.94 2.06-2.06.94zm-11 1L8.5 8.5l.94-2.06 2.06-.94-2.06-.94L8.5 2.5l-.94 2.06-2.06.94zm10 10l.94 2.06.94-2.06 2.06-.94-2.06-.94-.94-2.06-.94 2.06-2.06.94z\"/><path d=\"M17.41 7.96l-1.37-1.37c-.4-.4-.92-.59-1.43-.59-.52 0-1.04.2-1.43.59L10.3 9.45l-7.72 7.72c-.78.78-.78 2.05 0 2.83L4 21.41c.39.39.9.59 1.41.59.51 0 1.02-.2 1.41-.59l7.78-7.78 2.81-2.81c.8-.78.8-2.07 0-2.86zM5.41 20L4 18.59l7.72-7.72 1.47 1.35L5.41 20z\"/>\n",
              "  </svg>\n",
              "      </button>\n",
              "      \n",
              "  <style>\n",
              "    .colab-df-container {\n",
              "      display:flex;\n",
              "      flex-wrap:wrap;\n",
              "      gap: 12px;\n",
              "    }\n",
              "\n",
              "    .colab-df-convert {\n",
              "      background-color: #E8F0FE;\n",
              "      border: none;\n",
              "      border-radius: 50%;\n",
              "      cursor: pointer;\n",
              "      display: none;\n",
              "      fill: #1967D2;\n",
              "      height: 32px;\n",
              "      padding: 0 0 0 0;\n",
              "      width: 32px;\n",
              "    }\n",
              "\n",
              "    .colab-df-convert:hover {\n",
              "      background-color: #E2EBFA;\n",
              "      box-shadow: 0px 1px 2px rgba(60, 64, 67, 0.3), 0px 1px 3px 1px rgba(60, 64, 67, 0.15);\n",
              "      fill: #174EA6;\n",
              "    }\n",
              "\n",
              "    [theme=dark] .colab-df-convert {\n",
              "      background-color: #3B4455;\n",
              "      fill: #D2E3FC;\n",
              "    }\n",
              "\n",
              "    [theme=dark] .colab-df-convert:hover {\n",
              "      background-color: #434B5C;\n",
              "      box-shadow: 0px 1px 3px 1px rgba(0, 0, 0, 0.15);\n",
              "      filter: drop-shadow(0px 1px 2px rgba(0, 0, 0, 0.3));\n",
              "      fill: #FFFFFF;\n",
              "    }\n",
              "  </style>\n",
              "\n",
              "      <script>\n",
              "        const buttonEl =\n",
              "          document.querySelector('#df-16096d83-3bb5-49d7-9f18-503e5470cdc2 button.colab-df-convert');\n",
              "        buttonEl.style.display =\n",
              "          google.colab.kernel.accessAllowed ? 'block' : 'none';\n",
              "\n",
              "        async function convertToInteractive(key) {\n",
              "          const element = document.querySelector('#df-16096d83-3bb5-49d7-9f18-503e5470cdc2');\n",
              "          const dataTable =\n",
              "            await google.colab.kernel.invokeFunction('convertToInteractive',\n",
              "                                                     [key], {});\n",
              "          if (!dataTable) return;\n",
              "\n",
              "          const docLinkHtml = 'Like what you see? Visit the ' +\n",
              "            '<a target=\"_blank\" href=https://colab.research.google.com/notebooks/data_table.ipynb>data table notebook</a>'\n",
              "            + ' to learn more about interactive tables.';\n",
              "          element.innerHTML = '';\n",
              "          dataTable['output_type'] = 'display_data';\n",
              "          await google.colab.output.renderOutput(dataTable, element);\n",
              "          const docLink = document.createElement('div');\n",
              "          docLink.innerHTML = docLinkHtml;\n",
              "          element.appendChild(docLink);\n",
              "        }\n",
              "      </script>\n",
              "    </div>\n",
              "  </div>\n",
              "  "
            ],
            "text/plain": [
              "            Date   Open   High    Low  Close  Adj Close    Volume\n",
              "2254  2021-10-14  11.51  11.58  11.16  11.32      11.32   6237000\n",
              "2255  2021-10-15  11.46  11.92  11.23  11.47      11.47   9456500\n",
              "2256  2021-10-18  11.43  11.67  11.28  11.45      11.45   4852300\n",
              "2257  2021-10-19  11.68  12.49  11.62  12.42      12.42  11446200\n",
              "2258  2021-10-20  12.60  13.32  12.46  12.50      12.50  13220600\n",
              "2259  2021-10-21  12.45  12.95  12.42  12.78      12.78   5696400\n",
              "2260  2021-10-22  12.73  13.00  12.36  12.46      12.46   5531400\n",
              "2261  2021-10-25  12.55  12.70  12.00  12.46      12.46   5802400\n",
              "2262  2021-10-26  12.51  12.51  11.62  11.88      11.88   9228000\n",
              "2263  2021-10-27  11.71  12.15  11.55  11.68      11.68   6904600\n",
              "2264  2021-10-28  11.60  11.68  11.24  11.45      11.45   9340800\n",
              "2265  2021-10-29  11.38  11.44  11.08  11.16      11.16   5616300\n",
              "2266  2021-11-01  11.14  11.95  11.13  11.92      11.92   6794700\n",
              "2267  2021-11-02  11.55  11.67  11.23  11.46      11.46   8299400\n",
              "2268  2021-11-03  11.52  11.84  11.32  11.52      11.52   6773800\n",
              "2269  2021-11-04  11.70  11.91  11.24  11.25      11.25   5655100\n",
              "2270  2021-11-05  11.21  11.40  10.94  11.02      11.02   8698900\n",
              "2271  2021-11-08  11.22  11.49  11.18  11.38      11.38   4575000\n",
              "2272  2021-11-09  11.43  11.82  11.38  11.60      11.60   5762600\n",
              "2273  2021-11-10  11.64  12.09  11.56  11.66      11.66   6183800\n",
              "2274  2021-11-11  12.09  12.57  12.06  12.45      12.45   9516400\n",
              "2275  2021-11-12  12.61  12.91  12.40  12.91      12.91   9048200\n",
              "2276  2021-11-15  13.00  13.00  12.66  12.89      12.89   7405300\n",
              "2277  2021-11-16  12.90  13.02  12.44  12.58      12.58   7024000\n",
              "2278  2021-11-17  12.50  12.54  11.99  12.23      12.23   6927300\n",
              "2279  2021-11-18  10.63  11.32   9.81  10.03      10.03  30656200\n",
              "2280  2021-11-19   9.84  10.34   9.72  10.04      10.04  10846700\n",
              "2281  2021-11-22   9.78  10.25   9.72  10.15      10.15   9178200\n",
              "2282  2021-11-23  10.12  10.13   9.63   9.65       9.65   8022400\n",
              "2283  2021-11-24   9.69  10.39   9.66  10.31      10.31   8212800"
            ]
          },
          "metadata": {},
          "execution_count": 5
        }
      ]
    },
    {
      "cell_type": "code",
      "source": [
        "df.head()"
      ],
      "metadata": {
        "colab": {
          "base_uri": "https://localhost:8080/",
          "height": 206
        },
        "id": "sOyX2b29CNye",
        "outputId": "8eb4a405-4768-443f-cef8-535eb8cf99b1"
      },
      "execution_count": 41,
      "outputs": [
        {
          "output_type": "execute_result",
          "data": {
            "text/html": [
              "\n",
              "  <div id=\"df-47d5c835-8425-466a-b1bb-62381837ae4c\">\n",
              "    <div class=\"colab-df-container\">\n",
              "      <div>\n",
              "<style scoped>\n",
              "    .dataframe tbody tr th:only-of-type {\n",
              "        vertical-align: middle;\n",
              "    }\n",
              "\n",
              "    .dataframe tbody tr th {\n",
              "        vertical-align: top;\n",
              "    }\n",
              "\n",
              "    .dataframe thead th {\n",
              "        text-align: right;\n",
              "    }\n",
              "</style>\n",
              "<table border=\"1\" class=\"dataframe\">\n",
              "  <thead>\n",
              "    <tr style=\"text-align: right;\">\n",
              "      <th></th>\n",
              "      <th>Date</th>\n",
              "      <th>Open</th>\n",
              "      <th>High</th>\n",
              "      <th>Low</th>\n",
              "      <th>Close</th>\n",
              "      <th>Adj Close</th>\n",
              "      <th>Volume</th>\n",
              "    </tr>\n",
              "  </thead>\n",
              "  <tbody>\n",
              "    <tr>\n",
              "      <th>0</th>\n",
              "      <td>2012-10-31</td>\n",
              "      <td>1.000</td>\n",
              "      <td>1.010</td>\n",
              "      <td>0.985</td>\n",
              "      <td>1.003</td>\n",
              "      <td>1.003</td>\n",
              "      <td>710000</td>\n",
              "    </tr>\n",
              "    <tr>\n",
              "      <th>1</th>\n",
              "      <td>2012-11-01</td>\n",
              "      <td>1.025</td>\n",
              "      <td>1.028</td>\n",
              "      <td>0.997</td>\n",
              "      <td>1.025</td>\n",
              "      <td>1.025</td>\n",
              "      <td>341000</td>\n",
              "    </tr>\n",
              "    <tr>\n",
              "      <th>2</th>\n",
              "      <td>2012-11-02</td>\n",
              "      <td>1.030</td>\n",
              "      <td>1.030</td>\n",
              "      <td>1.021</td>\n",
              "      <td>1.025</td>\n",
              "      <td>1.025</td>\n",
              "      <td>274000</td>\n",
              "    </tr>\n",
              "    <tr>\n",
              "      <th>3</th>\n",
              "      <td>2012-11-05</td>\n",
              "      <td>1.021</td>\n",
              "      <td>1.046</td>\n",
              "      <td>1.011</td>\n",
              "      <td>1.013</td>\n",
              "      <td>1.013</td>\n",
              "      <td>833000</td>\n",
              "    </tr>\n",
              "    <tr>\n",
              "      <th>4</th>\n",
              "      <td>2012-11-06</td>\n",
              "      <td>1.010</td>\n",
              "      <td>1.049</td>\n",
              "      <td>0.990</td>\n",
              "      <td>1.025</td>\n",
              "      <td>1.025</td>\n",
              "      <td>1233000</td>\n",
              "    </tr>\n",
              "  </tbody>\n",
              "</table>\n",
              "</div>\n",
              "      <button class=\"colab-df-convert\" onclick=\"convertToInteractive('df-47d5c835-8425-466a-b1bb-62381837ae4c')\"\n",
              "              title=\"Convert this dataframe to an interactive table.\"\n",
              "              style=\"display:none;\">\n",
              "        \n",
              "  <svg xmlns=\"http://www.w3.org/2000/svg\" height=\"24px\"viewBox=\"0 0 24 24\"\n",
              "       width=\"24px\">\n",
              "    <path d=\"M0 0h24v24H0V0z\" fill=\"none\"/>\n",
              "    <path d=\"M18.56 5.44l.94 2.06.94-2.06 2.06-.94-2.06-.94-.94-2.06-.94 2.06-2.06.94zm-11 1L8.5 8.5l.94-2.06 2.06-.94-2.06-.94L8.5 2.5l-.94 2.06-2.06.94zm10 10l.94 2.06.94-2.06 2.06-.94-2.06-.94-.94-2.06-.94 2.06-2.06.94z\"/><path d=\"M17.41 7.96l-1.37-1.37c-.4-.4-.92-.59-1.43-.59-.52 0-1.04.2-1.43.59L10.3 9.45l-7.72 7.72c-.78.78-.78 2.05 0 2.83L4 21.41c.39.39.9.59 1.41.59.51 0 1.02-.2 1.41-.59l7.78-7.78 2.81-2.81c.8-.78.8-2.07 0-2.86zM5.41 20L4 18.59l7.72-7.72 1.47 1.35L5.41 20z\"/>\n",
              "  </svg>\n",
              "      </button>\n",
              "      \n",
              "  <style>\n",
              "    .colab-df-container {\n",
              "      display:flex;\n",
              "      flex-wrap:wrap;\n",
              "      gap: 12px;\n",
              "    }\n",
              "\n",
              "    .colab-df-convert {\n",
              "      background-color: #E8F0FE;\n",
              "      border: none;\n",
              "      border-radius: 50%;\n",
              "      cursor: pointer;\n",
              "      display: none;\n",
              "      fill: #1967D2;\n",
              "      height: 32px;\n",
              "      padding: 0 0 0 0;\n",
              "      width: 32px;\n",
              "    }\n",
              "\n",
              "    .colab-df-convert:hover {\n",
              "      background-color: #E2EBFA;\n",
              "      box-shadow: 0px 1px 2px rgba(60, 64, 67, 0.3), 0px 1px 3px 1px rgba(60, 64, 67, 0.15);\n",
              "      fill: #174EA6;\n",
              "    }\n",
              "\n",
              "    [theme=dark] .colab-df-convert {\n",
              "      background-color: #3B4455;\n",
              "      fill: #D2E3FC;\n",
              "    }\n",
              "\n",
              "    [theme=dark] .colab-df-convert:hover {\n",
              "      background-color: #434B5C;\n",
              "      box-shadow: 0px 1px 3px 1px rgba(0, 0, 0, 0.15);\n",
              "      filter: drop-shadow(0px 1px 2px rgba(0, 0, 0, 0.3));\n",
              "      fill: #FFFFFF;\n",
              "    }\n",
              "  </style>\n",
              "\n",
              "      <script>\n",
              "        const buttonEl =\n",
              "          document.querySelector('#df-47d5c835-8425-466a-b1bb-62381837ae4c button.colab-df-convert');\n",
              "        buttonEl.style.display =\n",
              "          google.colab.kernel.accessAllowed ? 'block' : 'none';\n",
              "\n",
              "        async function convertToInteractive(key) {\n",
              "          const element = document.querySelector('#df-47d5c835-8425-466a-b1bb-62381837ae4c');\n",
              "          const dataTable =\n",
              "            await google.colab.kernel.invokeFunction('convertToInteractive',\n",
              "                                                     [key], {});\n",
              "          if (!dataTable) return;\n",
              "\n",
              "          const docLinkHtml = 'Like what you see? Visit the ' +\n",
              "            '<a target=\"_blank\" href=https://colab.research.google.com/notebooks/data_table.ipynb>data table notebook</a>'\n",
              "            + ' to learn more about interactive tables.';\n",
              "          element.innerHTML = '';\n",
              "          dataTable['output_type'] = 'display_data';\n",
              "          await google.colab.output.renderOutput(dataTable, element);\n",
              "          const docLink = document.createElement('div');\n",
              "          docLink.innerHTML = docLinkHtml;\n",
              "          element.appendChild(docLink);\n",
              "        }\n",
              "      </script>\n",
              "    </div>\n",
              "  </div>\n",
              "  "
            ],
            "text/plain": [
              "         Date   Open   High    Low  Close  Adj Close   Volume\n",
              "0  2012-10-31  1.000  1.010  0.985  1.003      1.003   710000\n",
              "1  2012-11-01  1.025  1.028  0.997  1.025      1.025   341000\n",
              "2  2012-11-02  1.030  1.030  1.021  1.025      1.025   274000\n",
              "3  2012-11-05  1.021  1.046  1.011  1.013      1.013   833000\n",
              "4  2012-11-06  1.010  1.049  0.990  1.025      1.025  1233000"
            ]
          },
          "metadata": {},
          "execution_count": 41
        }
      ]
    },
    {
      "cell_type": "code",
      "source": [
        ""
      ],
      "metadata": {
        "id": "nUNI7o3aCNnL"
      },
      "execution_count": null,
      "outputs": []
    },
    {
      "cell_type": "code",
      "metadata": {
        "id": "wOsdHHtiSkxf"
      },
      "source": [
        "# Для моделирования будем использовать колонку Close нас будет интересовать цена акций на момент закрытия биржи"
      ],
      "execution_count": null,
      "outputs": []
    },
    {
      "cell_type": "code",
      "metadata": {
        "colab": {
          "base_uri": "https://localhost:8080/"
        },
        "id": "ldaeWsxjS02g",
        "outputId": "a15cc8fa-b9b6-4a37-994e-43107cfa9b31"
      },
      "source": [
        "df.isna().sum()"
      ],
      "execution_count": 42,
      "outputs": [
        {
          "output_type": "execute_result",
          "data": {
            "text/plain": [
              "Date         0\n",
              "Open         0\n",
              "High         0\n",
              "Low          0\n",
              "Close        0\n",
              "Adj Close    0\n",
              "Volume       0\n",
              "dtype: int64"
            ]
          },
          "metadata": {},
          "execution_count": 42
        }
      ]
    },
    {
      "cell_type": "code",
      "metadata": {
        "colab": {
          "base_uri": "https://localhost:8080/"
        },
        "id": "i1fp6jmoS7LP",
        "outputId": "513ce122-7467-412a-e654-40a5e53a1ae6"
      },
      "source": [
        "df.Close.describe()"
      ],
      "execution_count": 43,
      "outputs": [
        {
          "output_type": "execute_result",
          "data": {
            "text/plain": [
              "count    2284.000000\n",
              "mean       13.950809\n",
              "std         7.373549\n",
              "min         1.003000\n",
              "25%         8.420000\n",
              "50%        13.195000\n",
              "75%        18.142499\n",
              "max        45.580002\n",
              "Name: Close, dtype: float64"
            ]
          },
          "metadata": {},
          "execution_count": 43
        }
      ]
    },
    {
      "cell_type": "code",
      "metadata": {
        "id": "3AOBJCjbS-Jn"
      },
      "source": [
        "df1 = df.reset_index()['Close']"
      ],
      "execution_count": 8,
      "outputs": []
    },
    {
      "cell_type": "code",
      "source": [
        "df1.tail()"
      ],
      "metadata": {
        "colab": {
          "base_uri": "https://localhost:8080/"
        },
        "id": "rEJDaaiRBU9J",
        "outputId": "75b9821f-9f4b-4a0e-f2cf-2a63d53917a9"
      },
      "execution_count": 44,
      "outputs": [
        {
          "output_type": "execute_result",
          "data": {
            "text/plain": [
              "2279    10.03\n",
              "2280    10.04\n",
              "2281    10.15\n",
              "2282     9.65\n",
              "2283    10.31\n",
              "Name: Close, dtype: float64"
            ]
          },
          "metadata": {},
          "execution_count": 44
        }
      ]
    },
    {
      "cell_type": "code",
      "metadata": {
        "colab": {
          "base_uri": "https://localhost:8080/",
          "height": 532
        },
        "id": "0jtUkvblTDEQ",
        "outputId": "1f961dda-2701-4987-b180-63a1efca5d9e"
      },
      "source": [
        "# Построим график как изменялясь цена акции по дням\n",
        "import matplotlib.pyplot as plt\n",
        "plt.figure(figsize=(16,8))\n",
        "df1.plot()"
      ],
      "execution_count": 45,
      "outputs": [
        {
          "output_type": "execute_result",
          "data": {
            "text/plain": [
              "<matplotlib.axes._subplots.AxesSubplot at 0x7f9ec1550d50>"
            ]
          },
          "metadata": {},
          "execution_count": 45
        },
        {
          "output_type": "display_data",
          "data": {
            "image/png": "[encoded data removed]",
            "text/plain": [
              "<Figure size 1152x576 with 1 Axes>"
            ]
          },
          "metadata": {}
        }
      ]
    },
    {
      "cell_type": "code",
      "metadata": {
        "id": "uiJvGjc3UGBW"
      },
      "source": [
        "# Разделим данные на трейн, и отделим данные для предсказания за последние 30 дней\n",
        "\n",
        "df2 = df1[:len(df1)-30]"
      ],
      "execution_count": 46,
      "outputs": []
    },
    {
      "cell_type": "code",
      "metadata": {
        "colab": {
          "base_uri": "https://localhost:8080/"
        },
        "id": "rSJuqPAsWiMt",
        "outputId": "3d65341c-0498-4d90-e991-94e53f0d0274"
      },
      "source": [
        "df2"
      ],
      "execution_count": 47,
      "outputs": [
        {
          "output_type": "execute_result",
          "data": {
            "text/plain": [
              "0        1.003\n",
              "1        1.025\n",
              "2        1.025\n",
              "3        1.013\n",
              "4        1.025\n",
              "         ...  \n",
              "2249    11.020\n",
              "2250    11.300\n",
              "2251    11.180\n",
              "2252    11.240\n",
              "2253    11.700\n",
              "Name: Close, Length: 2254, dtype: float64"
            ]
          },
          "metadata": {},
          "execution_count": 47
        }
      ]
    },
    {
      "cell_type": "code",
      "metadata": {
        "id": "m5EYEbBWa680"
      },
      "source": [
        "df2 = np.array(df2).reshape(-1,1)"
      ],
      "execution_count": 48,
      "outputs": []
    },
    {
      "cell_type": "code",
      "source": [
        "df2\n"
      ],
      "metadata": {
        "colab": {
          "base_uri": "https://localhost:8080/"
        },
        "id": "jfeOGYGDDifd",
        "outputId": "46df2046-3f41-4865-8360-a950088c6f26"
      },
      "execution_count": 49,
      "outputs": [
        {
          "output_type": "execute_result",
          "data": {
            "text/plain": [
              "array([[ 1.00300002],\n",
              "       [ 1.02499998],\n",
              "       [ 1.02499998],\n",
              "       ...,\n",
              "       [11.18000031],\n",
              "       [11.23999977],\n",
              "       [11.69999981]])"
            ]
          },
          "metadata": {},
          "execution_count": 49
        }
      ]
    },
    {
      "cell_type": "code",
      "metadata": {
        "id": "lFtrEbZdhgUf"
      },
      "source": [
        "# Нормализуем данные с помощью MinMaxScaler\n",
        "scaler = MinMaxScaler(feature_range=(0,1))\n",
        "df2 = scaler.fit_transform(df2)"
      ],
      "execution_count": 50,
      "outputs": []
    },
    {
      "cell_type": "code",
      "metadata": {
        "id": "eTDavK13Uz0c"
      },
      "source": [
        "# Делим оставшиеся данные на трейн и валидацию в пропорции 0.65/0.35\n",
        "\n",
        "training_size=int(len(df2)*0.65)\n",
        "test_size=len(df2)-training_size\n",
        "train_data,test_data=df2[0:training_size],df2[training_size:len(df2)]"
      ],
      "execution_count": 51,
      "outputs": []
    },
    {
      "cell_type": "code",
      "metadata": {
        "colab": {
          "base_uri": "https://localhost:8080/"
        },
        "id": "axOCpwMgWVZg",
        "outputId": "ac6ee362-0289-4b6d-9936-68b77c9b4092"
      },
      "source": [
        "training_size,test_size"
      ],
      "execution_count": 52,
      "outputs": [
        {
          "output_type": "execute_result",
          "data": {
            "text/plain": [
              "(1465, 789)"
            ]
          },
          "metadata": {},
          "execution_count": 52
        }
      ]
    },
    {
      "cell_type": "markdown",
      "metadata": {
        "id": "OP5eaNuzXbvZ"
      },
      "source": [
        "Для построения моделей применим следующую логику\n",
        "Введем понятие time_step - это будет шаг нашей целевой переменной для алгоритма. Допустим time_step=3, тогда фичи -это первые три значения цены акции, а 4-е значение будет целевой переменной. Далее сдвигаемся на один шаг. df2[2],df2[3],df2[4], это следующие значения наших фичей, а df2(5) - это следующее значение нашей целевой переменной. То есть наша целевая переменная это результат 3-х предыдущих дней.\n",
        "В решении буду использовать time_step=100, то есть уелевая переменная будет зависеть от предыдущих 100 дней. Напишем функцию для реализации данной логики "
      ]
    },
    {
      "cell_type": "code",
      "metadata": {
        "id": "xu_ZLAJIZuGT"
      },
      "source": [
        "# Функция конвертирует наш массив данных в матрицу со столбцами фичей и столбцом целевой переменной\n",
        "def create_dataset(dataset,time_step=1):\n",
        "    dataX,dataY = [],[]\n",
        "    for i in range(len(dataset)-time_step-1):\n",
        "        a = dataset[i:(i+time_step),0] ###i=0,1,2,3\n",
        "        dataX.append(a)\n",
        "        dataY.append(dataset[i+time_step,0])\n",
        "    return numpy.array(dataX),numpy.array(dataY)"
      ],
      "execution_count": 53,
      "outputs": []
    },
    {
      "cell_type": "code",
      "metadata": {
        "id": "VE55JxkBaI3V"
      },
      "source": [
        "# Построим датасет X=t,t+1,t+2,t+3.... and Y=t+4\n",
        "time_step = 100\n",
        "X_train,y_train = create_dataset(train_data,time_step)\n",
        "X_test,y_test = create_dataset(test_data,time_step)"
      ],
      "execution_count": 54,
      "outputs": []
    },
    {
      "cell_type": "markdown",
      "metadata": {
        "id": "y6LM5Vnqbd4e"
      },
      "source": [
        "Посмотрим какие размерности получились"
      ]
    },
    {
      "cell_type": "code",
      "metadata": {
        "colab": {
          "base_uri": "https://localhost:8080/"
        },
        "id": "ERLdnhCZbMLz",
        "outputId": "1b6b2952-ea72-4c6e-f638-4b2451eabf36"
      },
      "source": [
        "print(X_train)"
      ],
      "execution_count": 55,
      "outputs": [
        {
          "output_type": "stream",
          "name": "stdout",
          "text": [
            "[[0.00000000e+00 4.93527027e-04 4.93527027e-04 ... 4.16806866e-02\n",
            "  4.15909553e-02 4.44399548e-02]\n",
            " [4.93527027e-04 4.93527027e-04 2.24330710e-04 ... 4.15909553e-02\n",
            "  4.44399548e-02 4.73113911e-02]\n",
            " [4.93527027e-04 2.24330710e-04 4.93527027e-04 ... 4.44399548e-02\n",
            "  4.73113911e-02 4.56289081e-02]\n",
            " ...\n",
            " [3.50337622e-01 3.39569705e-01 3.38223732e-01 ... 1.37896221e-01\n",
            "  1.37896221e-01 1.45747801e-01]\n",
            " [3.39569705e-01 3.38223732e-01 3.47196960e-01 ... 1.37896221e-01\n",
            "  1.45747801e-01 1.41485512e-01]\n",
            " [3.38223732e-01 3.47196960e-01 3.46299659e-01 ... 1.45747801e-01\n",
            "  1.41485512e-01 1.41261187e-01]]\n"
          ]
        }
      ]
    },
    {
      "cell_type": "code",
      "metadata": {
        "colab": {
          "base_uri": "https://localhost:8080/"
        },
        "id": "_2p8LByCbSHt",
        "outputId": "5d25859b-9f7b-4e7f-85f9-a7c5d158f579"
      },
      "source": [
        "print(y_train)"
      ],
      "execution_count": 56,
      "outputs": [
        {
          "output_type": "stream",
          "name": "stdout",
          "text": [
            "[0.04731139 0.04562891 0.04446239 ... 0.14148551 0.14126119 0.13453125]\n"
          ]
        }
      ]
    },
    {
      "cell_type": "code",
      "metadata": {
        "colab": {
          "base_uri": "https://localhost:8080/"
        },
        "id": "ETIMFXwtbXXL",
        "outputId": "d64931ce-84fb-4615-f883-26910986bbfb"
      },
      "source": [
        "print(X_train.shape), print(y_train.shape)"
      ],
      "execution_count": 57,
      "outputs": [
        {
          "output_type": "stream",
          "name": "stdout",
          "text": [
            "(1364, 100)\n",
            "(1364,)\n"
          ]
        },
        {
          "output_type": "execute_result",
          "data": {
            "text/plain": [
              "(None, None)"
            ]
          },
          "metadata": {},
          "execution_count": 57
        }
      ]
    },
    {
      "cell_type": "code",
      "source": [
        "print(X_test.shape), print(y_test.shape)"
      ],
      "metadata": {
        "colab": {
          "base_uri": "https://localhost:8080/"
        },
        "id": "8OoiRC-PX7xv",
        "outputId": "040cbe86-ccf6-40b1-c530-68207e158c46"
      },
      "execution_count": 72,
      "outputs": [
        {
          "output_type": "stream",
          "name": "stdout",
          "text": [
            "(688, 100, 1)\n",
            "(688,)\n"
          ]
        },
        {
          "output_type": "execute_result",
          "data": {
            "text/plain": [
              "(None, None)"
            ]
          },
          "metadata": {},
          "execution_count": 72
        }
      ]
    },
    {
      "cell_type": "markdown",
      "metadata": {
        "id": "puC2QsUwbmrI"
      },
      "source": [
        "#Моделирование"
      ]
    },
    {
      "cell_type": "markdown",
      "metadata": {
        "id": "PDjzDyFvbq9q"
      },
      "source": [
        "#Модель LSTM"
      ]
    },
    {
      "cell_type": "code",
      "metadata": {
        "colab": {
          "base_uri": "https://localhost:8080/"
        },
        "id": "Z-tnOGpsclom",
        "outputId": "f0299fde-c46b-4f32-bfa2-c0544aa60064"
      },
      "source": [
        "df2.shape"
      ],
      "execution_count": 58,
      "outputs": [
        {
          "output_type": "execute_result",
          "data": {
            "text/plain": [
              "(2254, 1)"
            ]
          },
          "metadata": {},
          "execution_count": 58
        }
      ]
    },
    {
      "cell_type": "code",
      "metadata": {
        "colab": {
          "base_uri": "https://localhost:8080/"
        },
        "id": "jjuJ3OtMcosX",
        "outputId": "dffc4b44-6f8e-415f-a740-60a4c6d762ca"
      },
      "source": [
        "df2"
      ],
      "execution_count": 59,
      "outputs": [
        {
          "output_type": "execute_result",
          "data": {
            "text/plain": [
              "array([[0.        ],\n",
              "       [0.00049353],\n",
              "       [0.00049353],\n",
              "       ...,\n",
              "       [0.22830159],\n",
              "       [0.22964756],\n",
              "       [0.23996678]])"
            ]
          },
          "metadata": {},
          "execution_count": 59
        }
      ]
    },
    {
      "cell_type": "code",
      "metadata": {
        "id": "P8mtT0fIc4Lm"
      },
      "source": [
        "# Cнабдим еще одной размерностью \n",
        "# для нейросети LSTM [samples,timesteps,features]\n",
        "X_train =X_train.reshape(X_train.shape[0],X_train.shape[1] , 1)\n",
        "X_test = X_test.reshape(X_test.shape[0],X_test.shape[1] , 1)"
      ],
      "execution_count": 60,
      "outputs": []
    },
    {
      "cell_type": "code",
      "metadata": {
        "id": "04RAhDPLdWPM"
      },
      "source": [
        "### Create LSTM model\n",
        "from tensorflow.keras.models import Sequential\n",
        "from tensorflow.keras.layers import Dense\n",
        "from  tensorflow.keras.layers import LSTM"
      ],
      "execution_count": 61,
      "outputs": []
    },
    {
      "cell_type": "code",
      "metadata": {
        "id": "ZefTQcLpdYy8"
      },
      "source": [
        "model = Sequential()\n",
        "model.add(LSTM(50,return_sequences=True,input_shape=(100,1)))\n",
        "model.add(LSTM(50,return_sequences=True))\n",
        "model.add(LSTM(50))\n",
        "model.add(Dense(1))\n",
        "model.compile(loss='mean_squared_error',optimizer = 'adam')"
      ],
      "execution_count": 62,
      "outputs": []
    },
    {
      "cell_type": "code",
      "metadata": {
        "colab": {
          "base_uri": "https://localhost:8080/"
        },
        "id": "mpf0wIkZdb7G",
        "outputId": "12fa12f1-f8d5-4e4a-88e2-d4c6c230655f"
      },
      "source": [
        "model.summary()"
      ],
      "execution_count": 63,
      "outputs": [
        {
          "output_type": "stream",
          "name": "stdout",
          "text": [
            "Model: \"sequential_1\"\n",
            "_________________________________________________________________\n",
            " Layer (type)                Output Shape              Param #   \n",
            "=================================================================\n",
            " lstm_3 (LSTM)               (None, 100, 50)           10400     \n",
            "                                                                 \n",
            " lstm_4 (LSTM)               (None, 100, 50)           20200     \n",
            "                                                                 \n",
            " lstm_5 (LSTM)               (None, 50)                20200     \n",
            "                                                                 \n",
            " dense_1 (Dense)             (None, 1)                 51        \n",
            "                                                                 \n",
            "=================================================================\n",
            "Total params: 50,851\n",
            "Trainable params: 50,851\n",
            "Non-trainable params: 0\n",
            "_________________________________________________________________\n"
          ]
        }
      ]
    },
    {
      "cell_type": "code",
      "metadata": {
        "colab": {
          "base_uri": "https://localhost:8080/"
        },
        "id": "S7iDVPp_deZA",
        "outputId": "c876bfce-c67b-41d9-b8a4-32008cb41e6d"
      },
      "source": [
        "model.fit(X_train,y_train,validation_data=(X_test,y_test), epochs=10,batch_size=64,verbose=1 )"
      ],
      "execution_count": 64,
      "outputs": [
        {
          "output_type": "stream",
          "name": "stdout",
          "text": [
            "Epoch 1/10\n",
            "22/22 [==============================] - 12s 276ms/step - loss: 0.0169 - val_loss: 0.0056\n",
            "Epoch 2/10\n",
            "22/22 [==============================] - 5s 219ms/step - loss: 0.0023 - val_loss: 0.0031\n",
            "Epoch 3/10\n",
            "22/22 [==============================] - 5s 214ms/step - loss: 0.0011 - val_loss: 0.0031\n",
            "Epoch 4/10\n",
            "22/22 [==============================] - 5s 248ms/step - loss: 0.0010 - val_loss: 0.0029\n",
            "Epoch 5/10\n",
            "22/22 [==============================] - 5s 220ms/step - loss: 9.7966e-04 - val_loss: 0.0028\n",
            "Epoch 6/10\n",
            "22/22 [==============================] - 5s 208ms/step - loss: 9.0758e-04 - val_loss: 0.0027\n",
            "Epoch 7/10\n",
            "22/22 [==============================] - 5s 209ms/step - loss: 8.9713e-04 - val_loss: 0.0026\n",
            "Epoch 8/10\n",
            "22/22 [==============================] - 5s 229ms/step - loss: 8.5595e-04 - val_loss: 0.0025\n",
            "Epoch 9/10\n",
            "22/22 [==============================] - 5s 214ms/step - loss: 8.0306e-04 - val_loss: 0.0024\n",
            "Epoch 10/10\n",
            "22/22 [==============================] - 6s 265ms/step - loss: 7.7106e-04 - val_loss: 0.0026\n"
          ]
        },
        {
          "output_type": "execute_result",
          "data": {
            "text/plain": [
              "<keras.callbacks.History at 0x7f9ec32b7850>"
            ]
          },
          "metadata": {},
          "execution_count": 64
        }
      ]
    },
    {
      "cell_type": "code",
      "metadata": {
        "id": "jNXbkDrHdik3"
      },
      "source": [
        "# Сделаем предсказание на трейне и на тесте\n",
        "train_predict = model.predict(X_train)\n",
        "test_predict = model.predict(X_test)"
      ],
      "execution_count": 65,
      "outputs": []
    },
    {
      "cell_type": "code",
      "metadata": {
        "id": "yHlykrZ9kPho"
      },
      "source": [
        "#test_predict"
      ],
      "execution_count": null,
      "outputs": []
    },
    {
      "cell_type": "code",
      "metadata": {
        "id": "16Q4GaQgd8sB"
      },
      "source": [
        "# Вернемся к начальной размерности данных\n",
        "train_predict = scaler.inverse_transform(train_predict)\n",
        "test_predict = scaler.inverse_transform(test_predict)"
      ],
      "execution_count": 66,
      "outputs": []
    },
    {
      "cell_type": "code",
      "source": [
        "2254-1364\n"
      ],
      "metadata": {
        "colab": {
          "base_uri": "https://localhost:8080/"
        },
        "id": "4y1Lyxn1XqRM",
        "outputId": "f57de59a-d062-4ed4-a4ef-80788cfe3b72"
      },
      "execution_count": 71,
      "outputs": [
        {
          "output_type": "execute_result",
          "data": {
            "text/plain": [
              "890"
            ]
          },
          "metadata": {},
          "execution_count": 71
        }
      ]
    },
    {
      "cell_type": "code",
      "source": [
        "len(test_predict)"
      ],
      "metadata": {
        "colab": {
          "base_uri": "https://localhost:8080/"
        },
        "id": "GPMzcIWwXe_J",
        "outputId": "c8e870d6-daa8-4e0f-d049-4901a53f41ae"
      },
      "execution_count": 70,
      "outputs": [
        {
          "output_type": "execute_result",
          "data": {
            "text/plain": [
              "688"
            ]
          },
          "metadata": {},
          "execution_count": 70
        }
      ]
    },
    {
      "cell_type": "code",
      "metadata": {
        "colab": {
          "base_uri": "https://localhost:8080/"
        },
        "id": "oXOB1p2yfz5x",
        "outputId": "405376f5-e6ed-44e6-ac31-d3513eefeb0d"
      },
      "source": [
        "test_predict [670:]"
      ],
      "execution_count": 73,
      "outputs": [
        {
          "output_type": "execute_result",
          "data": {
            "text/plain": [
              "array([[14.050877],\n",
              "       [13.93925 ],\n",
              "       [13.791364],\n",
              "       [13.613714],\n",
              "       [13.420478],\n",
              "       [13.214711],\n",
              "       [13.001446],\n",
              "       [12.786407],\n",
              "       [12.568649],\n",
              "       [12.346366],\n",
              "       [12.123643],\n",
              "       [11.902746],\n",
              "       [11.682165],\n",
              "       [11.463553],\n",
              "       [11.250615],\n",
              "       [11.053884],\n",
              "       [10.882979],\n",
              "       [10.741148]], dtype=float32)"
            ]
          },
          "metadata": {},
          "execution_count": 73
        }
      ]
    },
    {
      "cell_type": "code",
      "metadata": {
        "colab": {
          "base_uri": "https://localhost:8080/"
        },
        "id": "gRB0adKXeCj8",
        "outputId": "18d97737-3d76-4c6f-bff2-f7c1958ff22b"
      },
      "source": [
        "### Посчитаем метрику RMSE на трейне\n",
        "import math\n",
        "from sklearn.metrics import mean_squared_error\n",
        "math.sqrt(mean_squared_error(y_train,train_predict))"
      ],
      "execution_count": 38,
      "outputs": [
        {
          "output_type": "execute_result",
          "data": {
            "text/plain": [
              "15.230433204111256"
            ]
          },
          "metadata": {},
          "execution_count": 38
        }
      ]
    },
    {
      "cell_type": "code",
      "metadata": {
        "colab": {
          "base_uri": "https://localhost:8080/"
        },
        "id": "uOebTNsPeLJ1",
        "outputId": "806aeb78-bbee-44be-d67b-e2be5417bfaa"
      },
      "source": [
        "### Посчитаем метрику RMSE на тесте\n",
        "math.sqrt(mean_squared_error(y_test,test_predict))"
      ],
      "execution_count": 39,
      "outputs": [
        {
          "output_type": "execute_result",
          "data": {
            "text/plain": [
              "18.43948023051257"
            ]
          },
          "metadata": {},
          "execution_count": 39
        }
      ]
    },
    {
      "cell_type": "code",
      "source": [
        "### Посчитаем метрику MAPE на трейне\n",
        "from sklearn.metrics import mean_absolute_percentage_error\n",
        "mean_absolute_percentage_error(y_train,train_predict)"
      ],
      "metadata": {
        "colab": {
          "base_uri": "https://localhost:8080/"
        },
        "id": "sABwyEzZWET3",
        "outputId": "94abb454-a045-4cb7-b313-36178fa7a629"
      },
      "execution_count": 74,
      "outputs": [
        {
          "output_type": "execute_result",
          "data": {
            "text/plain": [
              "47.24578022155041"
            ]
          },
          "metadata": {},
          "execution_count": 74
        }
      ]
    },
    {
      "cell_type": "code",
      "source": [
        "### Посчитаем метрику MAPE на тесте\n",
        "from sklearn.metrics import mean_absolute_percentage_error\n",
        "mean_absolute_percentage_error(y_test,test_predict)"
      ],
      "metadata": {
        "colab": {
          "base_uri": "https://localhost:8080/"
        },
        "id": "0XSDf0-7Yovl",
        "outputId": "5c41f723-5d3e-4e17-a8db-3a643181186b"
      },
      "execution_count": 75,
      "outputs": [
        {
          "output_type": "execute_result",
          "data": {
            "text/plain": [
              "45.31537573189552"
            ]
          },
          "metadata": {},
          "execution_count": 75
        }
      ]
    },
    {
      "cell_type": "code",
      "source": [
        ""
      ],
      "metadata": {
        "id": "ZTJ4V20YFoc8"
      },
      "execution_count": null,
      "outputs": []
    },
    {
      "cell_type": "code",
      "metadata": {
        "colab": {
          "base_uri": "https://localhost:8080/",
          "height": 515
        },
        "id": "a_JLP3f-mXq0",
        "outputId": "d8d08ac2-bba2-4fbb-b01e-aa831a35545c"
      },
      "source": [
        "# Построим график нашего обучения и предсказания модели на тестовых данных\n",
        "### Plotting\n",
        "#Shift train predictions for plotting\n",
        "plt.figure(figsize=(16,8))\n",
        "look_back = 100\n",
        "trainPredictPlot = numpy.empty_like(df2)\n",
        "trainPredictPlot[:,:] =np.nan\n",
        "trainPredictPlot[look_back:len(train_predict)+look_back, :] = train_predict\n",
        "# shift test predictions for plotting\n",
        "testPredictPlot = numpy.empty_like(df2)\n",
        "testPredictPlot[:,:] = numpy.nan\n",
        "testPredictPlot[len(train_predict)+(look_back*2)+1:len(df2)-1,:] = test_predict\n",
        "#plot baseline and predictions\n",
        "plt.plot(scaler.inverse_transform(df2))\n",
        "plt.plot(trainPredictPlot)\n",
        "plt.plot(testPredictPlot)\n",
        "import matplotlib.patches as mpatches\n",
        "blue_patch = mpatches.Patch(color='cyan', label='Курс акции')\n",
        "red_patch = mpatches.Patch(color='red', label='Предсказания на трейне')\n",
        "yellow_patch = mpatches.Patch(color='yellow', label='Предсказания на тесте')\n",
        "plt.legend(handles=[blue_patch,red_patch,yellow_patch])\n",
        "plt.show()\n"
      ],
      "execution_count": 37,
      "outputs": [
        {
          "output_type": "display_data",
          "data": {
            "image/png": "[encoded data removed]",
            "text/plain": [
              "<Figure size 1152x576 with 1 Axes>"
            ]
          },
          "metadata": {}
        }
      ]
    },
    {
      "cell_type": "code",
      "metadata": {
        "id": "5rKRqbQXmgX7"
      },
      "source": [
        "# Попробуем сделать предсказание на 30 дней по следующей логике:\n",
        "# Если time_step =100\n",
        "# Берем последние 100 дней, по обученной модели предсказываем 101 день\n",
        "# Добавляем его к данным, и сдвигаем эти 100 дней на одно значение\n",
        "# Предсказываем следующий день, добавляем его к данным и сдвигаем 100 дней еще на одно значение\n",
        "# Повторяем это 30 раз"
      ],
      "execution_count": null,
      "outputs": []
    },
    {
      "cell_type": "code",
      "metadata": {
        "colab": {
          "base_uri": "https://localhost:8080/"
        },
        "id": "TawNr8qnsB7v",
        "outputId": "58073acc-8b1a-4d19-eeb3-ca589fcdc68f"
      },
      "source": [
        "len(test_data)"
      ],
      "execution_count": 76,
      "outputs": [
        {
          "output_type": "execute_result",
          "data": {
            "text/plain": [
              "789"
            ]
          },
          "metadata": {},
          "execution_count": 76
        }
      ]
    },
    {
      "cell_type": "code",
      "source": [
        ""
      ],
      "metadata": {
        "id": "Cfjm-RxuZXN4"
      },
      "execution_count": null,
      "outputs": []
    },
    {
      "cell_type": "code",
      "metadata": {
        "colab": {
          "base_uri": "https://localhost:8080/"
        },
        "id": "59-lWNEEsEWn",
        "outputId": "594bdd99-59c9-4038-8ba8-ac8b9cb5a722"
      },
      "source": [
        "#Берем последние 100 дней\n",
        "x_input = test_data[689:].reshape(1,-1)\n",
        "x_input.shape"
      ],
      "execution_count": 77,
      "outputs": [
        {
          "output_type": "execute_result",
          "data": {
            "text/plain": [
              "(1, 100)"
            ]
          },
          "metadata": {},
          "execution_count": 77
        }
      ]
    },
    {
      "cell_type": "code",
      "metadata": {
        "id": "DTZPofocsYbf"
      },
      "source": [
        "temp_input = list(x_input)\n",
        "temp_input = temp_input[0].tolist()"
      ],
      "execution_count": 78,
      "outputs": []
    },
    {
      "cell_type": "code",
      "metadata": {
        "colab": {
          "base_uri": "https://localhost:8080/",
          "height": 380
        },
        "id": "dh2iT9MMsbr1",
        "outputId": "03931577-f72d-4170-81a3-9c34de081038"
      },
      "source": [
        "# Получаем предсказания для 30 дней на основе последних 100 дней\n",
        "from numpy import array\n",
        "lst_output=[]\n",
        "n_steps=100\n",
        "i=0\n",
        "while(i<30):\n",
        "\n",
        "    if(len(temp_input)>100):\n",
        "      #print (temp input)\n",
        "      x_input=np.array(temp_input[1:])\n",
        "     # print(\"{} day input {}\".format(i,x_input))\n",
        "      x_input=x_input.reshape((1,n_steps, 1))\n",
        "      #print (x_input)\n",
        "      yhat = model.predict(x_input, verbose=0)\n",
        "      #print(\"{} day output {}\".format(i,yhat))\n",
        "      temp_input.extend(yhat[0].tolist())\n",
        "      temp_input = temp_input[1:]\n",
        "      #print(temp_input)\n",
        "      lst_output.extend(yhat.tolist())\n",
        "      i=i+1\n",
        "    else:\n",
        "      x_input = x_input.reshape((1 , n_steps,1))\n",
        "      yhat = model.predict(x_input, verbose=0)\n",
        "     # print(yhat[0])\n",
        "      temp_input.extend(yhat[0].tolist())\n",
        "      #print(len(temp_input))\n",
        "      lst_output.extend(yhat.tolist())\n",
        "      i=i+1\n",
        "#print(lst_output)\n"
      ],
      "execution_count": 161,
      "outputs": [
        {
          "output_type": "error",
          "ename": "CatBoostError",
          "evalue": "ignored",
          "traceback": [
            "\u001b[0;31m---------------------------------------------------------------------------\u001b[0m",
            "\u001b[0;31mCatBoostError\u001b[0m                             Traceback (most recent call last)",
            "\u001b[0;32m<ipython-input-161-d6f448d17205>\u001b[0m in \u001b[0;36m<module>\u001b[0;34m()\u001b[0m\n\u001b[1;32m     21\u001b[0m     \u001b[0;32melse\u001b[0m\u001b[0;34m:\u001b[0m\u001b[0;34m\u001b[0m\u001b[0;34m\u001b[0m\u001b[0m\n\u001b[1;32m     22\u001b[0m       \u001b[0mx_input\u001b[0m \u001b[0;34m=\u001b[0m \u001b[0mx_input\u001b[0m\u001b[0;34m.\u001b[0m\u001b[0mreshape\u001b[0m\u001b[0;34m(\u001b[0m\u001b[0;34m(\u001b[0m\u001b[0;36m1\u001b[0m \u001b[0;34m,\u001b[0m \u001b[0mn_steps\u001b[0m\u001b[0;34m,\u001b[0m\u001b[0;36m1\u001b[0m\u001b[0;34m)\u001b[0m\u001b[0;34m)\u001b[0m\u001b[0;34m\u001b[0m\u001b[0;34m\u001b[0m\u001b[0m\n\u001b[0;32m---> 23\u001b[0;31m       \u001b[0myhat\u001b[0m \u001b[0;34m=\u001b[0m \u001b[0mmodel\u001b[0m\u001b[0;34m.\u001b[0m\u001b[0mpredict\u001b[0m\u001b[0;34m(\u001b[0m\u001b[0mx_input\u001b[0m\u001b[0;34m,\u001b[0m \u001b[0mverbose\u001b[0m\u001b[0;34m=\u001b[0m\u001b[0;36m0\u001b[0m\u001b[0;34m)\u001b[0m\u001b[0;34m\u001b[0m\u001b[0;34m\u001b[0m\u001b[0m\n\u001b[0m\u001b[1;32m     24\u001b[0m      \u001b[0;31m# print(yhat[0])\u001b[0m\u001b[0;34m\u001b[0m\u001b[0;34m\u001b[0m\u001b[0;34m\u001b[0m\u001b[0m\n\u001b[1;32m     25\u001b[0m       \u001b[0mtemp_input\u001b[0m\u001b[0;34m.\u001b[0m\u001b[0mextend\u001b[0m\u001b[0;34m(\u001b[0m\u001b[0myhat\u001b[0m\u001b[0;34m[\u001b[0m\u001b[0;36m0\u001b[0m\u001b[0;34m]\u001b[0m\u001b[0;34m.\u001b[0m\u001b[0mtolist\u001b[0m\u001b[0;34m(\u001b[0m\u001b[0;34m)\u001b[0m\u001b[0;34m)\u001b[0m\u001b[0;34m\u001b[0m\u001b[0;34m\u001b[0m\u001b[0m\n",
            "\u001b[0;32m/usr/local/lib/python3.7/dist-packages/catboost/core.py\u001b[0m in \u001b[0;36mpredict\u001b[0;34m(self, data, prediction_type, ntree_start, ntree_end, thread_count, verbose, task_type)\u001b[0m\n\u001b[1;32m   5394\u001b[0m         \u001b[0;32mif\u001b[0m \u001b[0mprediction_type\u001b[0m \u001b[0;32mis\u001b[0m \u001b[0;32mNone\u001b[0m\u001b[0;34m:\u001b[0m\u001b[0;34m\u001b[0m\u001b[0;34m\u001b[0m\u001b[0m\n\u001b[1;32m   5395\u001b[0m             \u001b[0mprediction_type\u001b[0m \u001b[0;34m=\u001b[0m \u001b[0mself\u001b[0m\u001b[0;34m.\u001b[0m\u001b[0m_get_default_prediction_type\u001b[0m\u001b[0;34m(\u001b[0m\u001b[0;34m)\u001b[0m\u001b[0;34m\u001b[0m\u001b[0;34m\u001b[0m\u001b[0m\n\u001b[0;32m-> 5396\u001b[0;31m         \u001b[0;32mreturn\u001b[0m \u001b[0mself\u001b[0m\u001b[0;34m.\u001b[0m\u001b[0m_predict\u001b[0m\u001b[0;34m(\u001b[0m\u001b[0mdata\u001b[0m\u001b[0;34m,\u001b[0m \u001b[0mprediction_type\u001b[0m\u001b[0;34m,\u001b[0m \u001b[0mntree_start\u001b[0m\u001b[0;34m,\u001b[0m \u001b[0mntree_end\u001b[0m\u001b[0;34m,\u001b[0m \u001b[0mthread_count\u001b[0m\u001b[0;34m,\u001b[0m \u001b[0mverbose\u001b[0m\u001b[0;34m,\u001b[0m \u001b[0;34m'predict'\u001b[0m\u001b[0;34m,\u001b[0m \u001b[0mtask_type\u001b[0m\u001b[0;34m)\u001b[0m\u001b[0;34m\u001b[0m\u001b[0;34m\u001b[0m\u001b[0m\n\u001b[0m\u001b[1;32m   5397\u001b[0m \u001b[0;34m\u001b[0m\u001b[0m\n\u001b[1;32m   5398\u001b[0m     \u001b[0;32mdef\u001b[0m \u001b[0mstaged_predict\u001b[0m\u001b[0;34m(\u001b[0m\u001b[0mself\u001b[0m\u001b[0;34m,\u001b[0m \u001b[0mdata\u001b[0m\u001b[0;34m,\u001b[0m \u001b[0mprediction_type\u001b[0m\u001b[0;34m=\u001b[0m\u001b[0;34m'RawFormulaVal'\u001b[0m\u001b[0;34m,\u001b[0m \u001b[0mntree_start\u001b[0m\u001b[0;34m=\u001b[0m\u001b[0;36m0\u001b[0m\u001b[0;34m,\u001b[0m \u001b[0mntree_end\u001b[0m\u001b[0;34m=\u001b[0m\u001b[0;36m0\u001b[0m\u001b[0;34m,\u001b[0m \u001b[0meval_period\u001b[0m\u001b[0;34m=\u001b[0m\u001b[0;36m1\u001b[0m\u001b[0;34m,\u001b[0m \u001b[0mthread_count\u001b[0m\u001b[0;34m=\u001b[0m\u001b[0;34m-\u001b[0m\u001b[0;36m1\u001b[0m\u001b[0;34m,\u001b[0m \u001b[0mverbose\u001b[0m\u001b[0;34m=\u001b[0m\u001b[0;32mNone\u001b[0m\u001b[0;34m)\u001b[0m\u001b[0;34m:\u001b[0m\u001b[0;34m\u001b[0m\u001b[0;34m\u001b[0m\u001b[0m\n",
            "\u001b[0;32m/usr/local/lib/python3.7/dist-packages/catboost/core.py\u001b[0m in \u001b[0;36m_predict\u001b[0;34m(self, data, prediction_type, ntree_start, ntree_end, thread_count, verbose, parent_method_name, task_type)\u001b[0m\n\u001b[1;32m   2267\u001b[0m         \u001b[0;32mif\u001b[0m \u001b[0mverbose\u001b[0m \u001b[0;32mis\u001b[0m \u001b[0;32mNone\u001b[0m\u001b[0;34m:\u001b[0m\u001b[0;34m\u001b[0m\u001b[0;34m\u001b[0m\u001b[0m\n\u001b[1;32m   2268\u001b[0m             \u001b[0mverbose\u001b[0m \u001b[0;34m=\u001b[0m \u001b[0;32mFalse\u001b[0m\u001b[0;34m\u001b[0m\u001b[0;34m\u001b[0m\u001b[0m\n\u001b[0;32m-> 2269\u001b[0;31m         \u001b[0mdata\u001b[0m\u001b[0;34m,\u001b[0m \u001b[0mdata_is_single_object\u001b[0m \u001b[0;34m=\u001b[0m \u001b[0mself\u001b[0m\u001b[0;34m.\u001b[0m\u001b[0m_process_predict_input_data\u001b[0m\u001b[0;34m(\u001b[0m\u001b[0mdata\u001b[0m\u001b[0;34m,\u001b[0m \u001b[0mparent_method_name\u001b[0m\u001b[0;34m,\u001b[0m \u001b[0mthread_count\u001b[0m\u001b[0;34m)\u001b[0m\u001b[0;34m\u001b[0m\u001b[0;34m\u001b[0m\u001b[0m\n\u001b[0m\u001b[1;32m   2270\u001b[0m         \u001b[0mself\u001b[0m\u001b[0;34m.\u001b[0m\u001b[0m_validate_prediction_type\u001b[0m\u001b[0;34m(\u001b[0m\u001b[0mprediction_type\u001b[0m\u001b[0;34m)\u001b[0m\u001b[0;34m\u001b[0m\u001b[0;34m\u001b[0m\u001b[0m\n\u001b[1;32m   2271\u001b[0m \u001b[0;34m\u001b[0m\u001b[0m\n",
            "\u001b[0;32m/usr/local/lib/python3.7/dist-packages/catboost/core.py\u001b[0m in \u001b[0;36m_process_predict_input_data\u001b[0;34m(self, data, parent_method_name, thread_count, label)\u001b[0m\n\u001b[1;32m   2253\u001b[0m                 \u001b[0mtext_features\u001b[0m\u001b[0;34m=\u001b[0m\u001b[0mself\u001b[0m\u001b[0;34m.\u001b[0m\u001b[0m_get_text_feature_indices\u001b[0m\u001b[0;34m(\u001b[0m\u001b[0;34m)\u001b[0m \u001b[0;32mif\u001b[0m \u001b[0;32mnot\u001b[0m \u001b[0misinstance\u001b[0m\u001b[0;34m(\u001b[0m\u001b[0mdata\u001b[0m\u001b[0;34m,\u001b[0m \u001b[0mFeaturesData\u001b[0m\u001b[0;34m)\u001b[0m \u001b[0;32melse\u001b[0m \u001b[0;32mNone\u001b[0m\u001b[0;34m,\u001b[0m\u001b[0;34m\u001b[0m\u001b[0;34m\u001b[0m\u001b[0m\n\u001b[1;32m   2254\u001b[0m                 \u001b[0membedding_features\u001b[0m\u001b[0;34m=\u001b[0m\u001b[0mself\u001b[0m\u001b[0;34m.\u001b[0m\u001b[0m_get_embedding_feature_indices\u001b[0m\u001b[0;34m(\u001b[0m\u001b[0;34m)\u001b[0m \u001b[0;32mif\u001b[0m \u001b[0;32mnot\u001b[0m \u001b[0misinstance\u001b[0m\u001b[0;34m(\u001b[0m\u001b[0mdata\u001b[0m\u001b[0;34m,\u001b[0m \u001b[0mFeaturesData\u001b[0m\u001b[0;34m)\u001b[0m \u001b[0;32melse\u001b[0m \u001b[0;32mNone\u001b[0m\u001b[0;34m,\u001b[0m\u001b[0;34m\u001b[0m\u001b[0;34m\u001b[0m\u001b[0m\n\u001b[0;32m-> 2255\u001b[0;31m                 \u001b[0mthread_count\u001b[0m\u001b[0;34m=\u001b[0m\u001b[0mthread_count\u001b[0m\u001b[0;34m\u001b[0m\u001b[0;34m\u001b[0m\u001b[0m\n\u001b[0m\u001b[1;32m   2256\u001b[0m             )\n\u001b[1;32m   2257\u001b[0m         \u001b[0;32mreturn\u001b[0m \u001b[0mdata\u001b[0m\u001b[0;34m,\u001b[0m \u001b[0mis_single_object\u001b[0m\u001b[0;34m\u001b[0m\u001b[0;34m\u001b[0m\u001b[0m\n",
            "\u001b[0;32m/usr/local/lib/python3.7/dist-packages/catboost/core.py\u001b[0m in \u001b[0;36m__init__\u001b[0;34m(self, data, label, cat_features, text_features, embedding_features, column_description, pairs, delimiter, has_header, ignore_csv_quoting, weight, group_id, group_weight, subgroup_id, pairs_weight, baseline, timestamp, feature_names, feature_tags, thread_count, log_cout, log_cerr)\u001b[0m\n\u001b[1;32m    579\u001b[0m         \u001b[0;32mif\u001b[0m \u001b[0mdata\u001b[0m \u001b[0;32mis\u001b[0m \u001b[0;32mnot\u001b[0m \u001b[0;32mNone\u001b[0m\u001b[0;34m:\u001b[0m\u001b[0;34m\u001b[0m\u001b[0;34m\u001b[0m\u001b[0m\n\u001b[1;32m    580\u001b[0m             \u001b[0mself\u001b[0m\u001b[0;34m.\u001b[0m\u001b[0m_check_data_type\u001b[0m\u001b[0;34m(\u001b[0m\u001b[0mdata\u001b[0m\u001b[0;34m)\u001b[0m\u001b[0;34m\u001b[0m\u001b[0;34m\u001b[0m\u001b[0m\n\u001b[0;32m--> 581\u001b[0;31m             \u001b[0mself\u001b[0m\u001b[0;34m.\u001b[0m\u001b[0m_check_data_empty\u001b[0m\u001b[0;34m(\u001b[0m\u001b[0mdata\u001b[0m\u001b[0;34m)\u001b[0m\u001b[0;34m\u001b[0m\u001b[0;34m\u001b[0m\u001b[0m\n\u001b[0m\u001b[1;32m    582\u001b[0m             \u001b[0;32mif\u001b[0m \u001b[0mpairs\u001b[0m \u001b[0;32mis\u001b[0m \u001b[0;32mnot\u001b[0m \u001b[0;32mNone\u001b[0m \u001b[0;32mand\u001b[0m \u001b[0misinstance\u001b[0m\u001b[0;34m(\u001b[0m\u001b[0mdata\u001b[0m\u001b[0;34m,\u001b[0m \u001b[0mPATH_TYPES\u001b[0m\u001b[0;34m)\u001b[0m \u001b[0;34m!=\u001b[0m \u001b[0misinstance\u001b[0m\u001b[0;34m(\u001b[0m\u001b[0mpairs\u001b[0m\u001b[0;34m,\u001b[0m \u001b[0mPATH_TYPES\u001b[0m\u001b[0;34m)\u001b[0m\u001b[0;34m:\u001b[0m\u001b[0;34m\u001b[0m\u001b[0;34m\u001b[0m\u001b[0m\n\u001b[1;32m    583\u001b[0m                 \u001b[0;32mraise\u001b[0m \u001b[0mCatBoostError\u001b[0m\u001b[0;34m(\u001b[0m\u001b[0;34m\"data and pairs parameters should be the same types.\"\u001b[0m\u001b[0;34m)\u001b[0m\u001b[0;34m\u001b[0m\u001b[0;34m\u001b[0m\u001b[0m\n",
            "\u001b[0;32m/usr/local/lib/python3.7/dist-packages/catboost/core.py\u001b[0m in \u001b[0;36m_check_data_empty\u001b[0;34m(self, data)\u001b[0m\n\u001b[1;32m    736\u001b[0m                     \u001b[0mdata_shape\u001b[0m \u001b[0;34m=\u001b[0m \u001b[0mtuple\u001b[0m\u001b[0;34m(\u001b[0m\u001b[0mdata_shape\u001b[0m \u001b[0;34m+\u001b[0m \u001b[0mtuple\u001b[0m\u001b[0;34m(\u001b[0m\u001b[0;34m[\u001b[0m\u001b[0;36m1\u001b[0m\u001b[0;34m]\u001b[0m\u001b[0;34m)\u001b[0m\u001b[0;34m)\u001b[0m\u001b[0;34m\u001b[0m\u001b[0;34m\u001b[0m\u001b[0m\n\u001b[1;32m    737\u001b[0m             \u001b[0;32mif\u001b[0m \u001b[0;32mnot\u001b[0m \u001b[0mlen\u001b[0m\u001b[0;34m(\u001b[0m\u001b[0mdata_shape\u001b[0m\u001b[0;34m)\u001b[0m \u001b[0;34m==\u001b[0m \u001b[0;36m2\u001b[0m\u001b[0;34m:\u001b[0m\u001b[0;34m\u001b[0m\u001b[0;34m\u001b[0m\u001b[0m\n\u001b[0;32m--> 738\u001b[0;31m                 \u001b[0;32mraise\u001b[0m \u001b[0mCatBoostError\u001b[0m\u001b[0;34m(\u001b[0m\u001b[0;34m\"Input data has invalid shape: {}. Must be 2 dimensional\"\u001b[0m\u001b[0;34m.\u001b[0m\u001b[0mformat\u001b[0m\u001b[0;34m(\u001b[0m\u001b[0mdata_shape\u001b[0m\u001b[0;34m)\u001b[0m\u001b[0;34m)\u001b[0m\u001b[0;34m\u001b[0m\u001b[0;34m\u001b[0m\u001b[0m\n\u001b[0m\u001b[1;32m    739\u001b[0m             \u001b[0;32mif\u001b[0m \u001b[0mdata_shape\u001b[0m\u001b[0;34m[\u001b[0m\u001b[0;36m1\u001b[0m\u001b[0;34m]\u001b[0m \u001b[0;34m==\u001b[0m \u001b[0;36m0\u001b[0m\u001b[0;34m:\u001b[0m\u001b[0;34m\u001b[0m\u001b[0;34m\u001b[0m\u001b[0m\n\u001b[1;32m    740\u001b[0m                 \u001b[0;32mraise\u001b[0m \u001b[0mCatBoostError\u001b[0m\u001b[0;34m(\u001b[0m\u001b[0;34m\"Input data must have at least one feature\"\u001b[0m\u001b[0;34m)\u001b[0m\u001b[0;34m\u001b[0m\u001b[0;34m\u001b[0m\u001b[0m\n",
            "\u001b[0;31mCatBoostError\u001b[0m: Input data has invalid shape: (1, 100, 1). Must be 2 dimensional"
          ]
        }
      ]
    },
    {
      "cell_type": "code",
      "metadata": {
        "id": "esBiUmJLspUe"
      },
      "source": [
        "day_new=np.arange(1,101)\n",
        "day_pred = np.arange(101,131)"
      ],
      "execution_count": 80,
      "outputs": []
    },
    {
      "cell_type": "code",
      "metadata": {
        "id": "xd-b1Iwdswew"
      },
      "source": [
        "df3=df2.tolist()\n",
        "df3.extend(lst_output)"
      ],
      "execution_count": 81,
      "outputs": []
    },
    {
      "cell_type": "code",
      "metadata": {
        "colab": {
          "base_uri": "https://localhost:8080/"
        },
        "id": "tY53dKlBGXmq",
        "outputId": "21b365b9-e47f-4e24-8774-c55b6045395c"
      },
      "source": [
        "df3[:10]"
      ],
      "execution_count": 160,
      "outputs": [
        {
          "output_type": "execute_result",
          "data": {
            "text/plain": [
              "array([[1.00300002],\n",
              "       [1.02499998],\n",
              "       [1.02499998],\n",
              "       [1.01300001],\n",
              "       [1.02499998],\n",
              "       [1.097     ],\n",
              "       [1.15499997],\n",
              "       [1.15699995],\n",
              "       [1.11500001],\n",
              "       [1.13300002]])"
            ]
          },
          "metadata": {},
          "execution_count": 160
        }
      ]
    },
    {
      "cell_type": "code",
      "metadata": {
        "id": "2pKkhyN-s0US"
      },
      "source": [
        "df2=scaler.fit_transform(np.array(df2).reshape(-1,1))\n",
        "df1=scaler.fit_transform(np.array(df1).reshape(-1,1))"
      ],
      "execution_count": 83,
      "outputs": []
    },
    {
      "cell_type": "code",
      "metadata": {
        "colab": {
          "base_uri": "https://localhost:8080/",
          "height": 299
        },
        "id": "U9g-VPwbs5uZ",
        "outputId": "005bfd5d-2c95-4fb4-c27d-78a7ff4bbf29"
      },
      "source": [
        "# Рисуем график предсказаний на 30 дней для LSTM\n",
        "#plt.plot(day_new,scaler.inverse_transform(df2[2154:]),label='Курс акции ')\n",
        "plt.plot(day_pred,scaler.inverse_transform(lst_output),label='Предсказание курса LSTM')\n",
        "plt.plot(scaler.inverse_transform(df1[2154:]),label='Курс акции за 100 дней ')\n",
        "plt.legend()\n",
        "#plt.plot(df1[2154:])"
      ],
      "execution_count": 84,
      "outputs": [
        {
          "output_type": "execute_result",
          "data": {
            "text/plain": [
              "<matplotlib.legend.Legend at 0x7f9ebefad490>"
            ]
          },
          "metadata": {},
          "execution_count": 84
        },
        {
          "output_type": "display_data",
          "data": {
            "image/png": "[encoded data removed]",
            "text/plain": [
              "<Figure size 432x288 with 1 Axes>"
            ]
          },
          "metadata": {}
        }
      ]
    },
    {
      "cell_type": "code",
      "source": [
        "lstm_pred = scaler.inverse_transform(lst_output)"
      ],
      "metadata": {
        "id": "7xeB18UvaaxL"
      },
      "execution_count": 85,
      "outputs": []
    },
    {
      "cell_type": "code",
      "source": [
        "len(lstm_pred)"
      ],
      "metadata": {
        "colab": {
          "base_uri": "https://localhost:8080/"
        },
        "id": "CfSY_VXAbZeD",
        "outputId": "d810bef0-14b5-41e2-db4c-8a80f39943a2"
      },
      "execution_count": 88,
      "outputs": [
        {
          "output_type": "execute_result",
          "data": {
            "text/plain": [
              "30"
            ]
          },
          "metadata": {},
          "execution_count": 88
        }
      ]
    },
    {
      "cell_type": "code",
      "source": [
        "#  Запишем значения последних 30 дней, которые неизвестны нашему алгоритму LSTM в переменную df_30_1 и преобразуем ее к виду, который получаем на выходе алгоритма:\n",
        "df_30 = df.reset_index()['Close']"
      ],
      "metadata": {
        "id": "4iAU5iAKbusV"
      },
      "execution_count": 91,
      "outputs": []
    },
    {
      "cell_type": "code",
      "source": [
        "df_30_1 = df_30[-30:]"
      ],
      "metadata": {
        "id": "GeCzqN7bce_H"
      },
      "execution_count": 92,
      "outputs": []
    },
    {
      "cell_type": "code",
      "source": [
        "df_30_1 = np.array(df_30_1).reshape(-1,1)"
      ],
      "metadata": {
        "id": "idYCzmkjc6Tb"
      },
      "execution_count": 94,
      "outputs": []
    },
    {
      "cell_type": "code",
      "source": [
        "df_30_1[:10]"
      ],
      "metadata": {
        "colab": {
          "base_uri": "https://localhost:8080/"
        },
        "id": "SNgYrNHBdLu3",
        "outputId": "53b166ae-bbdc-4699-ea54-ae1fd891c142"
      },
      "execution_count": 159,
      "outputs": [
        {
          "output_type": "execute_result",
          "data": {
            "text/plain": [
              "array([[11.31999969],\n",
              "       [11.47000027],\n",
              "       [11.44999981],\n",
              "       [12.42000008],\n",
              "       [12.5       ],\n",
              "       [12.77999973],\n",
              "       [12.46000004],\n",
              "       [12.46000004],\n",
              "       [11.88000011],\n",
              "       [11.68000031]])"
            ]
          },
          "metadata": {},
          "execution_count": 159
        }
      ]
    },
    {
      "cell_type": "code",
      "source": [
        "lstm_pred[:10]"
      ],
      "metadata": {
        "colab": {
          "base_uri": "https://localhost:8080/"
        },
        "id": "hd49NBf1aj8R",
        "outputId": "3ea252fe-c730-4197-ebfc-7a843159c697"
      },
      "execution_count": 87,
      "outputs": [
        {
          "output_type": "execute_result",
          "data": {
            "text/plain": [
              "array([[10.55285471],\n",
              "       [10.49680604],\n",
              "       [10.45217381],\n",
              "       [10.41265365],\n",
              "       [10.37436633],\n",
              "       [10.33520353],\n",
              "       [10.29425191],\n",
              "       [10.25135072],\n",
              "       [10.20673643],\n",
              "       [10.16085011]])"
            ]
          },
          "metadata": {},
          "execution_count": 87
        }
      ]
    },
    {
      "cell_type": "code",
      "source": [
        "# Вычислим MAPE для предсказания алгоритмом LSTM на последних 30 днях\n",
        "mean_absolute_percentage_error(df_30_1,lstm_pred)"
      ],
      "metadata": {
        "colab": {
          "base_uri": "https://localhost:8080/"
        },
        "id": "QLO3jT1DaxQE",
        "outputId": "f23e4a64-6332-48b8-88fc-9b9351dc8fb9"
      },
      "execution_count": 96,
      "outputs": [
        {
          "output_type": "execute_result",
          "data": {
            "text/plain": [
              "0.14153446411424692"
            ]
          },
          "metadata": {},
          "execution_count": 96
        }
      ]
    },
    {
      "cell_type": "markdown",
      "metadata": {
        "id": "6t2A31Wq81Pz"
      },
      "source": [
        "#Линейная Регрессия"
      ]
    },
    {
      "cell_type": "code",
      "metadata": {
        "id": "m-11myog88bf"
      },
      "source": [
        "# Построим  линейную регрессию:\n",
        "#reshape into X=t,t+1,t+2,t+3 and Y=t+4\n",
        "time_step = 100\n",
        "X_train,y_train = create_dataset(train_data,time_step)\n",
        "X_test,y_test = create_dataset(test_data,time_step)"
      ],
      "execution_count": 97,
      "outputs": []
    },
    {
      "cell_type": "code",
      "metadata": {
        "colab": {
          "base_uri": "https://localhost:8080/"
        },
        "id": "5HkS-Q_X9C5K",
        "outputId": "16eaf2ee-1c54-414d-c0f0-7d9284203e61"
      },
      "source": [
        "#Create and train  the Linear Regression  Model\n",
        "lr = LinearRegression()\n",
        "# Train the model\n",
        "lr.fit(X_train,y_train)"
      ],
      "execution_count": 98,
      "outputs": [
        {
          "output_type": "execute_result",
          "data": {
            "text/plain": [
              "LinearRegression()"
            ]
          },
          "metadata": {},
          "execution_count": 98
        }
      ]
    },
    {
      "cell_type": "code",
      "metadata": {
        "id": "GlB3buw99JnO"
      },
      "source": [
        ""
      ],
      "execution_count": null,
      "outputs": []
    },
    {
      "cell_type": "code",
      "metadata": {
        "id": "FlhujA2sjYHs"
      },
      "source": [
        "#Lets Do the prediction and sheck perfomance metrics\n",
        "lr_train_predict = lr.predict(X_train)\n",
        "lr_test_predict = lr.predict(X_test)"
      ],
      "execution_count": 99,
      "outputs": []
    },
    {
      "cell_type": "code",
      "metadata": {
        "colab": {
          "base_uri": "https://localhost:8080/"
        },
        "id": "5Hi_lLSZabfq",
        "outputId": "62c9b52d-db7a-4b1a-8fc5-4c5faa37cd51"
      },
      "source": [
        "type(lr_train_predict)"
      ],
      "execution_count": 100,
      "outputs": [
        {
          "output_type": "execute_result",
          "data": {
            "text/plain": [
              "numpy.ndarray"
            ]
          },
          "metadata": {},
          "execution_count": 100
        }
      ]
    },
    {
      "cell_type": "code",
      "metadata": {
        "id": "niV_JWumTzDW"
      },
      "source": [
        "lr_train_predict = lr_train_predict.reshape(-1,1)\n",
        "lr_test_predict = lr_test_predict.reshape(-1,1)\n"
      ],
      "execution_count": 101,
      "outputs": []
    },
    {
      "cell_type": "code",
      "metadata": {
        "colab": {
          "base_uri": "https://localhost:8080/"
        },
        "id": "LcOtmDyVUNpC",
        "outputId": "39477c0f-dc95-4def-b16e-22f26ae037fd"
      },
      "source": [
        "lr_train_predict.shape"
      ],
      "execution_count": 102,
      "outputs": [
        {
          "output_type": "execute_result",
          "data": {
            "text/plain": [
              "(1364, 1)"
            ]
          },
          "metadata": {},
          "execution_count": 102
        }
      ]
    },
    {
      "cell_type": "code",
      "metadata": {
        "colab": {
          "base_uri": "https://localhost:8080/"
        },
        "id": "4VqyyLKeUQBy",
        "outputId": "34f1bed0-ba29-4819-cd42-99508a6bc6e2"
      },
      "source": [
        "y_train.shape"
      ],
      "execution_count": 103,
      "outputs": [
        {
          "output_type": "execute_result",
          "data": {
            "text/plain": [
              "(1364,)"
            ]
          },
          "metadata": {},
          "execution_count": 103
        }
      ]
    },
    {
      "cell_type": "code",
      "metadata": {
        "id": "WoAobVs3jkBm"
      },
      "source": [
        "## Transform back to the original form\n",
        "lr_train_predict = scaler.inverse_transform(lr_train_predict)\n",
        "lr_test_predict = scaler.inverse_transform(lr_test_predict)"
      ],
      "execution_count": 104,
      "outputs": []
    },
    {
      "cell_type": "code",
      "source": [
        "# Трансформируем данные для вычисления метрик:\n",
        "y_test1 = np.array(y_test).reshape(-1,1)"
      ],
      "metadata": {
        "id": "Zl5w32_igmcr"
      },
      "execution_count": 115,
      "outputs": []
    },
    {
      "cell_type": "code",
      "source": [
        "y_train1 = np.array(y_train).reshape(-1,1)"
      ],
      "metadata": {
        "id": "6EjuTcTmhKdl"
      },
      "execution_count": 119,
      "outputs": []
    },
    {
      "cell_type": "code",
      "metadata": {
        "colab": {
          "base_uri": "https://localhost:8080/"
        },
        "id": "gapeCt1ejvrw",
        "outputId": "81e185f2-59eb-4a7d-bf6f-04cccecceebd"
      },
      "source": [
        "### Calculate RMSE performance metrics\n",
        "import math\n",
        "from sklearn.metrics import mean_squared_error\n",
        "math.sqrt(mean_squared_error(scaler.inverse_transform(y_train1),lr_train_predict))"
      ],
      "execution_count": 162,
      "outputs": [
        {
          "output_type": "execute_result",
          "data": {
            "text/plain": [
              "0.5075896516369915"
            ]
          },
          "metadata": {},
          "execution_count": 162
        }
      ]
    },
    {
      "cell_type": "code",
      "metadata": {
        "colab": {
          "base_uri": "https://localhost:8080/"
        },
        "id": "S3_uDqsaI9fc",
        "outputId": "e97b75ff-b7c9-48d2-9547-416593cacfd2"
      },
      "source": [
        "math.sqrt(mean_squared_error(scaler.inverse_transform(y_test1),lr_test_predict))"
      ],
      "execution_count": 163,
      "outputs": [
        {
          "output_type": "execute_result",
          "data": {
            "text/plain": [
              "0.7862903294796997"
            ]
          },
          "metadata": {},
          "execution_count": 163
        }
      ]
    },
    {
      "cell_type": "code",
      "source": [
        "# Вычислим MAPE  для алгоритма линейной регрессии на трейне и на валидации\n",
        "mean_absolute_percentage_error(scaler.inverse_transform(y_train1),lr_train_predict)"
      ],
      "metadata": {
        "colab": {
          "base_uri": "https://localhost:8080/"
        },
        "id": "9ihpAM19hHi6",
        "outputId": "405a7d43-c0fb-4a03-ffcb-5fb02133565c"
      },
      "execution_count": 120,
      "outputs": [
        {
          "output_type": "execute_result",
          "data": {
            "text/plain": [
              "0.02542737648429844"
            ]
          },
          "metadata": {},
          "execution_count": 120
        }
      ]
    },
    {
      "cell_type": "code",
      "source": [
        "mean_absolute_percentage_error(scaler.inverse_transform(y_test1),lr_test_predict)"
      ],
      "metadata": {
        "colab": {
          "base_uri": "https://localhost:8080/"
        },
        "id": "zg4mviVwe-Ah",
        "outputId": "264c4d49-4314-4d16-b679-1d2884f049b6"
      },
      "execution_count": 118,
      "outputs": [
        {
          "output_type": "execute_result",
          "data": {
            "text/plain": [
              "0.02837896795327407"
            ]
          },
          "metadata": {},
          "execution_count": 118
        }
      ]
    },
    {
      "cell_type": "code",
      "source": [
        "y_test[:10]"
      ],
      "metadata": {
        "colab": {
          "base_uri": "https://localhost:8080/"
        },
        "id": "h0vkC192flN5",
        "outputId": "342c8e14-e6e1-4361-e023-c88d664c8c63"
      },
      "execution_count": 122,
      "outputs": [
        {
          "output_type": "execute_result",
          "data": {
            "text/plain": [
              "array([0.12241739, 0.1363259 , 0.13879354, 0.14843977, 0.14238283,\n",
              "       0.14103685, 0.1464208 , 0.15001009, 0.14888843, 0.14776678])"
            ]
          },
          "metadata": {},
          "execution_count": 122
        }
      ]
    },
    {
      "cell_type": "code",
      "source": [
        "y_test1[:10]"
      ],
      "metadata": {
        "colab": {
          "base_uri": "https://localhost:8080/"
        },
        "id": "uWOffrWSgsZr",
        "outputId": "755e3572-bd56-4dec-d584-bee7f96c9ea4"
      },
      "execution_count": 123,
      "outputs": [
        {
          "output_type": "execute_result",
          "data": {
            "text/plain": [
              "array([[0.12241739],\n",
              "       [0.1363259 ],\n",
              "       [0.13879354],\n",
              "       [0.14843977],\n",
              "       [0.14238283],\n",
              "       [0.14103685],\n",
              "       [0.1464208 ],\n",
              "       [0.15001009],\n",
              "       [0.14888843],\n",
              "       [0.14776678]])"
            ]
          },
          "metadata": {},
          "execution_count": 123
        }
      ]
    },
    {
      "cell_type": "code",
      "source": [
        ""
      ],
      "metadata": {
        "id": "ZFV0Q6L2ggjo"
      },
      "execution_count": null,
      "outputs": []
    },
    {
      "cell_type": "code",
      "source": [
        "lr_test_predict[:10]"
      ],
      "metadata": {
        "colab": {
          "base_uri": "https://localhost:8080/"
        },
        "id": "l_p50fH6fpq7",
        "outputId": "485b661b-27a1-4fb6-fcc0-d27bd82fd553"
      },
      "execution_count": 112,
      "outputs": [
        {
          "output_type": "execute_result",
          "data": {
            "text/plain": [
              "array([[6.91753048],\n",
              "       [6.37594386],\n",
              "       [7.05900119],\n",
              "       [7.12728845],\n",
              "       [7.6322758 ],\n",
              "       [7.3793572 ],\n",
              "       [7.28422679],\n",
              "       [7.51899804],\n",
              "       [7.68845192],\n",
              "       [7.68062694]])"
            ]
          },
          "metadata": {},
          "execution_count": 112
        }
      ]
    },
    {
      "cell_type": "code",
      "metadata": {
        "colab": {
          "base_uri": "https://localhost:8080/",
          "height": 515
        },
        "id": "xqK7YGoeuklI",
        "outputId": "2000045f-d9c8-4560-be3c-6074abb06e12"
      },
      "source": [
        "### Plotting\n",
        "#Shift train predictions for plotting\n",
        "plt.figure(figsize=(16,8))\n",
        "look_back = 100\n",
        "trainPredictPlot = numpy.empty_like(df2)\n",
        "trainPredictPlot[:,:] =np.nan\n",
        "trainPredictPlot[look_back:len(lr_train_predict)+look_back, :] = lr_train_predict\n",
        "# shift test predictions for plotting\n",
        "testPredictPlot = numpy.empty_like(df2)\n",
        "testPredictPlot[:,:] = numpy.nan\n",
        "testPredictPlot[len(lr_train_predict)+(look_back*2)+1:len(df2)-1,:] = lr_test_predict\n",
        "#plot baseline and predictions\n",
        "plt.plot(scaler.inverse_transform(df2))\n",
        "plt.plot(trainPredictPlot)\n",
        "plt.plot(testPredictPlot)\n",
        "plt.show()\n"
      ],
      "execution_count": 110,
      "outputs": [
        {
          "output_type": "display_data",
          "data": {
            "image/png": "[encoded data removed]",
            "text/plain": [
              "<Figure size 1152x576 with 1 Axes>"
            ]
          },
          "metadata": {}
        }
      ]
    },
    {
      "cell_type": "code",
      "metadata": {
        "id": "3ZFPaw479fz5"
      },
      "source": [
        "# Сделаем предсказание на 30 дней"
      ],
      "execution_count": null,
      "outputs": []
    },
    {
      "cell_type": "code",
      "metadata": {
        "id": "6vDvhAUS-pFV"
      },
      "source": [
        ""
      ],
      "execution_count": null,
      "outputs": []
    },
    {
      "cell_type": "code",
      "metadata": {
        "colab": {
          "base_uri": "https://localhost:8080/"
        },
        "id": "FjDDzsvu9mlT",
        "outputId": "0d6d46cd-1132-4b81-cda5-fc385c6ca74f"
      },
      "source": [
        "len(test_data)\n",
        "x_input = test_data[689:]\n",
        "x_input = test_data[689:].reshape(1,-1)\n",
        "temp_input = list(x_input)\n",
        "temp_input = temp_input[0].tolist()\n",
        "temp_input[:10]"
      ],
      "execution_count": 158,
      "outputs": [
        {
          "output_type": "execute_result",
          "data": {
            "text/plain": [
              "[23.43000030517578,\n",
              " 23.049999237060547,\n",
              " 22.57999992370605,\n",
              " 22.540000915527344,\n",
              " 23.1299991607666,\n",
              " 24.049999237060547,\n",
              " 23.850000381469727,\n",
              " 23.239999771118164,\n",
              " 23.32999992370605,\n",
              " 21.549999237060547]"
            ]
          },
          "metadata": {},
          "execution_count": 158
        }
      ]
    },
    {
      "cell_type": "code",
      "metadata": {
        "colab": {
          "base_uri": "https://localhost:8080/"
        },
        "id": "6du9QZ-W-9sv",
        "outputId": "bc50fc50-6cbb-4cef-ad69-444015c0d23f"
      },
      "source": [
        "len(temp_input)"
      ],
      "execution_count": 126,
      "outputs": [
        {
          "output_type": "execute_result",
          "data": {
            "text/plain": [
              "100"
            ]
          },
          "metadata": {},
          "execution_count": 126
        }
      ]
    },
    {
      "cell_type": "code",
      "metadata": {
        "id": "FXLMI-pe90sP"
      },
      "source": [
        "#Получаем предсказаие на 30 дней\n",
        "from numpy import array\n",
        "lr_output=[]\n",
        "n_steps=100\n",
        "i=0\n",
        "while(i<30):\n",
        "\n",
        "    if(len(temp_input)>100):\n",
        "      #print (temp input)\n",
        "      x_input=np.array(temp_input[1:])\n",
        "      #print(\"{} day input {}\".format(i,x_input))\n",
        "      x_input=x_input.reshape((1,n_steps))\n",
        "      #print (x_input)\n",
        "      yhat = lr.predict(x_input)\n",
        "     # print(\"{} day output {}\".format(i,yhat))\n",
        "      temp_input.extend(yhat.tolist())\n",
        "      temp_input = temp_input[1:]\n",
        "      #print(temp_input)\n",
        "      lr_output.extend(yhat.tolist())\n",
        "      i=i+1\n",
        "    else:\n",
        "      x_input = x_input.reshape((1 , n_steps))\n",
        "      yhat = lr.predict(x_input)\n",
        "     # print(yhat[0])\n",
        "      temp_input.extend(yhat.tolist())\n",
        "      #print(len(temp_input))\n",
        "      lr_output.extend(yhat.tolist())\n",
        "      i=i+1\n",
        "# print(lr_output)"
      ],
      "execution_count": 156,
      "outputs": []
    },
    {
      "cell_type": "code",
      "metadata": {
        "id": "MKfDdNd5-CpI"
      },
      "source": [
        "df3=df2.tolist()"
      ],
      "execution_count": 128,
      "outputs": []
    },
    {
      "cell_type": "code",
      "metadata": {
        "colab": {
          "base_uri": "https://localhost:8080/"
        },
        "id": "43SGPmPC-GHF",
        "outputId": "6eda9ccd-7ee2-46f4-d37c-c4e1a2c784d9"
      },
      "source": [
        "n = 3\n",
        "m = 4\n",
        "lr_output1 = []\n",
        "for i in range(30):\n",
        "    lr_output1.append([lr_output[i]] )\n",
        "print(lr_output1)"
      ],
      "execution_count": 129,
      "outputs": [
        {
          "output_type": "stream",
          "name": "stdout",
          "text": [
            "[[0.24042402238305943], [0.24291076475633813], [0.2467648875296074], [0.2530512672389769], [0.2521994901926185], [0.25459217127832645], [0.25745152511005476], [0.2557423719261944], [0.25598662073423084], [0.25079985275786265], [0.24359974013027694], [0.24108206066522242], [0.23812904005251467], [0.23408524177331505], [0.23079316323358454], [0.2307511062939715], [0.233726870193777], [0.23658153292094222], [0.23951098928502887], [0.23756064551744818], [0.24006378482583848], [0.23842505839562558], [0.23728480850836764], [0.23754587831193483], [0.23494003026950624], [0.23231548929161533], [0.23392553230988483], [0.23898460668922142], [0.24097967747526475], [0.24294258207195296]]\n"
          ]
        }
      ]
    },
    {
      "cell_type": "code",
      "metadata": {
        "colab": {
          "base_uri": "https://localhost:8080/",
          "height": 299
        },
        "id": "A6YiStD--OBT",
        "outputId": "ae3b5143-12d9-4c7c-e304-88f26adb52b8"
      },
      "source": [
        "plt.plot(day_new,scaler.inverse_transform(df2[2154:]),label='Курс акции за 100 дней ')\n",
        "plt.plot(day_pred,scaler.inverse_transform(lr_output1),label='Предсказание LR')\n",
        "#plt.plot(day_pred,scaler.inverse_transform(lst_output))\n",
        "#df1=scaler.fit_transform(np.array(df1).reshape(-1,1))\n",
        "#plt.plot(scaler.inverse_transform(df1[2154:]))\n",
        "plt.legend()"
      ],
      "execution_count": 130,
      "outputs": [
        {
          "output_type": "execute_result",
          "data": {
            "text/plain": [
              "<matplotlib.legend.Legend at 0x7f9ebb88cc50>"
            ]
          },
          "metadata": {},
          "execution_count": 130
        },
        {
          "output_type": "display_data",
          "data": {
            "image/png": "[encoded data removed]",
            "text/plain": [
              "<Figure size 432x288 with 1 Axes>"
            ]
          },
          "metadata": {}
        }
      ]
    },
    {
      "cell_type": "code",
      "source": [
        "# Вычислим MAPE для предсказания алгоритмом LR на последних 30 днях\n",
        "mean_absolute_percentage_error(df_30_1,scaler.inverse_transform(lr_output1))"
      ],
      "metadata": {
        "colab": {
          "base_uri": "https://localhost:8080/"
        },
        "id": "pYBRLpxGieTC",
        "outputId": "05dc9e7a-ba9e-4670-e8b4-a0a61d75c594"
      },
      "execution_count": 152,
      "outputs": [
        {
          "output_type": "execute_result",
          "data": {
            "text/plain": [
              "0.055416981028294114"
            ]
          },
          "metadata": {},
          "execution_count": 152
        }
      ]
    },
    {
      "cell_type": "markdown",
      "metadata": {
        "id": "QA4he_a0d1eh"
      },
      "source": [
        "#CatBoostRegressor"
      ]
    },
    {
      "cell_type": "code",
      "metadata": {
        "id": "b_YCSVTadmKk"
      },
      "source": [
        "#Так как CatBoost не требует нормализации вернемся к исходным данным\n",
        "df1 = df.reset_index()['Close']\n",
        "df3 = df1[:2254]\n",
        "df3 = np.array(df3).reshape(-1,1)\n",
        "\n",
        "training_size=int(len(df3)*0.65)\n",
        "test_size=len(df3)-training_size\n",
        "train_data,test_data=df3[0:training_size],df3[training_size:len(df3)]"
      ],
      "execution_count": 133,
      "outputs": []
    },
    {
      "cell_type": "code",
      "metadata": {
        "id": "DTxrw8qudwLL"
      },
      "source": [
        "# Построим датасет X=t,t+1,t+2,t+3.... and Y=t+4\n",
        "import numpy as np\n",
        "time_step = 100\n",
        "X_train,y_train = create_dataset(train_data,time_step)\n",
        "X_test,y_test = create_dataset(test_data,time_step)"
      ],
      "execution_count": 134,
      "outputs": []
    },
    {
      "cell_type": "code",
      "metadata": {
        "colab": {
          "base_uri": "https://localhost:8080/"
        },
        "id": "4iKjCKD_dwLM",
        "outputId": "fbacb49c-f0f5-4c19-a1b4-e2861c87dd41"
      },
      "source": [
        "print(X_train)"
      ],
      "execution_count": 135,
      "outputs": [
        {
          "output_type": "stream",
          "name": "stdout",
          "text": [
            "[[ 1.00300002  1.02499998  1.02499998 ...  2.86100006  2.85700011\n",
            "   2.98399997]\n",
            " [ 1.02499998  1.02499998  1.01300001 ...  2.85700011  2.98399997\n",
            "   3.11199999]\n",
            " [ 1.02499998  1.01300001  1.02499998 ...  2.98399997  3.11199999\n",
            "   3.03699994]\n",
            " ...\n",
            " [16.62000084 16.13999939 16.07999992 ...  7.1500001   7.1500001\n",
            "   7.5       ]\n",
            " [16.13999939 16.07999992 16.47999954 ...  7.1500001   7.5\n",
            "   7.30999994]\n",
            " [16.07999992 16.47999954 16.44000053 ...  7.5         7.30999994\n",
            "   7.30000019]]\n"
          ]
        }
      ]
    },
    {
      "cell_type": "code",
      "metadata": {
        "colab": {
          "base_uri": "https://localhost:8080/"
        },
        "id": "P93jvSSvev-i",
        "outputId": "e6107cd4-3d42-42a4-bfc7-fa57b17d78f1"
      },
      "source": [
        "print(y_train)"
      ],
      "execution_count": 136,
      "outputs": [
        {
          "output_type": "stream",
          "name": "stdout",
          "text": [
            "[3.11199999 3.03699994 2.9849999  ... 7.30999994 7.30000019 7.        ]\n"
          ]
        }
      ]
    },
    {
      "cell_type": "code",
      "metadata": {
        "colab": {
          "base_uri": "https://localhost:8080/"
        },
        "id": "w8gA-_jOex4y",
        "outputId": "72660c2f-7472-4f64-ac61-909b2dedf015"
      },
      "source": [
        "print(X_train.shape), print(y_train.shape)"
      ],
      "execution_count": 137,
      "outputs": [
        {
          "output_type": "stream",
          "name": "stdout",
          "text": [
            "(1364, 100)\n",
            "(1364,)\n"
          ]
        },
        {
          "output_type": "execute_result",
          "data": {
            "text/plain": [
              "(None, None)"
            ]
          },
          "metadata": {},
          "execution_count": 137
        }
      ]
    },
    {
      "cell_type": "code",
      "metadata": {
        "colab": {
          "base_uri": "https://localhost:8080/"
        },
        "id": "Y9Ss-80qe1Go",
        "outputId": "ebf58c57-4dbe-46c4-b63d-3625f04e1a20"
      },
      "source": [
        "model = CatBoostRegressor(iterations = 5000,\n",
        "                          #depth=10,\n",
        "                          learning_rate = 0.05,\n",
        "                          random_seed = 42,\n",
        "                          eval_metric='MAPE',\n",
        "                          custom_metric=['RMSE', 'MAE'],\n",
        "                          od_wait=500,\n",
        "                          #task_type='GPU',\n",
        "                         )\n",
        "model.fit(X_train, y_train,\n",
        "         eval_set=(X_test, y_test),\n",
        "         verbose_eval=100,\n",
        "         use_best_model=True,\n",
        "         #plot=True\n",
        "         )"
      ],
      "execution_count": 138,
      "outputs": [
        {
          "output_type": "stream",
          "name": "stdout",
          "text": [
            "0:\tlearn: 0.5216037\ttest: 0.3896732\tbest: 0.3896732 (0)\ttotal: 87.9ms\tremaining: 7m 19s\n",
            "100:\tlearn: 0.0417955\ttest: 0.0758815\tbest: 0.0757481 (96)\ttotal: 2.88s\tremaining: 2m 19s\n",
            "200:\tlearn: 0.0310691\ttest: 0.0726941\tbest: 0.0726941 (200)\ttotal: 5.67s\tremaining: 2m 15s\n",
            "300:\tlearn: 0.0255494\ttest: 0.0712334\tbest: 0.0709609 (286)\ttotal: 8.52s\tremaining: 2m 12s\n",
            "400:\tlearn: 0.0219894\ttest: 0.0704927\tbest: 0.0703662 (384)\ttotal: 11.2s\tremaining: 2m 8s\n",
            "500:\tlearn: 0.0193187\ttest: 0.0705042\tbest: 0.0700998 (423)\ttotal: 14s\tremaining: 2m 6s\n",
            "600:\tlearn: 0.0173093\ttest: 0.0710008\tbest: 0.0700998 (423)\ttotal: 17.5s\tremaining: 2m 7s\n",
            "700:\tlearn: 0.0154005\ttest: 0.0714451\tbest: 0.0700998 (423)\ttotal: 22.4s\tremaining: 2m 17s\n",
            "800:\tlearn: 0.0137439\ttest: 0.0717249\tbest: 0.0700998 (423)\ttotal: 25.3s\tremaining: 2m 12s\n",
            "900:\tlearn: 0.0124222\ttest: 0.0717464\tbest: 0.0700998 (423)\ttotal: 28s\tremaining: 2m 7s\n",
            "Stopped by overfitting detector  (500 iterations wait)\n",
            "\n",
            "bestTest = 0.07009984916\n",
            "bestIteration = 423\n",
            "\n",
            "Shrink model to first 424 iterations.\n"
          ]
        },
        {
          "output_type": "execute_result",
          "data": {
            "text/plain": [
              "<catboost.core.CatBoostRegressor at 0x7f9ebb858290>"
            ]
          },
          "metadata": {},
          "execution_count": 138
        }
      ]
    },
    {
      "cell_type": "code",
      "metadata": {
        "id": "BnGvDe59fN7d"
      },
      "source": [
        "train_predict = model.predict(X_train)\n",
        "test_predict = model.predict(X_test)"
      ],
      "execution_count": 139,
      "outputs": []
    },
    {
      "cell_type": "code",
      "metadata": {
        "colab": {
          "base_uri": "https://localhost:8080/"
        },
        "id": "bh4YU_-JfR8x",
        "outputId": "bd01b5d2-0944-4854-8923-5f7dfcd77097"
      },
      "source": [
        "type(train_predict)"
      ],
      "execution_count": 140,
      "outputs": [
        {
          "output_type": "execute_result",
          "data": {
            "text/plain": [
              "numpy.ndarray"
            ]
          },
          "metadata": {},
          "execution_count": 140
        }
      ]
    },
    {
      "cell_type": "code",
      "metadata": {
        "id": "BEa1Smk4fV4m"
      },
      "source": [
        "train_predict = train_predict.reshape(-1,1)\n",
        "test_predict = test_predict.reshape(-1,1)"
      ],
      "execution_count": 141,
      "outputs": []
    },
    {
      "cell_type": "code",
      "source": [
        "train_predict[:10]"
      ],
      "metadata": {
        "colab": {
          "base_uri": "https://localhost:8080/"
        },
        "id": "F6jZEXmHjbH1",
        "outputId": "1ddbda87-5980-47a1-c00a-7c8c1600947b"
      },
      "execution_count": 142,
      "outputs": [
        {
          "output_type": "execute_result",
          "data": {
            "text/plain": [
              "array([[2.94603562],\n",
              "       [2.9893942 ],\n",
              "       [3.05602285],\n",
              "       [3.01193635],\n",
              "       [2.90732067],\n",
              "       [2.89218804],\n",
              "       [3.00670111],\n",
              "       [3.06709329],\n",
              "       [3.14295495],\n",
              "       [3.03572372]])"
            ]
          },
          "metadata": {},
          "execution_count": 142
        }
      ]
    },
    {
      "cell_type": "code",
      "source": [
        "y_train"
      ],
      "metadata": {
        "colab": {
          "base_uri": "https://localhost:8080/"
        },
        "id": "kRrvF8hjjhaM",
        "outputId": "45129906-d75e-49dd-be44-b154acf018b3"
      },
      "execution_count": 143,
      "outputs": [
        {
          "output_type": "execute_result",
          "data": {
            "text/plain": [
              "array([3.11199999, 3.03699994, 2.9849999 , ..., 7.30999994, 7.30000019,\n",
              "       7.        ])"
            ]
          },
          "metadata": {},
          "execution_count": 143
        }
      ]
    },
    {
      "cell_type": "code",
      "metadata": {
        "colab": {
          "base_uri": "https://localhost:8080/"
        },
        "id": "pgsd3ZMJfaDH",
        "outputId": "f959b04f-977d-4284-8716-877c7eb17330"
      },
      "source": [
        "from sklearn.metrics import mean_squared_error\n",
        "math.sqrt(mean_squared_error(y_train,train_predict))"
      ],
      "execution_count": 145,
      "outputs": [
        {
          "output_type": "execute_result",
          "data": {
            "text/plain": [
              "0.33840021566882617"
            ]
          },
          "metadata": {},
          "execution_count": 145
        }
      ]
    },
    {
      "cell_type": "code",
      "metadata": {
        "colab": {
          "base_uri": "https://localhost:8080/"
        },
        "id": "r_ZILK1EfswR",
        "outputId": "3ba3956d-b170-460d-f675-82eb8c9ed3eb"
      },
      "source": [
        "### Test Data RMSE\n",
        "math.sqrt(mean_squared_error(y_test,test_predict))"
      ],
      "execution_count": 146,
      "outputs": [
        {
          "output_type": "execute_result",
          "data": {
            "text/plain": [
              "2.9709438177586858"
            ]
          },
          "metadata": {},
          "execution_count": 146
        }
      ]
    },
    {
      "cell_type": "code",
      "metadata": {
        "colab": {
          "base_uri": "https://localhost:8080/",
          "height": 515
        },
        "id": "ELYYtI0xfx5d",
        "outputId": "6fb741ac-7a23-4fa6-9a53-89fddba6ad28"
      },
      "source": [
        "### Plotting\n",
        "#Shift train predictions for plotting\n",
        "plt.figure(figsize=(16,8))\n",
        "look_back = 100\n",
        "trainPredictPlot = numpy.empty_like(df3)\n",
        "trainPredictPlot[:,:] =np.nan\n",
        "trainPredictPlot[look_back:len(train_predict)+look_back, :] = train_predict\n",
        "# shift test predictions for plotting\n",
        "testPredictPlot = numpy.empty_like(df3)\n",
        "testPredictPlot[:,:] = numpy.nan\n",
        "testPredictPlot[len(train_predict)+(look_back*2)+1:len(df3)-1,:] = test_predict\n",
        "#plot baseline and predictions\n",
        "plt.plot(df3)\n",
        "plt.plot(trainPredictPlot)\n",
        "plt.plot(testPredictPlot)\n",
        "\n",
        "\n",
        "import matplotlib.patches as mpatches\n",
        "blue_patch = mpatches.Patch(color='cyan', label='Курс акции')\n",
        "red_patch = mpatches.Patch(color='red', label='Предсказания на трейне')\n",
        "yellow_patch = mpatches.Patch(color='yellow', label='Предсказания на тесте')\n",
        "plt.legend(handles=[blue_patch,red_patch,yellow_patch])\n",
        "plt.show()"
      ],
      "execution_count": 147,
      "outputs": [
        {
          "output_type": "display_data",
          "data": {
            "image/png": "[encoded data removed]",
            "text/plain": [
              "<Figure size 1152x576 with 1 Axes>"
            ]
          },
          "metadata": {}
        }
      ]
    },
    {
      "cell_type": "code",
      "metadata": {
        "id": "eUn04gyygCLx"
      },
      "source": [
        "# Сделаем предсказание на 30 дней"
      ],
      "execution_count": null,
      "outputs": []
    },
    {
      "cell_type": "code",
      "metadata": {
        "id": "9_BzW4rYgCD1"
      },
      "source": [
        "len(test_data)\n",
        "x_input = test_data[689:]\n",
        "x_input = test_data[689:].reshape(1,-1)\n",
        "temp_input = list(x_input)\n",
        "temp_input = temp_input[0].tolist()\n",
        "#temp_input"
      ],
      "execution_count": 148,
      "outputs": []
    },
    {
      "cell_type": "code",
      "metadata": {
        "id": "hwmf_eYogB0Z"
      },
      "source": [
        "#Получаем предсказаие на 30 дней\n",
        "from numpy import array\n",
        "cat_output=[]\n",
        "n_steps=100\n",
        "i=0\n",
        "while(i<30):\n",
        "\n",
        "    if(len(temp_input)>100):\n",
        "      #print (temp input)\n",
        "      x_input=np.array(temp_input[1:])\n",
        "     # print(\"{} day input {}\".format(i,x_input))\n",
        "      x_input=x_input.reshape((1,n_steps))\n",
        "      #print (x_input)\n",
        "      yhat = model.predict(x_input)\n",
        "      #print(\"{} day output {}\".format(i,yhat))\n",
        "      temp_input.extend(yhat.tolist())\n",
        "      temp_input = temp_input[1:]\n",
        "      #print(temp_input)\n",
        "      cat_output.extend(yhat.tolist())\n",
        "      i=i+1\n",
        "    else:\n",
        "      x_input = x_input.reshape((1 , n_steps))\n",
        "      yhat = model.predict(x_input)\n",
        "     # print(yhat[0])\n",
        "      temp_input.extend(yhat.tolist())\n",
        "     # print(len(temp_input))\n",
        "      cat_output.extend(yhat.tolist())\n",
        "      i=i+1\n",
        "#print(cat_output)"
      ],
      "execution_count": 157,
      "outputs": []
    },
    {
      "cell_type": "code",
      "metadata": {
        "colab": {
          "base_uri": "https://localhost:8080/"
        },
        "id": "tlnhjpxkgRhD",
        "outputId": "4fed759e-eb36-4e14-9d6c-cc0ede058568"
      },
      "source": [
        "n = 3\n",
        "m = 4\n",
        "cat_output1 = []\n",
        "for i in range(30):\n",
        "    cat_output1.append([cat_output[i]] )\n",
        "print(cat_output1)"
      ],
      "execution_count": 150,
      "outputs": [
        {
          "output_type": "stream",
          "name": "stdout",
          "text": [
            "[[11.98657867542566], [12.069815345186461], [12.30609290087592], [12.00687661906391], [11.851630280006376], [11.759893374477452], [11.766827587873811], [11.807086204660667], [11.851069703584765], [11.79929649390304], [11.734990593774082], [11.731770585668823], [11.820554923083469], [11.892837676464282], [11.864822555530257], [11.937438017930774], [11.994104868843396], [11.796292263499899], [11.892264774975537], [11.878365591573278], [11.878084053642855], [11.800983533579187], [11.898094583060525], [11.760378622562609], [11.710182684607751], [11.75504331541438], [11.824451501808305], [11.861519946363996], [11.89810702563641], [11.921873937304472]]\n"
          ]
        }
      ]
    },
    {
      "cell_type": "code",
      "metadata": {
        "colab": {
          "base_uri": "https://localhost:8080/",
          "height": 299
        },
        "id": "3m3cOad2gYbO",
        "outputId": "cf72d585-21cf-44b1-dd48-0b8696e4b824"
      },
      "source": [
        "plt.plot(day_new,df3[2154:],label='Курс акции за 100 дней ')\n",
        "plt.plot(day_pred,cat_output1,label='Предсказание CatBoost')\n",
        "#plt.plot(day_pred,scaler.inverse_transform(lst_output))\n",
        "#df1=scaler.fit_transform(np.array(df1).reshape(-1,1))\n",
        "#plt.plot(scaler.inverse_transform(df1[2154:]))\n",
        "plt.legend()"
      ],
      "execution_count": 151,
      "outputs": [
        {
          "output_type": "execute_result",
          "data": {
            "text/plain": [
              "<matplotlib.legend.Legend at 0x7f9ebb759d90>"
            ]
          },
          "metadata": {},
          "execution_count": 151
        },
        {
          "output_type": "display_data",
          "data": {
            "image/png": "[encoded data removed]",
            "text/plain": [
              "<Figure size 432x288 with 1 Axes>"
            ]
          },
          "metadata": {}
        }
      ]
    },
    {
      "cell_type": "code",
      "source": [
        "# Вычислим MAPE для предсказания алгоритмом CAT на последних 30 днях\n",
        "mean_absolute_percentage_error(df_30_1,cat_output1)"
      ],
      "metadata": {
        "colab": {
          "base_uri": "https://localhost:8080/"
        },
        "id": "CBbXXqMyj1EF",
        "outputId": "3aa262ba-d4a1-4e3f-9ae3-24dd48380ed1"
      },
      "execution_count": 154,
      "outputs": [
        {
          "output_type": "execute_result",
          "data": {
            "text/plain": [
              "0.06926176974560781"
            ]
          },
          "metadata": {},
          "execution_count": 154
        }
      ]
    },
    {
      "cell_type": "markdown",
      "metadata": {
        "id": "5GLVfD2ZMHOF"
      },
      "source": [
        "#График сравнения предсказаний LSTM+LR"
      ]
    },
    {
      "cell_type": "code",
      "metadata": {
        "id": "XidAtNmshiEW"
      },
      "source": [
        "df1 = np.array(df1).reshape(-1,1)"
      ],
      "execution_count": null,
      "outputs": []
    },
    {
      "cell_type": "code",
      "metadata": {
        "colab": {
          "base_uri": "https://localhost:8080/",
          "height": 534
        },
        "id": "tPtlBRsNMM7T",
        "outputId": "31fe58d1-a6b0-40a9-c7f0-07bf448f1564"
      },
      "source": [
        "plt.figure(figsize=(16,8))\n",
        "plt.plot(df1[2154:],label='Курс акции за 100 дней ')\n",
        "plt.plot(day_pred,scaler.inverse_transform(lr_output1),label='Предсказание LR')\n",
        "plt.plot(day_pred,scaler.inverse_transform(lst_output),label='Предсказание курса LSTM')\n",
        "plt.plot(day_pred,cat_output1,label='Предсказание CatBoost')\n",
        "plt.legend()"
      ],
      "execution_count": null,
      "outputs": [
        {
          "output_type": "execute_result",
          "data": {
            "text/plain": [
              "<matplotlib.legend.Legend at 0x7ffb5681bc50>"
            ]
          },
          "metadata": {},
          "execution_count": 131
        },
        {
          "output_type": "display_data",
          "data": {
            "image/png": "[encoded data removed]",
            "text/plain": [
              "<Figure size 1152x576 with 1 Axes>"
            ]
          },
          "metadata": {}
        }
      ]
    }
  ]
}