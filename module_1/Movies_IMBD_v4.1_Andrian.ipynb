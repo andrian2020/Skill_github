{
 "cells": [
  {
   "cell_type": "code",
   "execution_count": 1,
   "metadata": {
    "_cell_guid": "b1076dfc-b9ad-4769-8c92-a6c4dae69d19",
    "_uuid": "8f2839f25d086af736a60e9eeb907d3b93b6e0e5",
    "colab": {},
    "colab_type": "code",
    "id": "U2D2gTdJVp90"
   },
   "outputs": [],
   "source": [
    "import numpy as np\n",
    "import pandas as pd\n",
    "import collections\n",
    "import seaborn as sns\n",
    "import matplotlib.pyplot as plt\n",
    "from collections import Counter"
   ]
  },
  {
   "cell_type": "code",
   "execution_count": 2,
   "metadata": {
    "_cell_guid": "79c7e3d0-c299-4dcb-8224-4455121ee9b0",
    "_uuid": "d629ff2d2480ee46fbb7e2d37f6b5fab8052498a",
    "colab": {},
    "colab_type": "code",
    "id": "oyGfxL3eVp9-"
   },
   "outputs": [
    {
     "data": {
      "text/html": [
       "<div>\n",
       "<style scoped>\n",
       "    .dataframe tbody tr th:only-of-type {\n",
       "        vertical-align: middle;\n",
       "    }\n",
       "\n",
       "    .dataframe tbody tr th {\n",
       "        vertical-align: top;\n",
       "    }\n",
       "\n",
       "    .dataframe thead th {\n",
       "        text-align: right;\n",
       "    }\n",
       "</style>\n",
       "<table border=\"1\" class=\"dataframe\">\n",
       "  <thead>\n",
       "    <tr style=\"text-align: right;\">\n",
       "      <th></th>\n",
       "      <th>imdb_id</th>\n",
       "      <th>budget</th>\n",
       "      <th>revenue</th>\n",
       "      <th>original_title</th>\n",
       "      <th>cast</th>\n",
       "      <th>director</th>\n",
       "      <th>tagline</th>\n",
       "      <th>overview</th>\n",
       "      <th>runtime</th>\n",
       "      <th>genres</th>\n",
       "      <th>production_companies</th>\n",
       "      <th>release_date</th>\n",
       "      <th>vote_average</th>\n",
       "      <th>release_year</th>\n",
       "    </tr>\n",
       "  </thead>\n",
       "  <tbody>\n",
       "    <tr>\n",
       "      <th>1701</th>\n",
       "      <td>tt0443706</td>\n",
       "      <td>65000000</td>\n",
       "      <td>84785914</td>\n",
       "      <td>Zodiac</td>\n",
       "      <td>Jake Gyllenhaal|Robert Downey Jr.|Mark Ruffalo...</td>\n",
       "      <td>David Fincher</td>\n",
       "      <td>There's more than one way to lose your life to...</td>\n",
       "      <td>The true story of the investigation of 'The Zo...</td>\n",
       "      <td>157</td>\n",
       "      <td>Crime|Drama|Mystery|Thriller</td>\n",
       "      <td>Paramount Pictures|Warner Bros.|Phoenix Pictures</td>\n",
       "      <td>3/2/2007</td>\n",
       "      <td>7.1</td>\n",
       "      <td>2007</td>\n",
       "    </tr>\n",
       "    <tr>\n",
       "      <th>1466</th>\n",
       "      <td>tt0453467</td>\n",
       "      <td>75000000</td>\n",
       "      <td>180557550</td>\n",
       "      <td>DÃ©jÃ  Vu</td>\n",
       "      <td>Denzel Washington|Paula Patton|Val Kilmer|Jim ...</td>\n",
       "      <td>Tony Scott</td>\n",
       "      <td>If you think it's just a feeling, go back... a...</td>\n",
       "      <td>Called in to recover evidence in the aftermath...</td>\n",
       "      <td>126</td>\n",
       "      <td>Action|Thriller|Science Fiction</td>\n",
       "      <td>Jerry Bruckheimer Films|Scott Free Productions...</td>\n",
       "      <td>11/21/2006</td>\n",
       "      <td>6.5</td>\n",
       "      <td>2006</td>\n",
       "    </tr>\n",
       "    <tr>\n",
       "      <th>1432</th>\n",
       "      <td>tt0382628</td>\n",
       "      <td>30000000</td>\n",
       "      <td>25473093</td>\n",
       "      <td>Dark Water</td>\n",
       "      <td>Jennifer Connelly|John C. Reilly|Tim Roth|Doug...</td>\n",
       "      <td>Walter Salles</td>\n",
       "      <td>This Season, The Mystery Of The Darkness Will ...</td>\n",
       "      <td>Dahlia Williams and her daughter Cecelia move ...</td>\n",
       "      <td>105</td>\n",
       "      <td>Drama|Horror|Thriller</td>\n",
       "      <td>Vertigo Entertainment|Touchstone Pictures|Post...</td>\n",
       "      <td>6/27/2005</td>\n",
       "      <td>5.2</td>\n",
       "      <td>2005</td>\n",
       "    </tr>\n",
       "    <tr>\n",
       "      <th>944</th>\n",
       "      <td>tt0240510</td>\n",
       "      <td>35000000</td>\n",
       "      <td>29882645</td>\n",
       "      <td>The Four Feathers</td>\n",
       "      <td>Heath Ledger|Wes Bentley|Kate Hudson|Djimon Ho...</td>\n",
       "      <td>Shekhar Kapur</td>\n",
       "      <td>Freedom. Country. Honor. Passion. To save his ...</td>\n",
       "      <td>The story, set in 1875, follows a British offi...</td>\n",
       "      <td>132</td>\n",
       "      <td>War|Adventure|Drama|Romance</td>\n",
       "      <td>Paramount Pictures|Miramax Films|Marty Katz Pr...</td>\n",
       "      <td>9/8/2002</td>\n",
       "      <td>6.4</td>\n",
       "      <td>2002</td>\n",
       "    </tr>\n",
       "    <tr>\n",
       "      <th>130</th>\n",
       "      <td>tt2692250</td>\n",
       "      <td>127000000</td>\n",
       "      <td>349424282</td>\n",
       "      <td>Night at the Museum: Secret of the Tomb</td>\n",
       "      <td>Ben Stiller|Rami Malek|Rebel Wilson|Robin Will...</td>\n",
       "      <td>Shawn Levy</td>\n",
       "      <td>One Final Night to Save the Day.</td>\n",
       "      <td>When the magic powers of The Tablet of Ahkmenr...</td>\n",
       "      <td>97</td>\n",
       "      <td>Adventure|Comedy|Fantasy|Family</td>\n",
       "      <td>Twentieth Century Fox Film Corporation|1492 Pi...</td>\n",
       "      <td>12/17/2014</td>\n",
       "      <td>6.1</td>\n",
       "      <td>2014</td>\n",
       "    </tr>\n",
       "  </tbody>\n",
       "</table>\n",
       "</div>"
      ],
      "text/plain": [
       "        imdb_id     budget    revenue  \\\n",
       "1701  tt0443706   65000000   84785914   \n",
       "1466  tt0453467   75000000  180557550   \n",
       "1432  tt0382628   30000000   25473093   \n",
       "944   tt0240510   35000000   29882645   \n",
       "130   tt2692250  127000000  349424282   \n",
       "\n",
       "                               original_title  \\\n",
       "1701                                   Zodiac   \n",
       "1466                                DÃ©jÃ  Vu   \n",
       "1432                               Dark Water   \n",
       "944                         The Four Feathers   \n",
       "130   Night at the Museum: Secret of the Tomb   \n",
       "\n",
       "                                                   cast       director  \\\n",
       "1701  Jake Gyllenhaal|Robert Downey Jr.|Mark Ruffalo...  David Fincher   \n",
       "1466  Denzel Washington|Paula Patton|Val Kilmer|Jim ...     Tony Scott   \n",
       "1432  Jennifer Connelly|John C. Reilly|Tim Roth|Doug...  Walter Salles   \n",
       "944   Heath Ledger|Wes Bentley|Kate Hudson|Djimon Ho...  Shekhar Kapur   \n",
       "130   Ben Stiller|Rami Malek|Rebel Wilson|Robin Will...     Shawn Levy   \n",
       "\n",
       "                                                tagline  \\\n",
       "1701  There's more than one way to lose your life to...   \n",
       "1466  If you think it's just a feeling, go back... a...   \n",
       "1432  This Season, The Mystery Of The Darkness Will ...   \n",
       "944   Freedom. Country. Honor. Passion. To save his ...   \n",
       "130                    One Final Night to Save the Day.   \n",
       "\n",
       "                                               overview  runtime  \\\n",
       "1701  The true story of the investigation of 'The Zo...      157   \n",
       "1466  Called in to recover evidence in the aftermath...      126   \n",
       "1432  Dahlia Williams and her daughter Cecelia move ...      105   \n",
       "944   The story, set in 1875, follows a British offi...      132   \n",
       "130   When the magic powers of The Tablet of Ahkmenr...       97   \n",
       "\n",
       "                               genres  \\\n",
       "1701     Crime|Drama|Mystery|Thriller   \n",
       "1466  Action|Thriller|Science Fiction   \n",
       "1432            Drama|Horror|Thriller   \n",
       "944       War|Adventure|Drama|Romance   \n",
       "130   Adventure|Comedy|Fantasy|Family   \n",
       "\n",
       "                                   production_companies release_date  \\\n",
       "1701   Paramount Pictures|Warner Bros.|Phoenix Pictures     3/2/2007   \n",
       "1466  Jerry Bruckheimer Films|Scott Free Productions...   11/21/2006   \n",
       "1432  Vertigo Entertainment|Touchstone Pictures|Post...    6/27/2005   \n",
       "944   Paramount Pictures|Miramax Films|Marty Katz Pr...     9/8/2002   \n",
       "130   Twentieth Century Fox Film Corporation|1492 Pi...   12/17/2014   \n",
       "\n",
       "      vote_average  release_year  \n",
       "1701           7.1          2007  \n",
       "1466           6.5          2006  \n",
       "1432           5.2          2005  \n",
       "944            6.4          2002  \n",
       "130            6.1          2014  "
      ]
     },
     "execution_count": 2,
     "metadata": {},
     "output_type": "execute_result"
    }
   ],
   "source": [
    "data = pd.read_csv('movie_bd_v5.csv')\n",
    "data.sample(5)"
   ]
  },
  {
   "cell_type": "code",
   "execution_count": 3,
   "metadata": {
    "colab": {},
    "colab_type": "code",
    "id": "CoYUnagMVp-C"
   },
   "outputs": [
    {
     "data": {
      "text/html": [
       "<div>\n",
       "<style scoped>\n",
       "    .dataframe tbody tr th:only-of-type {\n",
       "        vertical-align: middle;\n",
       "    }\n",
       "\n",
       "    .dataframe tbody tr th {\n",
       "        vertical-align: top;\n",
       "    }\n",
       "\n",
       "    .dataframe thead th {\n",
       "        text-align: right;\n",
       "    }\n",
       "</style>\n",
       "<table border=\"1\" class=\"dataframe\">\n",
       "  <thead>\n",
       "    <tr style=\"text-align: right;\">\n",
       "      <th></th>\n",
       "      <th>budget</th>\n",
       "      <th>revenue</th>\n",
       "      <th>runtime</th>\n",
       "      <th>vote_average</th>\n",
       "      <th>release_year</th>\n",
       "    </tr>\n",
       "  </thead>\n",
       "  <tbody>\n",
       "    <tr>\n",
       "      <th>count</th>\n",
       "      <td>1.889000e+03</td>\n",
       "      <td>1.889000e+03</td>\n",
       "      <td>1889.000000</td>\n",
       "      <td>1889.000000</td>\n",
       "      <td>1889.000000</td>\n",
       "    </tr>\n",
       "    <tr>\n",
       "      <th>mean</th>\n",
       "      <td>5.431083e+07</td>\n",
       "      <td>1.553653e+08</td>\n",
       "      <td>109.658549</td>\n",
       "      <td>6.140762</td>\n",
       "      <td>2007.860773</td>\n",
       "    </tr>\n",
       "    <tr>\n",
       "      <th>std</th>\n",
       "      <td>4.858721e+07</td>\n",
       "      <td>2.146698e+08</td>\n",
       "      <td>18.017041</td>\n",
       "      <td>0.764763</td>\n",
       "      <td>4.468841</td>\n",
       "    </tr>\n",
       "    <tr>\n",
       "      <th>min</th>\n",
       "      <td>5.000000e+06</td>\n",
       "      <td>2.033165e+06</td>\n",
       "      <td>63.000000</td>\n",
       "      <td>3.300000</td>\n",
       "      <td>2000.000000</td>\n",
       "    </tr>\n",
       "    <tr>\n",
       "      <th>25%</th>\n",
       "      <td>2.000000e+07</td>\n",
       "      <td>3.456058e+07</td>\n",
       "      <td>97.000000</td>\n",
       "      <td>5.600000</td>\n",
       "      <td>2004.000000</td>\n",
       "    </tr>\n",
       "    <tr>\n",
       "      <th>50%</th>\n",
       "      <td>3.800000e+07</td>\n",
       "      <td>8.361541e+07</td>\n",
       "      <td>107.000000</td>\n",
       "      <td>6.100000</td>\n",
       "      <td>2008.000000</td>\n",
       "    </tr>\n",
       "    <tr>\n",
       "      <th>75%</th>\n",
       "      <td>7.200000e+07</td>\n",
       "      <td>1.782626e+08</td>\n",
       "      <td>120.000000</td>\n",
       "      <td>6.600000</td>\n",
       "      <td>2012.000000</td>\n",
       "    </tr>\n",
       "    <tr>\n",
       "      <th>max</th>\n",
       "      <td>3.800000e+08</td>\n",
       "      <td>2.781506e+09</td>\n",
       "      <td>214.000000</td>\n",
       "      <td>8.100000</td>\n",
       "      <td>2015.000000</td>\n",
       "    </tr>\n",
       "  </tbody>\n",
       "</table>\n",
       "</div>"
      ],
      "text/plain": [
       "             budget       revenue      runtime  vote_average  release_year\n",
       "count  1.889000e+03  1.889000e+03  1889.000000   1889.000000   1889.000000\n",
       "mean   5.431083e+07  1.553653e+08   109.658549      6.140762   2007.860773\n",
       "std    4.858721e+07  2.146698e+08    18.017041      0.764763      4.468841\n",
       "min    5.000000e+06  2.033165e+06    63.000000      3.300000   2000.000000\n",
       "25%    2.000000e+07  3.456058e+07    97.000000      5.600000   2004.000000\n",
       "50%    3.800000e+07  8.361541e+07   107.000000      6.100000   2008.000000\n",
       "75%    7.200000e+07  1.782626e+08   120.000000      6.600000   2012.000000\n",
       "max    3.800000e+08  2.781506e+09   214.000000      8.100000   2015.000000"
      ]
     },
     "execution_count": 3,
     "metadata": {},
     "output_type": "execute_result"
    }
   ],
   "source": [
    "data.describe()"
   ]
  },
  {
   "cell_type": "markdown",
   "metadata": {
    "colab_type": "text",
    "id": "DTIt7ezGVp-G"
   },
   "source": [
    "# Предобработка"
   ]
  },
  {
   "cell_type": "code",
   "execution_count": 4,
   "metadata": {
    "colab": {},
    "colab_type": "code",
    "id": "jNb40DwKVp-H"
   },
   "outputs": [],
   "source": [
    "answers = {} # создадим словарь для ответов\n",
    "\n",
    "# дополнительныф столбец profit = revenue-budget\n",
    "data['profit'] = data.revenue - data.budget"
   ]
  },
  {
   "cell_type": "markdown",
   "metadata": {
    "colab_type": "text",
    "id": "YxZaH-nPVp-L"
   },
   "source": [
    "# 1. У какого фильма из списка самый большой бюджет?"
   ]
  },
  {
   "cell_type": "markdown",
   "metadata": {
    "colab_type": "text",
    "id": "Nd-G5gX6Vp-M"
   },
   "source": [
    "Использовать варианты ответов в коде решения запрещено.    \n",
    "Вы думаете и в жизни у вас будут варианты ответов?)"
   ]
  },
  {
   "cell_type": "code",
   "execution_count": 5,
   "metadata": {
    "colab": {},
    "colab_type": "code",
    "id": "uVnXAY5RVp-O"
   },
   "outputs": [],
   "source": [
    "# в словарь вставляем номер вопроса и ваш ответ на него\n",
    "# Пример: \n",
    "#answers['1'] = '2. Spider-Man 3 (tt0413300)'\n",
    "# запишите свой вариант ответа\n",
    "answers['1'] = '723    Pirates of the Caribbean: On Stranger Tides'\n",
    "# если ответили верно, можете добавить комментарий со значком \"+\""
   ]
  },
  {
   "cell_type": "code",
   "execution_count": 6,
   "metadata": {
    "colab": {},
    "colab_type": "code",
    "id": "dZwb3m28Vp-S"
   },
   "outputs": [
    {
     "data": {
      "text/plain": [
       "723    Pirates of the Caribbean: On Stranger Tides\n",
       "Name: original_title, dtype: object"
      ]
     },
     "execution_count": 6,
     "metadata": {},
     "output_type": "execute_result"
    }
   ],
   "source": [
    "# тут пишем ваш код для решения данного вопроса:\n",
    "data.original_title[data.budget == data.budget.max()]"
   ]
  },
  {
   "cell_type": "markdown",
   "metadata": {
    "colab_type": "text",
    "id": "K7L3nbRXVp-X"
   },
   "source": [
    "ВАРИАНТ 2"
   ]
  },
  {
   "cell_type": "code",
   "execution_count": 7,
   "metadata": {
    "colab": {},
    "colab_type": "code",
    "id": "OGaoQI7rVp-X"
   },
   "outputs": [],
   "source": [
    "# можно добавлять разные варианты решения"
   ]
  },
  {
   "cell_type": "markdown",
   "metadata": {
    "colab_type": "text",
    "id": "FNRbbI3vVp-c"
   },
   "source": [
    "# 2. Какой из фильмов самый длительный (в минутах)?"
   ]
  },
  {
   "cell_type": "code",
   "execution_count": 8,
   "metadata": {
    "colab": {},
    "colab_type": "code",
    "id": "vHAoEXNTVp-d"
   },
   "outputs": [],
   "source": [
    "# думаю логику работы с этим словарем вы уже поняли, \n",
    "# по этому не буду больше его дублировать\n",
    "answers['2'] = '1157    Gods and Generals'\n"
   ]
  },
  {
   "cell_type": "code",
   "execution_count": 9,
   "metadata": {
    "colab": {},
    "colab_type": "code",
    "id": "ot-VX2XrVp-g"
   },
   "outputs": [
    {
     "data": {
      "text/plain": [
       "1157    Gods and Generals\n",
       "Name: original_title, dtype: object"
      ]
     },
     "execution_count": 9,
     "metadata": {},
     "output_type": "execute_result"
    }
   ],
   "source": [
    "data.original_title[data.runtime == data.runtime.max()]"
   ]
  },
  {
   "cell_type": "markdown",
   "metadata": {
    "colab_type": "text",
    "id": "bapLlpW8Vp-k"
   },
   "source": [
    "# 3. Какой из фильмов самый короткий (в минутах)?\n",
    "\n",
    "\n",
    "\n"
   ]
  },
  {
   "cell_type": "code",
   "execution_count": 10,
   "metadata": {
    "colab": {},
    "colab_type": "code",
    "id": "YBxaSHuAVp-l"
   },
   "outputs": [],
   "source": [
    "answers['3'] = '768    Winnie the Pooh'"
   ]
  },
  {
   "cell_type": "code",
   "execution_count": 11,
   "metadata": {},
   "outputs": [
    {
     "data": {
      "text/plain": [
       "768    Winnie the Pooh\n",
       "Name: original_title, dtype: object"
      ]
     },
     "execution_count": 11,
     "metadata": {},
     "output_type": "execute_result"
    }
   ],
   "source": [
    "data.original_title[data.runtime == data.runtime.min()]"
   ]
  },
  {
   "cell_type": "markdown",
   "metadata": {
    "colab_type": "text",
    "id": "TfQbxbfNVp-p"
   },
   "source": [
    "# 4. Какова средняя длительность фильмов?\n"
   ]
  },
  {
   "cell_type": "code",
   "execution_count": 12,
   "metadata": {
    "colab": {},
    "colab_type": "code",
    "id": "5K6dKZYVVp-q"
   },
   "outputs": [],
   "source": [
    "answers['4'] = '110'"
   ]
  },
  {
   "cell_type": "code",
   "execution_count": 13,
   "metadata": {},
   "outputs": [
    {
     "data": {
      "text/plain": [
       "110"
      ]
     },
     "execution_count": 13,
     "metadata": {},
     "output_type": "execute_result"
    }
   ],
   "source": [
    "round(data.runtime.mean())"
   ]
  },
  {
   "cell_type": "markdown",
   "metadata": {
    "colab_type": "text",
    "id": "r5TvbnT_Vp-u"
   },
   "source": [
    "# 5. Каково медианное значение длительности фильмов? "
   ]
  },
  {
   "cell_type": "code",
   "execution_count": 14,
   "metadata": {
    "colab": {},
    "colab_type": "code",
    "id": "iBROplKnVp-v"
   },
   "outputs": [],
   "source": [
    "answers['5'] = '107'"
   ]
  },
  {
   "cell_type": "code",
   "execution_count": 15,
   "metadata": {},
   "outputs": [
    {
     "data": {
      "text/plain": [
       "107"
      ]
     },
     "execution_count": 15,
     "metadata": {},
     "output_type": "execute_result"
    }
   ],
   "source": [
    "round(data.runtime.median())"
   ]
  },
  {
   "cell_type": "markdown",
   "metadata": {
    "colab_type": "text",
    "id": "39P-deDSVp-y"
   },
   "source": [
    "# 6. Какой самый прибыльный фильм?\n",
    "#### Внимание! Здесь и далее под «прибылью» или «убытками» понимается разность между сборами и бюджетом фильма. (прибыль = сборы - бюджет) в нашем датасете это будет (profit = revenue - budget) "
   ]
  },
  {
   "cell_type": "code",
   "execution_count": 16,
   "metadata": {
    "colab": {},
    "colab_type": "code",
    "id": "UYZh4T9WVp-y"
   },
   "outputs": [],
   "source": [
    "# лучше код получения столбца profit вынести в Предобработку что в начале"
   ]
  },
  {
   "cell_type": "code",
   "execution_count": 17,
   "metadata": {},
   "outputs": [],
   "source": [
    "answers['6'] = '239    Avatar'"
   ]
  },
  {
   "cell_type": "code",
   "execution_count": 18,
   "metadata": {},
   "outputs": [
    {
     "data": {
      "text/plain": [
       "239    Avatar\n",
       "Name: original_title, dtype: object"
      ]
     },
     "execution_count": 18,
     "metadata": {},
     "output_type": "execute_result"
    }
   ],
   "source": [
    "data.original_title[data.profit == data.profit.max()]"
   ]
  },
  {
   "cell_type": "markdown",
   "metadata": {
    "colab_type": "text",
    "id": "M99JmIX4Vp-2"
   },
   "source": [
    "# 7. Какой фильм самый убыточный? "
   ]
  },
  {
   "cell_type": "code",
   "execution_count": 19,
   "metadata": {
    "colab": {},
    "colab_type": "code",
    "id": "w-D2m4XPVp-3"
   },
   "outputs": [],
   "source": [
    "answers['7'] = '1245    The Lone Ranger'"
   ]
  },
  {
   "cell_type": "code",
   "execution_count": 20,
   "metadata": {},
   "outputs": [
    {
     "data": {
      "text/plain": [
       "1245    The Lone Ranger\n",
       "Name: original_title, dtype: object"
      ]
     },
     "execution_count": 20,
     "metadata": {},
     "output_type": "execute_result"
    }
   ],
   "source": [
    "data.original_title[data.profit == data.profit.min()]"
   ]
  },
  {
   "cell_type": "markdown",
   "metadata": {
    "colab_type": "text",
    "id": "wEOM5ERVVp-6"
   },
   "source": [
    "# 8. У скольких фильмов из датасета объем сборов оказался выше бюджета?"
   ]
  },
  {
   "cell_type": "code",
   "execution_count": 21,
   "metadata": {
    "colab": {},
    "colab_type": "code",
    "id": "y00_7HD6Vp-7"
   },
   "outputs": [],
   "source": [
    "answers['8'] = '1478'"
   ]
  },
  {
   "cell_type": "code",
   "execution_count": 22,
   "metadata": {},
   "outputs": [
    {
     "data": {
      "text/plain": [
       "1478"
      ]
     },
     "execution_count": 22,
     "metadata": {},
     "output_type": "execute_result"
    }
   ],
   "source": [
    "len(data.query('profit >0'))"
   ]
  },
  {
   "cell_type": "markdown",
   "metadata": {
    "colab_type": "text",
    "id": "xhpspA9KVp_A"
   },
   "source": [
    "# 9. Какой фильм оказался самым кассовым в 2008 году?"
   ]
  },
  {
   "cell_type": "code",
   "execution_count": 23,
   "metadata": {
    "colab": {},
    "colab_type": "code",
    "id": "MoUyQr9RVp_B"
   },
   "outputs": [],
   "source": [
    "answers['9'] = '599    The Dark Knight'"
   ]
  },
  {
   "cell_type": "code",
   "execution_count": 24,
   "metadata": {},
   "outputs": [
    {
     "data": {
      "text/plain": [
       "599    The Dark Knight\n",
       "Name: original_title, dtype: object"
      ]
     },
     "execution_count": 24,
     "metadata": {},
     "output_type": "execute_result"
    }
   ],
   "source": [
    "movie2008=data.query('release_year==2008' )\n",
    "movie2008.original_title[movie2008.profit == movie2008.profit.max()]"
   ]
  },
  {
   "cell_type": "markdown",
   "metadata": {
    "colab_type": "text",
    "id": "Zi4hDKidVp_F"
   },
   "source": [
    "# 10. Самый убыточный фильм за период с 2012 по 2014 г. (включительно)?\n"
   ]
  },
  {
   "cell_type": "code",
   "execution_count": 25,
   "metadata": {
    "colab": {},
    "colab_type": "code",
    "id": "XqyRmufJVp_F"
   },
   "outputs": [],
   "source": [
    "answers['10'] = '1245    The Lone Ranger'"
   ]
  },
  {
   "cell_type": "code",
   "execution_count": 26,
   "metadata": {},
   "outputs": [
    {
     "data": {
      "text/plain": [
       "1245    The Lone Ranger\n",
       "Name: original_title, dtype: object"
      ]
     },
     "execution_count": 26,
     "metadata": {},
     "output_type": "execute_result"
    }
   ],
   "source": [
    "movie2012_2014=data.query('2011<release_year<2015' )\n",
    "movie2012_2014.original_title[movie2012_2014.profit == movie2012_2014.profit.min()]"
   ]
  },
  {
   "cell_type": "markdown",
   "metadata": {
    "colab_type": "text",
    "id": "EA7Sa9dkVp_I"
   },
   "source": [
    "# 11. Какого жанра фильмов больше всего?"
   ]
  },
  {
   "cell_type": "code",
   "execution_count": 27,
   "metadata": {},
   "outputs": [],
   "source": [
    "answers['11'] = 'Drama'"
   ]
  },
  {
   "cell_type": "code",
   "execution_count": 28,
   "metadata": {
    "colab": {},
    "colab_type": "code",
    "id": "zsJAwJ8QVp_J"
   },
   "outputs": [],
   "source": [
    "# эту задачу тоже можно решать разными подходами, попробуй реализовать разные варианты\n",
    "# если будешь добавлять функцию - выноси ее в предобработку что в начале\n"
   ]
  },
  {
   "cell_type": "code",
   "execution_count": 29,
   "metadata": {},
   "outputs": [
    {
     "data": {
      "text/plain": [
       "582"
      ]
     },
     "execution_count": 29,
     "metadata": {},
     "output_type": "execute_result"
    }
   ],
   "source": [
    "len(data[data.genres.str.contains('Action',na=False)])"
   ]
  },
  {
   "cell_type": "code",
   "execution_count": 30,
   "metadata": {},
   "outputs": [
    {
     "data": {
      "text/plain": [
       "415"
      ]
     },
     "execution_count": 30,
     "metadata": {},
     "output_type": "execute_result"
    }
   ],
   "source": [
    "len(data[data.genres.str.contains('Adventure',na=False)])"
   ]
  },
  {
   "cell_type": "code",
   "execution_count": 31,
   "metadata": {},
   "outputs": [
    {
     "data": {
      "text/plain": [
       "782"
      ]
     },
     "execution_count": 31,
     "metadata": {},
     "output_type": "execute_result"
    }
   ],
   "source": [
    "len(data[data.genres.str.contains('Drama',na=False)])"
   ]
  },
  {
   "cell_type": "code",
   "execution_count": 32,
   "metadata": {},
   "outputs": [
    {
     "data": {
      "text/plain": [
       "683"
      ]
     },
     "execution_count": 32,
     "metadata": {},
     "output_type": "execute_result"
    }
   ],
   "source": [
    "len(data[data.genres.str.contains('Comedy',na=False)])"
   ]
  },
  {
   "cell_type": "code",
   "execution_count": 33,
   "metadata": {},
   "outputs": [
    {
     "data": {
      "text/plain": [
       "596"
      ]
     },
     "execution_count": 33,
     "metadata": {},
     "output_type": "execute_result"
    }
   ],
   "source": [
    "len(data[data.genres.str.contains('Thriller',na=False)])"
   ]
  },
  {
   "cell_type": "markdown",
   "metadata": {
    "colab_type": "text",
    "id": "Ax6g2C8SVp_M"
   },
   "source": [
    "ВАРИАНТ 2"
   ]
  },
  {
   "cell_type": "code",
   "execution_count": 34,
   "metadata": {
    "colab": {},
    "colab_type": "code",
    "id": "otO3SbrSVp_N"
   },
   "outputs": [
    {
     "name": "stdout",
     "output_type": "stream",
     "text": [
      "Counter({'Drama': 782, 'Comedy': 683, 'Thriller': 596, 'Action': 582, 'Adventure': 415, 'Crime': 315, 'Romance': 308, 'Family': 260, 'Science Fiction': 248, 'Fantasy': 222, 'Horror': 176, 'Mystery': 168, 'Animation': 139, 'Music': 64, 'History': 62, 'War': 58, 'Western': 19, 'Documentary': 8, 'Foreign': 2})\n"
     ]
    }
   ],
   "source": [
    "data['genres'] = data['genres'].apply(lambda x:x.split('|'))\n",
    "\n",
    "r=collections.Counter()\n",
    "for category in data['genres']:\n",
    "    for genre in category:\n",
    "        r[genre]+=1\n",
    "print(r)"
   ]
  },
  {
   "cell_type": "markdown",
   "metadata": {
    "colab_type": "text",
    "id": "T9_bPWpkVp_Q"
   },
   "source": [
    "# 12. Фильмы какого жанра чаще всего становятся прибыльными? "
   ]
  },
  {
   "cell_type": "code",
   "execution_count": 35,
   "metadata": {
    "colab": {},
    "colab_type": "code",
    "id": "Tmt8MaK1Vp_R"
   },
   "outputs": [],
   "source": [
    "answers['12'] = 'Drama'"
   ]
  },
  {
   "cell_type": "code",
   "execution_count": 36,
   "metadata": {},
   "outputs": [
    {
     "name": "stdout",
     "output_type": "stream",
     "text": [
      "Counter({'Drama': 560, 'Comedy': 551, 'Thriller': 446, 'Action': 444, 'Adventure': 337, 'Romance': 242, 'Crime': 231, 'Family': 226, 'Science Fiction': 195, 'Fantasy': 188, 'Horror': 150, 'Animation': 120, 'Mystery': 119, 'Music': 47, 'History': 46, 'War': 41, 'Western': 12, 'Documentary': 7})\n"
     ]
    }
   ],
   "source": [
    "data_p=data.query('profit >0')\n",
    "\n",
    "r=collections.Counter()\n",
    "for category in data_p['genres']:\n",
    "    for genre in category:\n",
    "        r[genre]+=1\n",
    "print(r)"
   ]
  },
  {
   "cell_type": "markdown",
   "metadata": {
    "colab_type": "text",
    "id": "0F23bgsDVp_U"
   },
   "source": [
    "# 13. У какого режиссера самые большие суммарные кассовые сбооры?"
   ]
  },
  {
   "cell_type": "code",
   "execution_count": 37,
   "metadata": {
    "colab": {},
    "colab_type": "code",
    "id": "K6Z3J8ygVp_X"
   },
   "outputs": [],
   "source": [
    "answers['13']='Peter Jackson'"
   ]
  },
  {
   "cell_type": "code",
   "execution_count": 38,
   "metadata": {},
   "outputs": [
    {
     "data": {
      "text/html": [
       "<div>\n",
       "<style scoped>\n",
       "    .dataframe tbody tr th:only-of-type {\n",
       "        vertical-align: middle;\n",
       "    }\n",
       "\n",
       "    .dataframe tbody tr th {\n",
       "        vertical-align: top;\n",
       "    }\n",
       "\n",
       "    .dataframe thead th {\n",
       "        text-align: right;\n",
       "    }\n",
       "</style>\n",
       "<table border=\"1\" class=\"dataframe\">\n",
       "  <thead>\n",
       "    <tr style=\"text-align: right;\">\n",
       "      <th></th>\n",
       "      <th>budget</th>\n",
       "      <th>revenue</th>\n",
       "      <th>runtime</th>\n",
       "      <th>vote_average</th>\n",
       "      <th>release_year</th>\n",
       "      <th>profit</th>\n",
       "    </tr>\n",
       "    <tr>\n",
       "      <th>director</th>\n",
       "      <th></th>\n",
       "      <th></th>\n",
       "      <th></th>\n",
       "      <th></th>\n",
       "      <th></th>\n",
       "      <th></th>\n",
       "    </tr>\n",
       "  </thead>\n",
       "  <tbody>\n",
       "    <tr>\n",
       "      <th>Peter Jackson</th>\n",
       "      <td>1288000000</td>\n",
       "      <td>6490593685</td>\n",
       "      <td>1355</td>\n",
       "      <td>58.1</td>\n",
       "      <td>16059</td>\n",
       "      <td>5202593685</td>\n",
       "    </tr>\n",
       "  </tbody>\n",
       "</table>\n",
       "</div>"
      ],
      "text/plain": [
       "                   budget     revenue  runtime  vote_average  release_year  \\\n",
       "director                                                                     \n",
       "Peter Jackson  1288000000  6490593685     1355          58.1         16059   \n",
       "\n",
       "                   profit  \n",
       "director                   \n",
       "Peter Jackson  5202593685  "
      ]
     },
     "execution_count": 38,
     "metadata": {},
     "output_type": "execute_result"
    }
   ],
   "source": [
    "dir_revenue = data.groupby(['director']).sum()\n",
    "dir_revenue[dir_revenue['revenue']==dir_revenue['revenue'].max()]"
   ]
  },
  {
   "cell_type": "markdown",
   "metadata": {
    "colab_type": "text",
    "id": "PsYC9FgRVp_a"
   },
   "source": [
    "# 14. Какой режисер снял больше всего фильмов в стиле Action?"
   ]
  },
  {
   "cell_type": "code",
   "execution_count": 39,
   "metadata": {
    "colab": {},
    "colab_type": "code",
    "id": "wd2M-wHeVp_b"
   },
   "outputs": [],
   "source": [
    "answers['14'] = 'Robert Rodriguez 9'"
   ]
  },
  {
   "cell_type": "code",
   "execution_count": 40,
   "metadata": {},
   "outputs": [
    {
     "data": {
      "text/plain": [
       "[('Robert Rodriguez', 9)]"
      ]
     },
     "execution_count": 40,
     "metadata": {},
     "output_type": "execute_result"
    }
   ],
   "source": [
    "data = pd.read_csv('movie_bd_v5.csv')\n",
    "data2 = data[data.genres.str.contains('Action')]\n",
    "collections.Counter(data2['director'].str.cat(sep = '|').split('|')).most_common(1)"
   ]
  },
  {
   "cell_type": "markdown",
   "metadata": {
    "colab_type": "text",
    "id": "PQ0KciD7Vp_f"
   },
   "source": [
    "# 15. Фильмы с каким актером принесли самые высокие кассовые сборы в 2012 году? "
   ]
  },
  {
   "cell_type": "code",
   "execution_count": 41,
   "metadata": {
    "colab": {},
    "colab_type": "code",
    "id": "aga62oeKVp_g"
   },
   "outputs": [],
   "source": [
    "answers['15'] = '970       Chris Hemsworth'"
   ]
  },
  {
   "cell_type": "code",
   "execution_count": 42,
   "metadata": {},
   "outputs": [
    {
     "data": {
      "text/plain": [
       "970     Robert Downey Jr.\n",
       "970           Chris Evans\n",
       "970          Mark Ruffalo\n",
       "970       Chris Hemsworth\n",
       "970    Scarlett Johansson\n",
       "Name: cast, dtype: object"
      ]
     },
     "execution_count": 42,
     "metadata": {},
     "output_type": "execute_result"
    }
   ],
   "source": [
    "# Фомируем списки в столбце 'cast'\n",
    "data.cast = data.cast.apply(lambda x: x.split('|'))\n",
    "\n",
    "# Выбираем строки с 2012 годом, разрываем таблицу по столбцу  и выбираем фильмы с актерами по максимальным сборам.\n",
    "data_2012=data[data.release_year == 2012]\n",
    "data_2012ex=data_2012.explode('cast')\n",
    "data_2012ex['cast'][data_2012ex.revenue == data_2012ex.revenue.max()]"
   ]
  },
  {
   "cell_type": "markdown",
   "metadata": {
    "colab_type": "text",
    "id": "mWHyyL7QVp_j"
   },
   "source": [
    "# 16. Какой актер снялся в большем количестве высокобюджетных фильмов?"
   ]
  },
  {
   "cell_type": "code",
   "execution_count": 43,
   "metadata": {
    "colab": {},
    "colab_type": "code",
    "id": "qQtmHKTFVp_k"
   },
   "outputs": [],
   "source": [
    "answers['16'] = 'Matt Damon'"
   ]
  },
  {
   "cell_type": "code",
   "execution_count": 44,
   "metadata": {},
   "outputs": [
    {
     "data": {
      "text/plain": [
       "Matt Damon           18\n",
       "Adam Sandler         17\n",
       "Angelina Jolie       16\n",
       "Eddie Murphy         15\n",
       "Samuel L. Jackson    15\n",
       "                     ..\n",
       "Jeremy Irvine         1\n",
       "Tilda Swinton         1\n",
       "Roscoe Lee Browne     1\n",
       "Steve Blum            1\n",
       "Lily Tomlin           1\n",
       "Name: cast, Length: 1505, dtype: int64"
      ]
     },
     "execution_count": 44,
     "metadata": {},
     "output_type": "execute_result"
    }
   ],
   "source": [
    "data = pd.read_csv('movie_bd_v5.csv')\n",
    "\n",
    "# Фомируем списки в столбце 'cast'\n",
    "data.cast = data.cast.apply(lambda x: x.split('|'))\n",
    "\n",
    "# Формируем новую таблицу с бюджетами фильмов выше среднего.\n",
    "data_budg = data[data.budget>=data.budget.mean()]\n",
    "\n",
    "# Разрываем таблицу по столбцу 'cast' и считаем количество фильмов.\n",
    "data_budg_ex= data_budg.explode('cast')\n",
    "data_budg_ex['cast'].value_counts()"
   ]
  },
  {
   "cell_type": "markdown",
   "metadata": {
    "colab_type": "text",
    "id": "NIh6AaW5Vp_n"
   },
   "source": [
    "# 17. В фильмах какого жанра больше всего снимался Nicolas Cage? "
   ]
  },
  {
   "cell_type": "code",
   "execution_count": 45,
   "metadata": {
    "colab": {},
    "colab_type": "code",
    "id": "H74SJDIBVp_n"
   },
   "outputs": [],
   "source": [
    "answers['17'] = 'Action'"
   ]
  },
  {
   "cell_type": "code",
   "execution_count": 46,
   "metadata": {},
   "outputs": [
    {
     "data": {
      "text/plain": [
       "Action             17\n",
       "Thriller           15\n",
       "Drama              12\n",
       "Crime              10\n",
       "Fantasy             8\n",
       "Adventure           7\n",
       "Comedy              6\n",
       "Science Fiction     4\n",
       "Mystery             3\n",
       "Animation           3\n",
       "Family              3\n",
       "History             2\n",
       "Horror              1\n",
       "Romance             1\n",
       "War                 1\n",
       "Name: genres, dtype: int64"
      ]
     },
     "execution_count": 46,
     "metadata": {},
     "output_type": "execute_result"
    }
   ],
   "source": [
    "data = pd.read_csv('movie_bd_v5.csv')\n",
    "\n",
    "# Формируем списки в столбцах 'cast'и 'genres'\n",
    "data.cast = data.cast.apply(lambda x: x.split('|'))\n",
    "data.genres = data.genres.apply(lambda x: x.split('|'))\n",
    "\n",
    "# Разрываем таблицу по столбцу 'cast', и выбираем в ней Николаса Кейджа.\n",
    "data_exp= data.explode('cast')\n",
    "data_cage = data_exp[data_exp.cast == 'Nicolas Cage']\n",
    "\n",
    "# Разрываем полученную таблицу по столбцу'genres'  и считаем количество жанров.\n",
    "data_cage1 = data_cage.explode('genres')\n",
    "data_cage1['genres'].value_counts()"
   ]
  },
  {
   "cell_type": "markdown",
   "metadata": {
    "colab_type": "text",
    "id": "RqOmPRfWVp_q"
   },
   "source": [
    "# 18. Самый убыточный фильм от Paramount Pictures"
   ]
  },
  {
   "cell_type": "code",
   "execution_count": 47,
   "metadata": {
    "colab": {},
    "colab_type": "code",
    "id": "9E_B0Y96Vp_r"
   },
   "outputs": [],
   "source": [
    "answers['18'] = 'K-19: The Widowmaker'"
   ]
  },
  {
   "cell_type": "code",
   "execution_count": 48,
   "metadata": {},
   "outputs": [
    {
     "data": {
      "text/plain": [
       "925    K-19: The Widowmaker\n",
       "Name: original_title, dtype: object"
      ]
     },
     "execution_count": 48,
     "metadata": {},
     "output_type": "execute_result"
    }
   ],
   "source": [
    "data = pd.read_csv('movie_bd_v5.csv')\n",
    "data['profit'] = data.revenue - data.budget\n",
    "\n",
    "# Формируем списки из значений столбца 'production_companies'\n",
    "data.production_companies = data.production_companies.apply(lambda x: x.split('|'))\n",
    "\n",
    "# Разрываем таблицу по столбцу 'production_companies'\n",
    "data_comp_ex = data.explode('production_companies')\n",
    "\n",
    "# Выбираем компанию 'Paramount Pictures' и ее фильм с минимальным 'profit'\n",
    "data_comp_ex1 = data_comp_ex[data_comp_ex.production_companies == 'Paramount Pictures']\n",
    "data_comp_ex1['original_title'][data_comp_ex1['profit'] == data_comp_ex1['profit'].min()]"
   ]
  },
  {
   "cell_type": "markdown",
   "metadata": {
    "colab_type": "text",
    "id": "vS8Ur6ddVp_u"
   },
   "source": [
    "# 19. Какой год стал самым успешным по суммарным кассовым сборам?"
   ]
  },
  {
   "cell_type": "code",
   "execution_count": 49,
   "metadata": {
    "colab": {},
    "colab_type": "code",
    "id": "Dnbt4GdIVp_v"
   },
   "outputs": [],
   "source": [
    "answers['19'] = '2015'"
   ]
  },
  {
   "cell_type": "code",
   "execution_count": 50,
   "metadata": {},
   "outputs": [
    {
     "data": {
      "text/plain": [
       "Int64Index([2015], dtype='int64', name='release_year')"
      ]
     },
     "execution_count": 50,
     "metadata": {},
     "output_type": "execute_result"
    }
   ],
   "source": [
    "# Формируем сводную таблицу кассовых сборов фильмов от года\n",
    "df_pivot= data.pivot_table( index = 'release_year', values = 'revenue', aggfunc = 'sum')\n",
    "df_pivot.index[df_pivot.revenue == df_pivot.revenue.max()]"
   ]
  },
  {
   "cell_type": "markdown",
   "metadata": {
    "colab_type": "text",
    "id": "JAzJh4QAVp_z"
   },
   "source": [
    "# 20. Какой самый прибыльный год для студии Warner Bros?"
   ]
  },
  {
   "cell_type": "code",
   "execution_count": 51,
   "metadata": {
    "colab": {},
    "colab_type": "code",
    "id": "wgVu02DEVp_0"
   },
   "outputs": [],
   "source": [
    "answers['20'] = '2014'"
   ]
  },
  {
   "cell_type": "code",
   "execution_count": 52,
   "metadata": {},
   "outputs": [
    {
     "data": {
      "text/plain": [
       "Int64Index([2014], dtype='int64', name='release_year')"
      ]
     },
     "execution_count": 52,
     "metadata": {},
     "output_type": "execute_result"
    }
   ],
   "source": [
    "data = pd.read_csv('movie_bd_v5.csv')\n",
    "data['profit'] = data.revenue - data.budget\n",
    "\n",
    "# Формируем новую таблицу только с 'Warner Bros'\n",
    "data_warner = data[data.production_companies.str.contains('Warner Bros')]\n",
    "\n",
    "# Формируем сводную таблицу прибыльности фильмов от года\n",
    "data_year = data_warner.pivot_table(index ='release_year',values = 'profit', aggfunc='sum')\n",
    "data_year.index[data_year.profit == data_year.profit.max()]"
   ]
  },
  {
   "cell_type": "markdown",
   "metadata": {
    "colab_type": "text",
    "id": "8Im1S2HRVp_4"
   },
   "source": [
    "# 21. В каком месяце за все годы суммарно вышло больше всего фильмов?"
   ]
  },
  {
   "cell_type": "code",
   "execution_count": 53,
   "metadata": {
    "colab": {},
    "colab_type": "code",
    "id": "lev6TH7gVp_4"
   },
   "outputs": [],
   "source": [
    "answers['21'] = '9 - сентябрь'"
   ]
  },
  {
   "cell_type": "code",
   "execution_count": null,
   "metadata": {},
   "outputs": [],
   "source": []
  },
  {
   "cell_type": "code",
   "execution_count": 54,
   "metadata": {},
   "outputs": [
    {
     "data": {
      "text/plain": [
       "9     227\n",
       "12    190\n",
       "10    186\n",
       "8     161\n",
       "3     156\n",
       "4     149\n",
       "6     147\n",
       "11    146\n",
       "7     142\n",
       "5     140\n",
       "2     135\n",
       "1     110\n",
       "dtype: int64"
      ]
     },
     "execution_count": 54,
     "metadata": {},
     "output_type": "execute_result"
    }
   ],
   "source": [
    "def sort(row):\n",
    "    '''Функция принимает значение столбца 'release_date' и возвращает номер месяца'''\n",
    "    k=row['release_date']\n",
    "    k1=k.split('/')\n",
    "    month=int(k1[0])\n",
    "    return month   \n",
    "\n",
    "data = pd.read_csv('movie_bd_v5.csv')\n",
    "data.apply(sort, axis=1).value_counts()"
   ]
  },
  {
   "cell_type": "markdown",
   "metadata": {
    "colab_type": "text",
    "id": "uAJsZ_NeVp_7"
   },
   "source": [
    "# 22. Сколько суммарно вышло фильмов летом? (за июнь, июль, август)"
   ]
  },
  {
   "cell_type": "code",
   "execution_count": 55,
   "metadata": {
    "colab": {},
    "colab_type": "code",
    "id": "Aa-hEREoVp_8"
   },
   "outputs": [],
   "source": [
    "answers['22'] = '450'"
   ]
  },
  {
   "cell_type": "code",
   "execution_count": 56,
   "metadata": {},
   "outputs": [
    {
     "data": {
      "text/plain": [
       "450"
      ]
     },
     "execution_count": 56,
     "metadata": {},
     "output_type": "execute_result"
    }
   ],
   "source": [
    "\n",
    "data= pd.read_csv('movie_bd_v5.csv')\n",
    "\n",
    "summer = data.apply(sort, axis=1).value_counts()\n",
    "summer_films= summer[6]+summer[7]+summer[8] # Считаем сколько летних фильмов.\n",
    "summer_films"
   ]
  },
  {
   "cell_type": "markdown",
   "metadata": {
    "colab_type": "text",
    "id": "G94ppOY1VqAA"
   },
   "source": [
    "# 23. Для какого режиссера зима – самое продуктивное время года? "
   ]
  },
  {
   "cell_type": "code",
   "execution_count": 57,
   "metadata": {
    "colab": {},
    "colab_type": "code",
    "id": "RhNTsamuVqAB"
   },
   "outputs": [],
   "source": [
    "answers['23'] = 'Peter Jackson'"
   ]
  },
  {
   "cell_type": "code",
   "execution_count": 58,
   "metadata": {},
   "outputs": [
    {
     "data": {
      "text/plain": [
       "Peter Jackson            7\n",
       "Clint Eastwood           6\n",
       "Steven Soderbergh        6\n",
       "Nancy Meyers             4\n",
       "Shawn Levy               4\n",
       "                        ..\n",
       "Jonathan van Tulleken    1\n",
       "Xavier Palud             1\n",
       "John Hamburg             1\n",
       "Carl Rinsch              1\n",
       "Malcolm D. Lee           1\n",
       "Name: director, Length: 358, dtype: int64"
      ]
     },
     "execution_count": 58,
     "metadata": {},
     "output_type": "execute_result"
    }
   ],
   "source": [
    "def sort(row):\n",
    "    '''Функция принимает значение столбца 'release_date' и возвращает номер месяца'''\n",
    "    k=row['release_date']\n",
    "    k1=k.split(',')\n",
    "    month=int(k1[0])\n",
    "    return month \n",
    "\n",
    "\n",
    "def winter(row):\n",
    "    ''' Функция принимает значение столбца  и решает зимний он или нет, если зимний возвращает 1, если нет 0'''\n",
    "    if row['month'] == 12 or row['month'] == 1 or row['month'] ==2:\n",
    "        month =1\n",
    "    else:\n",
    "        month =0\n",
    "    return month\n",
    "\n",
    "\n",
    "data= pd.read_csv('movie_bd_v5.csv')\n",
    "data.director = data.director.apply(lambda x: x.split('|'))# Превращаем значения столбца в списки\n",
    "data_expl = data.explode('director')\n",
    "\n",
    "# Выделяем из столбца с датой месяц и формируем новый столбец \n",
    "data_expl.release_date = data_expl.release_date.apply(lambda x: x.replace('/',','))\n",
    "data_expl['month'] = data_expl.apply(sort, axis =1 )\n",
    "\n",
    "# Выясняем сколько рабочих зимних месяцев у каждого режиссера:\n",
    "data_expl['month'] = data_expl.apply(winter, axis =1)\n",
    "data_expl1=data_expl.query('month ==1')\n",
    "data_expl1['director'].value_counts()"
   ]
  },
  {
   "cell_type": "markdown",
   "metadata": {
    "colab_type": "text",
    "id": "RBo0JVjVVqAF"
   },
   "source": [
    "# 24. Какая студия дает самые длинные названия своим фильмам по количеству символов?"
   ]
  },
  {
   "cell_type": "code",
   "execution_count": 59,
   "metadata": {
    "colab": {},
    "colab_type": "code",
    "id": "QRGS8L0iVqAG"
   },
   "outputs": [],
   "source": [
    "answers['24'] = 'Four By Two Productions'"
   ]
  },
  {
   "cell_type": "code",
   "execution_count": 60,
   "metadata": {},
   "outputs": [
    {
     "data": {
      "text/plain": [
       "1448    Twentieth Century Fox Film Corporation\n",
       "1448                   Four By Two Productions\n",
       "Name: production_companies, dtype: object"
      ]
     },
     "execution_count": 60,
     "metadata": {},
     "output_type": "execute_result"
    }
   ],
   "source": [
    "def len_title(row):\n",
    "    '''Функция принимает значение из столбца 'original_title', убирает пробелы и возвращает количество символов в строке'''\n",
    "    word=row['original_title'].replace(' ','')\n",
    "    l=len(word)\n",
    "    return l\n",
    "\n",
    "data= pd.read_csv('movie_bd_v5.csv')\n",
    "data['len_title'] = data.apply(len_title, axis =1)\n",
    "data.production_companies = data.production_companies.apply(lambda x: x.split('|'))#Превращаем значения столбца в списки\n",
    "data_expl = data.explode('production_companies')\n",
    "data_expl.production_companies[data_expl.len_title ==data_expl.len_title.max()]\n"
   ]
  },
  {
   "cell_type": "code",
   "execution_count": 61,
   "metadata": {},
   "outputs": [
    {
     "name": "stdout",
     "output_type": "stream",
     "text": [
      "1448    Twentieth Century Fox Film Corporation|Four By...\n",
      "Name: production_companies, dtype: object\n"
     ]
    }
   ],
   "source": [
    "# ВАРИАНТ2\n",
    "def func_len(row):\n",
    "    '''Функция принимает значение из столбца 'original_title',  и возвращает количество символов в строке'''\n",
    "    k = str(row['original_title'])\n",
    "    l = len(k)\n",
    "    return l\n",
    "\n",
    "\n",
    "data= pd.read_csv('movie_bd_v5.csv')\n",
    "data['len_title1'] = data.apply(func_len, axis =1)\n",
    "print(data['production_companies'][data.len_title1==data.len_title1.max()])"
   ]
  },
  {
   "cell_type": "markdown",
   "metadata": {
    "colab_type": "text",
    "id": "9G0hbvR7VqAK"
   },
   "source": [
    "# 25. Описание фильмов какой студии в среднем самые длинные по количеству слов?"
   ]
  },
  {
   "cell_type": "code",
   "execution_count": 62,
   "metadata": {
    "colab": {},
    "colab_type": "code",
    "id": "Ge2GsLNxVqAK"
   },
   "outputs": [],
   "source": [
    "answers['25'] = 'Midnight Picture Show'"
   ]
  },
  {
   "cell_type": "code",
   "execution_count": 63,
   "metadata": {},
   "outputs": [
    {
     "data": {
      "text/html": [
       "<div>\n",
       "<style scoped>\n",
       "    .dataframe tbody tr th:only-of-type {\n",
       "        vertical-align: middle;\n",
       "    }\n",
       "\n",
       "    .dataframe tbody tr th {\n",
       "        vertical-align: top;\n",
       "    }\n",
       "\n",
       "    .dataframe thead th {\n",
       "        text-align: right;\n",
       "    }\n",
       "</style>\n",
       "<table border=\"1\" class=\"dataframe\">\n",
       "  <thead>\n",
       "    <tr style=\"text-align: right;\">\n",
       "      <th></th>\n",
       "      <th>len_overview</th>\n",
       "    </tr>\n",
       "    <tr>\n",
       "      <th>production_companies</th>\n",
       "      <th></th>\n",
       "    </tr>\n",
       "  </thead>\n",
       "  <tbody>\n",
       "    <tr>\n",
       "      <th>Midnight Picture Show</th>\n",
       "      <td>175.0</td>\n",
       "    </tr>\n",
       "    <tr>\n",
       "      <th>Room 9 Entertainment</th>\n",
       "      <td>161.0</td>\n",
       "    </tr>\n",
       "    <tr>\n",
       "      <th>Heineken Branded Entertainment</th>\n",
       "      <td>159.0</td>\n",
       "    </tr>\n",
       "    <tr>\n",
       "      <th>98 MPH Productions</th>\n",
       "      <td>159.0</td>\n",
       "    </tr>\n",
       "    <tr>\n",
       "      <th>Brookwell-McNamara Entertainment</th>\n",
       "      <td>156.0</td>\n",
       "    </tr>\n",
       "    <tr>\n",
       "      <th>...</th>\n",
       "      <td>...</td>\n",
       "    </tr>\n",
       "    <tr>\n",
       "      <th>Henceforth</th>\n",
       "      <td>13.0</td>\n",
       "    </tr>\n",
       "    <tr>\n",
       "      <th>Our Stories Films</th>\n",
       "      <td>13.0</td>\n",
       "    </tr>\n",
       "    <tr>\n",
       "      <th>London Boulevard</th>\n",
       "      <td>13.0</td>\n",
       "    </tr>\n",
       "    <tr>\n",
       "      <th>Motion Picture Corporation of America</th>\n",
       "      <td>11.0</td>\n",
       "    </tr>\n",
       "    <tr>\n",
       "      <th>Empire Pictures</th>\n",
       "      <td>11.0</td>\n",
       "    </tr>\n",
       "  </tbody>\n",
       "</table>\n",
       "<p>1771 rows × 1 columns</p>\n",
       "</div>"
      ],
      "text/plain": [
       "                                       len_overview\n",
       "production_companies                               \n",
       "Midnight Picture Show                         175.0\n",
       "Room 9 Entertainment                          161.0\n",
       "Heineken Branded Entertainment                159.0\n",
       "98 MPH Productions                            159.0\n",
       "Brookwell-McNamara Entertainment              156.0\n",
       "...                                             ...\n",
       "Henceforth                                     13.0\n",
       "Our Stories Films                              13.0\n",
       "London Boulevard                               13.0\n",
       "Motion Picture Corporation of America          11.0\n",
       "Empire Pictures                                11.0\n",
       "\n",
       "[1771 rows x 1 columns]"
      ]
     },
     "execution_count": 63,
     "metadata": {},
     "output_type": "execute_result"
    }
   ],
   "source": [
    "def len_ov(row):\n",
    "    '''Функция принимает значение из столбца 'overview', и возвращает количество слов в строке'''\n",
    "    l=len(row['overview'].split())\n",
    "    return l\n",
    "\n",
    "\n",
    "data= pd.read_csv('movie_bd_v5.csv')\n",
    "data.production_companies = data.production_companies.apply(lambda x: x.split('|'))# Превращем названия компаний в списки \n",
    "data_expl = data.explode('production_companies')# Разрываем таблицу по столбцу'production_companies' , теперь у каждой компании есть свои признаки\n",
    "data_expl['len_overview'] = data.apply(len_ov,axis=1)\n",
    "comp_mean =data_expl.pivot_table(index='production_companies',values='len_overview',aggfunc='mean')# Формируем новую таблицу со средними длинами названий.\n",
    "df_sorted = comp_mean.sort_values('len_overview', ascending=False)\n",
    "df_sorted"
   ]
  },
  {
   "cell_type": "markdown",
   "metadata": {
    "colab_type": "text",
    "id": "FJ1AFt90VqAP"
   },
   "source": [
    "# 26. Какие фильмы входят в 1 процент лучших по рейтингу? \n",
    "по vote_average"
   ]
  },
  {
   "cell_type": "code",
   "execution_count": 64,
   "metadata": {
    "colab": {},
    "colab_type": "code",
    "id": "8qmJVq4CVqAQ"
   },
   "outputs": [],
   "source": [
    "answers['26'] = 'Inside Out, The Dark Knight, 12 Years a Slave'"
   ]
  },
  {
   "cell_type": "code",
   "execution_count": 65,
   "metadata": {},
   "outputs": [
    {
     "name": "stdout",
     "output_type": "stream",
     "text": [
      "Введите названия фильмов для проверки: Inside Out, The Dark Knight, 12 Years a Slave\n",
      "Фильмы Inside Out, The Dark Knight, 12 Years a Slave, - входят в один процент лучших по рейтингу.\n"
     ]
    }
   ],
   "source": [
    "def count2(title):\n",
    "    '''Функция принимает значение из столбца 'original_title' отсортированной таблицы.\n",
    "    Сравнивает его с введенным с клавиатуры списком фильмов и выдает 1 если значения совпадают.'''\n",
    "    for i in range(0,len_films):\n",
    "        films1 = films[i].strip()\n",
    "        if title == films1:\n",
    "            return 1\n",
    "        \n",
    "    return 0\n",
    "\n",
    "data= pd.read_csv('movie_bd_v5.csv')\n",
    "\n",
    "# Формируем таблицу фильмов, которые входят в 1% лучших по рейтингу, используя квантилли\n",
    "data2 = data.sort_values('vote_average')[['original_title', 'vote_average']]\n",
    "data3=data2.query('vote_average >= vote_average.quantile(0.99)')\n",
    "    \n",
    "\n",
    "k=input('Введите названия фильмов для проверки: ')\n",
    "\n",
    "# Узнаем количество фильмов введеных с клавиатуры:\n",
    "films=k.split(',')\n",
    "len_films = len(films)\n",
    "\n",
    "# Формируем переменную где записана встречаемость введенных названий в 1% лучших по рейтингу фильмов\n",
    "films_in_table= data3['original_title'].apply(count2)\n",
    "\n",
    "# Проверяем, если все введенные с клавиатуры фильмы присутствуют в таблице, и выводим результат\n",
    "sum_data = sum(films_in_table)\n",
    "if sum_data == len_films:\n",
    "    print(f'Фильмы {k}, - входят в один процент лучших по рейтингу.')\n",
    "else:\n",
    "    print(f'Фильмы {k}, - не входят в один процент лучших по рейтингу.')\n",
    "\n",
    "# Фильмы для проверки: Inside Out, The Dark Knight, 12 Years a Slave\n",
    "                    # BloodRayne, The Adventures of Rocky & Bullwinkle"
   ]
  },
  {
   "cell_type": "markdown",
   "metadata": {
    "colab_type": "text",
    "id": "MdXsUXbCVqAV"
   },
   "source": [
    "# 27. Какие актеры чаще всего снимаются в одном фильме вместе?\n"
   ]
  },
  {
   "cell_type": "code",
   "execution_count": 66,
   "metadata": {},
   "outputs": [],
   "source": [
    "answers['27'] = 'Daniel Radcliffe & Rupert Grint'"
   ]
  },
  {
   "cell_type": "code",
   "execution_count": 67,
   "metadata": {},
   "outputs": [
    {
     "name": "stdout",
     "output_type": "stream",
     "text": [
      "Введите пару актеров: Daniel Radcliffe & Rupert Grint\n",
      " Актеры Daniel Radcliffe & Rupert Grint вместе снимаются в фильмах в фильмах 8 раз.\n"
     ]
    }
   ],
   "source": [
    "data= pd.read_csv('movie_bd_v5.csv')\n",
    "data.cast = data.cast.apply(lambda x: x.split('|')) # Формируем в ячейках столбца 'cast' списки актеров\n",
    "data2= data[['cast','original_title']] # Избавляемся от ненужных для решения столбцов.\n",
    "\n",
    "def count_j(row):\n",
    "    '''Функция принимает значение из столбца 'cast' сравнивает его с введенными с клавиатуры актерами и выдает  1 или 0'''\n",
    "    for name in row['cast']:\n",
    "        if name2   in row['cast'] and name3 in row['cast']:\n",
    "            return 1\n",
    "    return 0\n",
    "\n",
    "\n",
    "names = input('Введите пару актеров: ')\n",
    "# Выделяем имена актеров в отдельные переменные, избавляемся от возможных пробелов на концах.\n",
    "names1= names.split('&')\n",
    "name2=names1[0].strip()\n",
    "name3=names1[1].strip()\n",
    "\n",
    "\n",
    "# Вычисляем сколько раз пара актров играет в одном фильме.\n",
    "pair=sum(data2.apply(count_j, axis=1))\n",
    "print(f' Актеры {names} вместе снимаются в фильмах в фильмах {pair} раз.' )\n",
    "\n",
    "#Пары для проверки: Daniel Radcliffe & Rupert Grint, Adam Sandler & Kevin James"
   ]
  },
  {
   "cell_type": "markdown",
   "metadata": {
    "colab_type": "text",
    "id": "4ymnxEVoVqAW"
   },
   "source": [
    "ВАРИАНТ 2"
   ]
  },
  {
   "cell_type": "markdown",
   "metadata": {
    "colab_type": "text",
    "id": "U0nONFnGVqAX"
   },
   "source": [
    "# Submission"
   ]
  },
  {
   "cell_type": "code",
   "execution_count": 68,
   "metadata": {
    "colab": {},
    "colab_type": "code",
    "id": "IfcaRO9-VqAX",
    "outputId": "0f132912-32bb-4196-c98c-abfbc4ad5a5f"
   },
   "outputs": [
    {
     "data": {
      "text/plain": [
       "{'1': '723    Pirates of the Caribbean: On Stranger Tides',\n",
       " '2': '1157    Gods and Generals',\n",
       " '3': '768    Winnie the Pooh',\n",
       " '4': '110',\n",
       " '5': '107',\n",
       " '6': '239    Avatar',\n",
       " '7': '1245    The Lone Ranger',\n",
       " '8': '1478',\n",
       " '9': '599    The Dark Knight',\n",
       " '10': '1245    The Lone Ranger',\n",
       " '11': 'Drama',\n",
       " '12': 'Drama',\n",
       " '13': 'Peter Jackson',\n",
       " '14': 'Robert Rodriguez 9',\n",
       " '15': '970       Chris Hemsworth',\n",
       " '16': 'Matt Damon',\n",
       " '17': 'Action',\n",
       " '18': 'K-19: The Widowmaker',\n",
       " '19': '2015',\n",
       " '20': '2014',\n",
       " '21': '9 - сентябрь',\n",
       " '22': '450',\n",
       " '23': 'Peter Jackson',\n",
       " '24': 'Four By Two Productions',\n",
       " '25': 'Midnight Picture Show',\n",
       " '26': 'Inside Out, The Dark Knight, 12 Years a Slave',\n",
       " '27': 'Daniel Radcliffe & Rupert Grint'}"
      ]
     },
     "execution_count": 68,
     "metadata": {},
     "output_type": "execute_result"
    }
   ],
   "source": [
    "# в конце можно посмотреть свои ответы к каждому вопросу\n",
    "answers"
   ]
  },
  {
   "cell_type": "code",
   "execution_count": null,
   "metadata": {
    "colab": {},
    "colab_type": "code",
    "id": "SiRmHPl8VqAd"
   },
   "outputs": [
    {
     "data": {
      "text/plain": [
       "27"
      ]
     },
     "execution_count": 69,
     "metadata": {},
     "output_type": "execute_result"
    }
   ],
   "source": [
    "# и убедиться что ни чего не пропустил)\n",
    "len(answers)"
   ]
  },
  {
   "cell_type": "code",
   "execution_count": null,
   "metadata": {
    "colab": {},
    "colab_type": "code",
    "id": "uCfuTkRbVqAg"
   },
   "outputs": [],
   "source": []
  },
  {
   "cell_type": "code",
   "execution_count": null,
   "metadata": {
    "colab": {},
    "colab_type": "code",
    "id": "Vwx3NrkSVqAl"
   },
   "outputs": [],
   "source": []
  }
 ],
 "metadata": {
  "colab": {
   "name": "Copy of [SF-DST] Movies IMBD v4.1 TEMPLATE.ipynb",
   "provenance": []
  },
  "kernelspec": {
   "display_name": "Python 3",
   "language": "python",
   "name": "python3"
  },
  "language_info": {
   "codemirror_mode": {
    "name": "ipython",
    "version": 3
   },
   "file_extension": ".py",
   "mimetype": "text/x-python",
   "name": "python",
   "nbconvert_exporter": "python",
   "pygments_lexer": "ipython3",
   "version": "3.8.3"
  }
 },
 "nbformat": 4,
 "nbformat_minor": 1
}
